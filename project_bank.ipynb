{
 "cells": [
  {
   "cell_type": "code",
   "execution_count": 8,
   "metadata": {},
   "outputs": [],
   "source": [
    "import pandas as pd \n",
    "import numpy as np\n",
    "import matplotlib.pyplot as plt\n",
    "df=pd.read_csv('/Users/limoges/Documents/Datascience/Bank_project/german_credit_data.csv')\n",
    "df=df.drop(columns=['Unnamed: 0'])"
   ]
  },
  {
   "cell_type": "code",
   "execution_count": 19,
   "metadata": {},
   "outputs": [
    {
     "data": {
      "text/html": [
       "\n",
       "<style>\n",
       ".titre {\n",
       "    font-size: 3rem;\n",
       "    font-family:'Georgia';\n",
       "    color: white;\n",
       "    text-align: center;\n",
       "    text-shadow: 2px 2px 4px #000000;\n",
       "    letter-spacing: 0.1rem;\n",
       "    background-image: linear-gradient(to right, #f6e8fb, #cf94ed, #cf94ed);\n",
       "    border-radius: 10px;\n",
       "    padding: 10px;\n",
       "    transition: all 0.5s ease;\n",
       "}\n",
       "\n",
       ".titre:hover {\n",
       "    letter-spacing: 0.2rem;\n",
       "    text-shadow: 2px 2px 4px #000000;\n",
       "\n",
       "}\n",
       "</style>\n",
       "<h1 class=\"titre\">DATA EXPLORATION </h1>\n"
      ],
      "text/plain": [
       "<IPython.core.display.HTML object>"
      ]
     },
     "metadata": {},
     "output_type": "display_data"
    }
   ],
   "source": [
    "from IPython.display import HTML\n",
    "\n",
    "html_code = \"\"\"\n",
    "<style>\n",
    ".titre {\n",
    "    font-size: 3rem;\n",
    "    font-family:'Georgia';\n",
    "    color: white;\n",
    "    text-align: center;\n",
    "    text-shadow: 2px 2px 4px #000000;\n",
    "    letter-spacing: 0.1rem;\n",
    "    background-image: linear-gradient(to right, #f6e8fb, #cf94ed, #cf94ed);\n",
    "    border-radius: 10px;\n",
    "    padding: 10px;\n",
    "    transition: all 0.5s ease;\n",
    "}\n",
    "\n",
    ".titre:hover {\n",
    "    letter-spacing: 0.2rem;\n",
    "    text-shadow: 2px 2px 4px #000000;\n",
    "\n",
    "}\n",
    "</style>\n",
    "<h1 class=\"titre\">DATA EXPLORATION </h1>\n",
    "\"\"\"\n",
    "\n",
    "display(HTML(html_code))\n"
   ]
  },
  {
   "cell_type": "code",
   "execution_count": 10,
   "metadata": {},
   "outputs": [
    {
     "data": {
      "application/vnd.plotly.v1+json": {
       "config": {
        "plotlyServerURL": "https://plot.ly"
       },
       "data": [
        {
         "alignmentgroup": "True",
         "bingroup": "x",
         "hovertemplate": "Age=%{x}<br>count=%{y}<extra></extra>",
         "legendgroup": "",
         "marker": {
          "color": "#FF66CC",
          "pattern": {
           "shape": ""
          }
         },
         "name": "",
         "nbinsx": 30,
         "offsetgroup": "",
         "orientation": "v",
         "showlegend": false,
         "type": "histogram",
         "x": [
          67,
          22,
          49,
          45,
          53,
          35,
          53,
          35,
          61,
          28,
          25,
          24,
          22,
          60,
          28,
          32,
          53,
          25,
          44,
          31,
          48,
          44,
          48,
          44,
          26,
          36,
          39,
          42,
          34,
          63,
          36,
          27,
          30,
          57,
          33,
          25,
          31,
          37,
          37,
          24,
          30,
          26,
          44,
          24,
          58,
          35,
          39,
          23,
          39,
          28,
          29,
          30,
          25,
          31,
          57,
          26,
          52,
          31,
          23,
          23,
          27,
          50,
          61,
          25,
          26,
          48,
          29,
          22,
          37,
          25,
          30,
          46,
          51,
          41,
          40,
          66,
          34,
          51,
          39,
          22,
          44,
          47,
          24,
          58,
          52,
          29,
          27,
          47,
          30,
          28,
          56,
          54,
          33,
          20,
          54,
          58,
          61,
          34,
          36,
          36,
          41,
          24,
          24,
          35,
          26,
          39,
          39,
          32,
          30,
          35,
          31,
          23,
          28,
          25,
          35,
          47,
          30,
          27,
          23,
          36,
          25,
          41,
          24,
          63,
          27,
          30,
          40,
          30,
          34,
          29,
          24,
          29,
          27,
          47,
          21,
          38,
          27,
          66,
          35,
          44,
          27,
          30,
          27,
          22,
          23,
          30,
          39,
          51,
          28,
          46,
          42,
          38,
          24,
          29,
          36,
          20,
          48,
          45,
          38,
          34,
          36,
          30,
          36,
          70,
          36,
          32,
          33,
          20,
          25,
          31,
          33,
          26,
          34,
          33,
          26,
          53,
          42,
          52,
          31,
          65,
          28,
          30,
          40,
          50,
          36,
          31,
          74,
          68,
          20,
          33,
          54,
          34,
          36,
          29,
          21,
          34,
          28,
          27,
          36,
          40,
          52,
          27,
          26,
          21,
          38,
          38,
          43,
          26,
          21,
          55,
          33,
          45,
          50,
          66,
          51,
          39,
          31,
          23,
          24,
          64,
          26,
          23,
          30,
          32,
          30,
          27,
          27,
          53,
          22,
          22,
          26,
          51,
          35,
          25,
          42,
          30,
          23,
          61,
          35,
          39,
          29,
          51,
          24,
          27,
          35,
          25,
          52,
          35,
          26,
          22,
          39,
          46,
          24,
          35,
          24,
          27,
          35,
          29,
          23,
          57,
          27,
          55,
          36,
          57,
          32,
          37,
          36,
          38,
          45,
          25,
          32,
          37,
          36,
          28,
          34,
          32,
          26,
          49,
          32,
          29,
          23,
          50,
          49,
          63,
          37,
          35,
          26,
          31,
          49,
          48,
          26,
          28,
          44,
          56,
          46,
          26,
          20,
          45,
          43,
          32,
          54,
          42,
          37,
          49,
          44,
          33,
          24,
          33,
          24,
          22,
          40,
          25,
          26,
          25,
          29,
          31,
          38,
          48,
          32,
          27,
          28,
          32,
          34,
          28,
          36,
          39,
          49,
          34,
          31,
          28,
          75,
          30,
          24,
          24,
          23,
          44,
          23,
          24,
          28,
          31,
          24,
          26,
          25,
          33,
          37,
          43,
          23,
          23,
          34,
          32,
          23,
          29,
          38,
          28,
          46,
          23,
          49,
          26,
          28,
          23,
          61,
          37,
          36,
          21,
          25,
          36,
          27,
          22,
          42,
          40,
          36,
          33,
          23,
          63,
          60,
          37,
          34,
          36,
          57,
          52,
          39,
          38,
          25,
          26,
          26,
          25,
          21,
          40,
          27,
          27,
          30,
          19,
          39,
          31,
          31,
          32,
          55,
          46,
          46,
          43,
          39,
          28,
          27,
          27,
          43,
          22,
          43,
          27,
          26,
          28,
          20,
          35,
          42,
          40,
          35,
          35,
          33,
          23,
          31,
          33,
          20,
          30,
          47,
          34,
          25,
          21,
          29,
          46,
          20,
          55,
          74,
          29,
          36,
          33,
          25,
          25,
          23,
          37,
          65,
          26,
          39,
          30,
          29,
          41,
          30,
          41,
          34,
          35,
          55,
          61,
          30,
          29,
          34,
          35,
          31,
          29,
          36,
          35,
          27,
          32,
          37,
          36,
          34,
          38,
          34,
          63,
          29,
          32,
          26,
          35,
          22,
          23,
          28,
          36,
          33,
          26,
          24,
          25,
          39,
          44,
          23,
          26,
          57,
          30,
          44,
          47,
          52,
          62,
          35,
          26,
          26,
          42,
          27,
          38,
          39,
          20,
          29,
          40,
          32,
          28,
          27,
          42,
          49,
          38,
          24,
          27,
          36,
          34,
          28,
          45,
          26,
          32,
          26,
          20,
          54,
          37,
          40,
          23,
          43,
          36,
          44,
          24,
          53,
          23,
          26,
          30,
          31,
          42,
          31,
          41,
          32,
          28,
          41,
          26,
          25,
          33,
          75,
          37,
          42,
          45,
          23,
          60,
          31,
          34,
          61,
          43,
          37,
          32,
          24,
          35,
          23,
          45,
          34,
          27,
          67,
          22,
          28,
          29,
          27,
          31,
          49,
          24,
          29,
          37,
          37,
          23,
          36,
          34,
          41,
          31,
          23,
          38,
          26,
          22,
          27,
          24,
          27,
          33,
          27,
          27,
          30,
          49,
          26,
          33,
          52,
          20,
          36,
          21,
          47,
          60,
          58,
          42,
          36,
          20,
          40,
          32,
          23,
          36,
          31,
          32,
          45,
          30,
          34,
          28,
          23,
          22,
          74,
          50,
          33,
          45,
          22,
          48,
          29,
          22,
          22,
          48,
          27,
          37,
          21,
          49,
          27,
          32,
          38,
          22,
          65,
          35,
          41,
          29,
          36,
          64,
          28,
          44,
          23,
          19,
          25,
          47,
          28,
          21,
          34,
          26,
          27,
          38,
          40,
          33,
          32,
          27,
          32,
          26,
          38,
          40,
          50,
          37,
          45,
          42,
          35,
          22,
          41,
          37,
          28,
          41,
          23,
          23,
          50,
          35,
          50,
          27,
          34,
          27,
          43,
          47,
          27,
          31,
          42,
          24,
          41,
          26,
          33,
          24,
          64,
          26,
          56,
          37,
          33,
          47,
          31,
          34,
          27,
          30,
          35,
          31,
          25,
          25,
          29,
          44,
          28,
          50,
          29,
          38,
          24,
          40,
          29,
          46,
          47,
          41,
          32,
          35,
          24,
          25,
          25,
          37,
          32,
          35,
          46,
          25,
          27,
          63,
          40,
          32,
          31,
          31,
          34,
          24,
          24,
          66,
          21,
          41,
          47,
          25,
          59,
          36,
          33,
          21,
          44,
          28,
          37,
          29,
          23,
          35,
          45,
          26,
          32,
          23,
          41,
          22,
          30,
          28,
          23,
          37,
          26,
          33,
          49,
          23,
          23,
          25,
          55,
          32,
          74,
          39,
          31,
          35,
          59,
          24,
          24,
          30,
          27,
          40,
          31,
          31,
          28,
          63,
          26,
          25,
          36,
          52,
          66,
          25,
          37,
          25,
          38,
          67,
          25,
          60,
          31,
          23,
          60,
          35,
          40,
          38,
          50,
          27,
          39,
          41,
          27,
          51,
          32,
          22,
          51,
          22,
          54,
          35,
          54,
          48,
          24,
          35,
          24,
          24,
          26,
          65,
          55,
          26,
          26,
          28,
          24,
          54,
          46,
          54,
          62,
          24,
          43,
          26,
          27,
          24,
          41,
          47,
          35,
          30,
          33,
          36,
          47,
          38,
          44,
          23,
          29,
          42,
          25,
          48,
          21,
          23,
          63,
          46,
          29,
          28,
          23,
          50,
          47,
          35,
          68,
          28,
          59,
          57,
          33,
          43,
          35,
          32,
          45,
          33,
          40,
          28,
          29,
          26,
          27,
          28,
          35,
          32,
          25,
          20,
          27,
          42,
          37,
          24,
          40,
          46,
          26,
          24,
          29,
          40,
          36,
          28,
          27,
          36,
          38,
          48,
          36,
          65,
          43,
          53,
          34,
          23,
          34,
          40,
          43,
          46,
          38,
          34,
          29,
          31,
          28,
          35,
          33,
          42,
          43,
          44,
          42,
          40,
          36,
          20,
          24,
          27,
          46,
          33,
          34,
          25,
          25,
          28,
          31,
          32,
          32,
          68,
          33,
          39,
          28,
          37,
          22,
          30,
          55,
          46,
          21,
          39,
          58,
          43,
          24,
          22,
          30,
          42,
          23,
          30,
          28,
          30,
          42,
          46,
          45,
          31,
          31,
          42,
          46,
          30,
          30,
          38,
          43,
          31,
          40,
          24,
          28,
          26,
          29,
          57,
          49,
          37,
          45,
          30,
          30,
          47,
          29,
          35,
          22,
          26,
          23,
          54,
          29,
          40,
          22,
          43,
          29,
          36,
          33,
          57,
          64,
          42,
          47,
          25,
          49,
          33,
          28,
          26,
          30,
          25,
          33,
          64,
          29,
          48,
          37,
          34,
          23,
          30,
          50,
          31,
          40,
          38,
          23,
          27
         ],
         "xaxis": "x",
         "yaxis": "y"
        }
       ],
       "layout": {
        "barmode": "relative",
        "font": {
         "color": "white"
        },
        "legend": {
         "tracegroupgap": 0
        },
        "margin": {
         "t": 60
        },
        "paper_bgcolor": "rgba(0,0,0,0)",
        "plot_bgcolor": "rgba(0,0,0,0)",
        "template": {
         "data": {
          "bar": [
           {
            "error_x": {
             "color": "#f2f5fa"
            },
            "error_y": {
             "color": "#f2f5fa"
            },
            "marker": {
             "line": {
              "color": "rgb(17,17,17)",
              "width": 0.5
             },
             "pattern": {
              "fillmode": "overlay",
              "size": 10,
              "solidity": 0.2
             }
            },
            "type": "bar"
           }
          ],
          "barpolar": [
           {
            "marker": {
             "line": {
              "color": "rgb(17,17,17)",
              "width": 0.5
             },
             "pattern": {
              "fillmode": "overlay",
              "size": 10,
              "solidity": 0.2
             }
            },
            "type": "barpolar"
           }
          ],
          "carpet": [
           {
            "aaxis": {
             "endlinecolor": "#A2B1C6",
             "gridcolor": "#506784",
             "linecolor": "#506784",
             "minorgridcolor": "#506784",
             "startlinecolor": "#A2B1C6"
            },
            "baxis": {
             "endlinecolor": "#A2B1C6",
             "gridcolor": "#506784",
             "linecolor": "#506784",
             "minorgridcolor": "#506784",
             "startlinecolor": "#A2B1C6"
            },
            "type": "carpet"
           }
          ],
          "choropleth": [
           {
            "colorbar": {
             "outlinewidth": 0,
             "ticks": ""
            },
            "type": "choropleth"
           }
          ],
          "contour": [
           {
            "colorbar": {
             "outlinewidth": 0,
             "ticks": ""
            },
            "colorscale": [
             [
              0,
              "#0d0887"
             ],
             [
              0.1111111111111111,
              "#46039f"
             ],
             [
              0.2222222222222222,
              "#7201a8"
             ],
             [
              0.3333333333333333,
              "#9c179e"
             ],
             [
              0.4444444444444444,
              "#bd3786"
             ],
             [
              0.5555555555555556,
              "#d8576b"
             ],
             [
              0.6666666666666666,
              "#ed7953"
             ],
             [
              0.7777777777777778,
              "#fb9f3a"
             ],
             [
              0.8888888888888888,
              "#fdca26"
             ],
             [
              1,
              "#f0f921"
             ]
            ],
            "type": "contour"
           }
          ],
          "contourcarpet": [
           {
            "colorbar": {
             "outlinewidth": 0,
             "ticks": ""
            },
            "type": "contourcarpet"
           }
          ],
          "heatmap": [
           {
            "colorbar": {
             "outlinewidth": 0,
             "ticks": ""
            },
            "colorscale": [
             [
              0,
              "#0d0887"
             ],
             [
              0.1111111111111111,
              "#46039f"
             ],
             [
              0.2222222222222222,
              "#7201a8"
             ],
             [
              0.3333333333333333,
              "#9c179e"
             ],
             [
              0.4444444444444444,
              "#bd3786"
             ],
             [
              0.5555555555555556,
              "#d8576b"
             ],
             [
              0.6666666666666666,
              "#ed7953"
             ],
             [
              0.7777777777777778,
              "#fb9f3a"
             ],
             [
              0.8888888888888888,
              "#fdca26"
             ],
             [
              1,
              "#f0f921"
             ]
            ],
            "type": "heatmap"
           }
          ],
          "heatmapgl": [
           {
            "colorbar": {
             "outlinewidth": 0,
             "ticks": ""
            },
            "colorscale": [
             [
              0,
              "#0d0887"
             ],
             [
              0.1111111111111111,
              "#46039f"
             ],
             [
              0.2222222222222222,
              "#7201a8"
             ],
             [
              0.3333333333333333,
              "#9c179e"
             ],
             [
              0.4444444444444444,
              "#bd3786"
             ],
             [
              0.5555555555555556,
              "#d8576b"
             ],
             [
              0.6666666666666666,
              "#ed7953"
             ],
             [
              0.7777777777777778,
              "#fb9f3a"
             ],
             [
              0.8888888888888888,
              "#fdca26"
             ],
             [
              1,
              "#f0f921"
             ]
            ],
            "type": "heatmapgl"
           }
          ],
          "histogram": [
           {
            "marker": {
             "pattern": {
              "fillmode": "overlay",
              "size": 10,
              "solidity": 0.2
             }
            },
            "type": "histogram"
           }
          ],
          "histogram2d": [
           {
            "colorbar": {
             "outlinewidth": 0,
             "ticks": ""
            },
            "colorscale": [
             [
              0,
              "#0d0887"
             ],
             [
              0.1111111111111111,
              "#46039f"
             ],
             [
              0.2222222222222222,
              "#7201a8"
             ],
             [
              0.3333333333333333,
              "#9c179e"
             ],
             [
              0.4444444444444444,
              "#bd3786"
             ],
             [
              0.5555555555555556,
              "#d8576b"
             ],
             [
              0.6666666666666666,
              "#ed7953"
             ],
             [
              0.7777777777777778,
              "#fb9f3a"
             ],
             [
              0.8888888888888888,
              "#fdca26"
             ],
             [
              1,
              "#f0f921"
             ]
            ],
            "type": "histogram2d"
           }
          ],
          "histogram2dcontour": [
           {
            "colorbar": {
             "outlinewidth": 0,
             "ticks": ""
            },
            "colorscale": [
             [
              0,
              "#0d0887"
             ],
             [
              0.1111111111111111,
              "#46039f"
             ],
             [
              0.2222222222222222,
              "#7201a8"
             ],
             [
              0.3333333333333333,
              "#9c179e"
             ],
             [
              0.4444444444444444,
              "#bd3786"
             ],
             [
              0.5555555555555556,
              "#d8576b"
             ],
             [
              0.6666666666666666,
              "#ed7953"
             ],
             [
              0.7777777777777778,
              "#fb9f3a"
             ],
             [
              0.8888888888888888,
              "#fdca26"
             ],
             [
              1,
              "#f0f921"
             ]
            ],
            "type": "histogram2dcontour"
           }
          ],
          "mesh3d": [
           {
            "colorbar": {
             "outlinewidth": 0,
             "ticks": ""
            },
            "type": "mesh3d"
           }
          ],
          "parcoords": [
           {
            "line": {
             "colorbar": {
              "outlinewidth": 0,
              "ticks": ""
             }
            },
            "type": "parcoords"
           }
          ],
          "pie": [
           {
            "automargin": true,
            "type": "pie"
           }
          ],
          "scatter": [
           {
            "marker": {
             "line": {
              "color": "#283442"
             }
            },
            "type": "scatter"
           }
          ],
          "scatter3d": [
           {
            "line": {
             "colorbar": {
              "outlinewidth": 0,
              "ticks": ""
             }
            },
            "marker": {
             "colorbar": {
              "outlinewidth": 0,
              "ticks": ""
             }
            },
            "type": "scatter3d"
           }
          ],
          "scattercarpet": [
           {
            "marker": {
             "colorbar": {
              "outlinewidth": 0,
              "ticks": ""
             }
            },
            "type": "scattercarpet"
           }
          ],
          "scattergeo": [
           {
            "marker": {
             "colorbar": {
              "outlinewidth": 0,
              "ticks": ""
             }
            },
            "type": "scattergeo"
           }
          ],
          "scattergl": [
           {
            "marker": {
             "line": {
              "color": "#283442"
             }
            },
            "type": "scattergl"
           }
          ],
          "scattermapbox": [
           {
            "marker": {
             "colorbar": {
              "outlinewidth": 0,
              "ticks": ""
             }
            },
            "type": "scattermapbox"
           }
          ],
          "scatterpolar": [
           {
            "marker": {
             "colorbar": {
              "outlinewidth": 0,
              "ticks": ""
             }
            },
            "type": "scatterpolar"
           }
          ],
          "scatterpolargl": [
           {
            "marker": {
             "colorbar": {
              "outlinewidth": 0,
              "ticks": ""
             }
            },
            "type": "scatterpolargl"
           }
          ],
          "scatterternary": [
           {
            "marker": {
             "colorbar": {
              "outlinewidth": 0,
              "ticks": ""
             }
            },
            "type": "scatterternary"
           }
          ],
          "surface": [
           {
            "colorbar": {
             "outlinewidth": 0,
             "ticks": ""
            },
            "colorscale": [
             [
              0,
              "#0d0887"
             ],
             [
              0.1111111111111111,
              "#46039f"
             ],
             [
              0.2222222222222222,
              "#7201a8"
             ],
             [
              0.3333333333333333,
              "#9c179e"
             ],
             [
              0.4444444444444444,
              "#bd3786"
             ],
             [
              0.5555555555555556,
              "#d8576b"
             ],
             [
              0.6666666666666666,
              "#ed7953"
             ],
             [
              0.7777777777777778,
              "#fb9f3a"
             ],
             [
              0.8888888888888888,
              "#fdca26"
             ],
             [
              1,
              "#f0f921"
             ]
            ],
            "type": "surface"
           }
          ],
          "table": [
           {
            "cells": {
             "fill": {
              "color": "#506784"
             },
             "line": {
              "color": "rgb(17,17,17)"
             }
            },
            "header": {
             "fill": {
              "color": "#2a3f5f"
             },
             "line": {
              "color": "rgb(17,17,17)"
             }
            },
            "type": "table"
           }
          ]
         },
         "layout": {
          "annotationdefaults": {
           "arrowcolor": "#f2f5fa",
           "arrowhead": 0,
           "arrowwidth": 1
          },
          "autotypenumbers": "strict",
          "coloraxis": {
           "colorbar": {
            "outlinewidth": 0,
            "ticks": ""
           }
          },
          "colorscale": {
           "diverging": [
            [
             0,
             "#8e0152"
            ],
            [
             0.1,
             "#c51b7d"
            ],
            [
             0.2,
             "#de77ae"
            ],
            [
             0.3,
             "#f1b6da"
            ],
            [
             0.4,
             "#fde0ef"
            ],
            [
             0.5,
             "#f7f7f7"
            ],
            [
             0.6,
             "#e6f5d0"
            ],
            [
             0.7,
             "#b8e186"
            ],
            [
             0.8,
             "#7fbc41"
            ],
            [
             0.9,
             "#4d9221"
            ],
            [
             1,
             "#276419"
            ]
           ],
           "sequential": [
            [
             0,
             "#0d0887"
            ],
            [
             0.1111111111111111,
             "#46039f"
            ],
            [
             0.2222222222222222,
             "#7201a8"
            ],
            [
             0.3333333333333333,
             "#9c179e"
            ],
            [
             0.4444444444444444,
             "#bd3786"
            ],
            [
             0.5555555555555556,
             "#d8576b"
            ],
            [
             0.6666666666666666,
             "#ed7953"
            ],
            [
             0.7777777777777778,
             "#fb9f3a"
            ],
            [
             0.8888888888888888,
             "#fdca26"
            ],
            [
             1,
             "#f0f921"
            ]
           ],
           "sequentialminus": [
            [
             0,
             "#0d0887"
            ],
            [
             0.1111111111111111,
             "#46039f"
            ],
            [
             0.2222222222222222,
             "#7201a8"
            ],
            [
             0.3333333333333333,
             "#9c179e"
            ],
            [
             0.4444444444444444,
             "#bd3786"
            ],
            [
             0.5555555555555556,
             "#d8576b"
            ],
            [
             0.6666666666666666,
             "#ed7953"
            ],
            [
             0.7777777777777778,
             "#fb9f3a"
            ],
            [
             0.8888888888888888,
             "#fdca26"
            ],
            [
             1,
             "#f0f921"
            ]
           ]
          },
          "colorway": [
           "#636efa",
           "#EF553B",
           "#00cc96",
           "#ab63fa",
           "#FFA15A",
           "#19d3f3",
           "#FF6692",
           "#B6E880",
           "#FF97FF",
           "#FECB52"
          ],
          "font": {
           "color": "#f2f5fa"
          },
          "geo": {
           "bgcolor": "rgb(17,17,17)",
           "lakecolor": "rgb(17,17,17)",
           "landcolor": "rgb(17,17,17)",
           "showlakes": true,
           "showland": true,
           "subunitcolor": "#506784"
          },
          "hoverlabel": {
           "align": "left"
          },
          "hovermode": "closest",
          "mapbox": {
           "style": "dark"
          },
          "paper_bgcolor": "rgb(17,17,17)",
          "plot_bgcolor": "rgb(17,17,17)",
          "polar": {
           "angularaxis": {
            "gridcolor": "#506784",
            "linecolor": "#506784",
            "ticks": ""
           },
           "bgcolor": "rgb(17,17,17)",
           "radialaxis": {
            "gridcolor": "#506784",
            "linecolor": "#506784",
            "ticks": ""
           }
          },
          "scene": {
           "xaxis": {
            "backgroundcolor": "rgb(17,17,17)",
            "gridcolor": "#506784",
            "gridwidth": 2,
            "linecolor": "#506784",
            "showbackground": true,
            "ticks": "",
            "zerolinecolor": "#C8D4E3"
           },
           "yaxis": {
            "backgroundcolor": "rgb(17,17,17)",
            "gridcolor": "#506784",
            "gridwidth": 2,
            "linecolor": "#506784",
            "showbackground": true,
            "ticks": "",
            "zerolinecolor": "#C8D4E3"
           },
           "zaxis": {
            "backgroundcolor": "rgb(17,17,17)",
            "gridcolor": "#506784",
            "gridwidth": 2,
            "linecolor": "#506784",
            "showbackground": true,
            "ticks": "",
            "zerolinecolor": "#C8D4E3"
           }
          },
          "shapedefaults": {
           "line": {
            "color": "#f2f5fa"
           }
          },
          "sliderdefaults": {
           "bgcolor": "#C8D4E3",
           "bordercolor": "rgb(17,17,17)",
           "borderwidth": 1,
           "tickwidth": 0
          },
          "ternary": {
           "aaxis": {
            "gridcolor": "#506784",
            "linecolor": "#506784",
            "ticks": ""
           },
           "baxis": {
            "gridcolor": "#506784",
            "linecolor": "#506784",
            "ticks": ""
           },
           "bgcolor": "rgb(17,17,17)",
           "caxis": {
            "gridcolor": "#506784",
            "linecolor": "#506784",
            "ticks": ""
           }
          },
          "title": {
           "x": 0.05
          },
          "updatemenudefaults": {
           "bgcolor": "#506784",
           "borderwidth": 0
          },
          "xaxis": {
           "automargin": true,
           "gridcolor": "#283442",
           "linecolor": "#506784",
           "ticks": "",
           "title": {
            "standoff": 15
           },
           "zerolinecolor": "#283442",
           "zerolinewidth": 2
          },
          "yaxis": {
           "automargin": true,
           "gridcolor": "#283442",
           "linecolor": "#506784",
           "ticks": "",
           "title": {
            "standoff": 15
           },
           "zerolinecolor": "#283442",
           "zerolinewidth": 2
          }
         }
        },
        "xaxis": {
         "anchor": "y",
         "domain": [
          0,
          1
         ],
         "title": {
          "text": "Age"
         }
        },
        "yaxis": {
         "anchor": "x",
         "domain": [
          0,
          1
         ],
         "title": {
          "text": "count"
         }
        }
       }
      }
     },
     "metadata": {},
     "output_type": "display_data"
    },
    {
     "data": {
      "application/vnd.plotly.v1+json": {
       "config": {
        "plotlyServerURL": "https://plot.ly"
       },
       "data": [
        {
         "alignmentgroup": "True",
         "bingroup": "x",
         "hovertemplate": "Credit amount=%{x}<br>count=%{y}<extra></extra>",
         "legendgroup": "",
         "marker": {
          "color": "#FFA500",
          "pattern": {
           "shape": ""
          }
         },
         "name": "",
         "nbinsx": 30,
         "offsetgroup": "",
         "orientation": "v",
         "showlegend": false,
         "type": "histogram",
         "x": [
          1169,
          5951,
          2096,
          7882,
          4870,
          9055,
          2835,
          6948,
          3059,
          5234,
          1295,
          4308,
          1567,
          1199,
          1403,
          1282,
          2424,
          8072,
          12579,
          3430,
          2134,
          2647,
          2241,
          1804,
          2069,
          1374,
          426,
          409,
          2415,
          6836,
          1913,
          4020,
          5866,
          1264,
          1474,
          4746,
          6110,
          2100,
          1225,
          458,
          2333,
          1158,
          6204,
          6187,
          6143,
          1393,
          2299,
          1352,
          7228,
          2073,
          2333,
          5965,
          1262,
          3378,
          2225,
          783,
          6468,
          9566,
          1961,
          6229,
          1391,
          1537,
          1953,
          14421,
          3181,
          5190,
          2171,
          1007,
          1819,
          2394,
          8133,
          730,
          1164,
          5954,
          1977,
          1526,
          3965,
          4771,
          9436,
          3832,
          5943,
          1213,
          1568,
          1755,
          2315,
          1412,
          1295,
          12612,
          2249,
          1108,
          618,
          1409,
          797,
          3617,
          1318,
          15945,
          2012,
          2622,
          2337,
          7057,
          1469,
          2323,
          932,
          1919,
          2445,
          11938,
          6458,
          6078,
          7721,
          1410,
          1449,
          392,
          6260,
          7855,
          1680,
          3578,
          7174,
          2132,
          4281,
          2366,
          1835,
          3868,
          1768,
          781,
          1924,
          2121,
          701,
          639,
          1860,
          3499,
          8487,
          6887,
          2708,
          1984,
          10144,
          1240,
          8613,
          766,
          2728,
          1881,
          709,
          4795,
          3416,
          2462,
          2288,
          3566,
          860,
          682,
          5371,
          1582,
          1346,
          1924,
          5848,
          7758,
          6967,
          1282,
          1288,
          339,
          3512,
          1898,
          2872,
          1055,
          1262,
          7308,
          909,
          2978,
          1131,
          1577,
          3972,
          1935,
          950,
          763,
          2064,
          1414,
          3414,
          7485,
          2577,
          338,
          1963,
          571,
          9572,
          4455,
          1647,
          3777,
          884,
          1360,
          5129,
          1175,
          674,
          3244,
          4591,
          3844,
          3915,
          2108,
          3031,
          1501,
          1382,
          951,
          2760,
          4297,
          936,
          1168,
          5117,
          902,
          1495,
          10623,
          1935,
          1424,
          6568,
          1413,
          3074,
          3835,
          5293,
          1908,
          3342,
          932,
          3104,
          3913,
          3021,
          1364,
          625,
          1200,
          707,
          2978,
          4657,
          2613,
          10961,
          7865,
          1478,
          3149,
          4210,
          2507,
          2141,
          866,
          1544,
          1823,
          14555,
          2767,
          1291,
          2522,
          915,
          1595,
          4605,
          1185,
          3447,
          1258,
          717,
          1204,
          1925,
          433,
          666,
          2251,
          2150,
          4151,
          2030,
          7418,
          2684,
          2149,
          3812,
          1154,
          1657,
          1603,
          5302,
          2748,
          1231,
          802,
          6304,
          1533,
          8978,
          999,
          2662,
          1402,
          12169,
          3060,
          11998,
          2697,
          2404,
          1262,
          4611,
          1901,
          3368,
          1574,
          1445,
          1520,
          3878,
          10722,
          4788,
          7582,
          1092,
          1024,
          1076,
          9398,
          6419,
          4796,
          7629,
          9960,
          4675,
          1287,
          2515,
          2745,
          672,
          3804,
          1344,
          1038,
          10127,
          1543,
          4811,
          727,
          1237,
          276,
          5381,
          5511,
          3749,
          685,
          1494,
          2746,
          708,
          4351,
          701,
          3643,
          4249,
          1938,
          2910,
          2659,
          1028,
          3398,
          5801,
          1525,
          4473,
          1068,
          6615,
          1864,
          7408,
          11590,
          4110,
          3384,
          2101,
          1275,
          4169,
          1521,
          5743,
          3599,
          3213,
          4439,
          3949,
          1459,
          882,
          3758,
          1743,
          1136,
          1236,
          959,
          3229,
          6199,
          727,
          1246,
          2331,
          4463,
          776,
          2406,
          1239,
          3399,
          2247,
          1766,
          2473,
          1542,
          3850,
          3650,
          3446,
          3001,
          3079,
          6070,
          2146,
          13756,
          14782,
          7685,
          2320,
          846,
          14318,
          362,
          2212,
          12976,
          1283,
          1330,
          4272,
          2238,
          1126,
          7374,
          2326,
          1449,
          1820,
          983,
          3249,
          1957,
          2406,
          11760,
          2578,
          2348,
          1223,
          1516,
          1473,
          1887,
          8648,
          802,
          2899,
          2039,
          2197,
          1053,
          3235,
          939,
          1967,
          7253,
          2292,
          1597,
          1381,
          5842,
          2579,
          8471,
          2782,
          1042,
          3186,
          2028,
          958,
          1591,
          2762,
          2779,
          2743,
          1149,
          1313,
          1190,
          3448,
          11328,
          1872,
          2058,
          2136,
          1484,
          660,
          1287,
          3394,
          609,
          1884,
          1620,
          2629,
          719,
          5096,
          1244,
          1842,
          2576,
          1424,
          1512,
          11054,
          518,
          2759,
          2670,
          4817,
          2679,
          3905,
          3386,
          343,
          4594,
          3620,
          1721,
          3017,
          754,
          1950,
          2924,
          1659,
          7238,
          2764,
          4679,
          3092,
          448,
          654,
          1238,
          1245,
          3114,
          2569,
          5152,
          1037,
          1478,
          3573,
          1201,
          3622,
          960,
          1163,
          1209,
          3077,
          3757,
          1418,
          3518,
          1934,
          8318,
          1237,
          368,
          2122,
          2996,
          9034,
          1585,
          1301,
          1323,
          3123,
          5493,
          1126,
          1216,
          1207,
          1309,
          2360,
          6850,
          1413,
          8588,
          759,
          4686,
          2687,
          585,
          2255,
          609,
          1361,
          7127,
          1203,
          700,
          5507,
          3190,
          7119,
          3488,
          1113,
          7966,
          1532,
          1503,
          2302,
          662,
          2273,
          2631,
          1503,
          1311,
          3105,
          2319,
          1374,
          3612,
          7763,
          3049,
          1534,
          2032,
          6350,
          2864,
          1255,
          1333,
          2022,
          1552,
          626,
          8858,
          996,
          1750,
          6999,
          1995,
          1199,
          1331,
          2278,
          5003,
          3552,
          1928,
          2964,
          1546,
          683,
          12389,
          4712,
          1553,
          1372,
          2578,
          3979,
          6758,
          3234,
          5954,
          5433,
          806,
          1082,
          2788,
          2930,
          1927,
          2820,
          937,
          1056,
          3124,
          1388,
          2384,
          2133,
          2039,
          2799,
          1289,
          1217,
          2246,
          385,
          1965,
          1572,
          2718,
          1358,
          931,
          1442,
          4241,
          2775,
          3863,
          2329,
          918,
          1837,
          3349,
          1275,
          2828,
          4526,
          2671,
          2051,
          1300,
          741,
          1240,
          3357,
          3632,
          1808,
          12204,
          9157,
          3676,
          3441,
          640,
          3652,
          1530,
          3914,
          1858,
          2600,
          1979,
          2116,
          1437,
          4042,
          3832,
          3660,
          1553,
          1444,
          1980,
          1355,
          1393,
          1376,
          15653,
          1493,
          4370,
          750,
          1308,
          4623,
          1851,
          1880,
          7980,
          4583,
          1386,
          947,
          684,
          7476,
          1922,
          2303,
          8086,
          2346,
          3973,
          888,
          10222,
          4221,
          6361,
          1297,
          900,
          2241,
          1050,
          1047,
          6314,
          3496,
          3609,
          4843,
          3017,
          4139,
          5742,
          10366,
          2080,
          2580,
          4530,
          5150,
          5595,
          2384,
          1453,
          1538,
          2279,
          1478,
          5103,
          9857,
          6527,
          1347,
          2862,
          2753,
          3651,
          975,
          2631,
          2896,
          4716,
          2284,
          1236,
          1103,
          926,
          1800,
          1905,
          1123,
          6331,
          1377,
          2503,
          2528,
          5324,
          6560,
          2969,
          1206,
          2118,
          629,
          1198,
          2476,
          1138,
          14027,
          7596,
          3077,
          1505,
          3148,
          6148,
          1337,
          433,
          1228,
          790,
          2570,
          250,
          1316,
          1882,
          6416,
          1275,
          6403,
          1987,
          760,
          2603,
          3380,
          3990,
          11560,
          4380,
          6761,
          4280,
          2325,
          1048,
          3160,
          2483,
          14179,
          1797,
          2511,
          1274,
          5248,
          3029,
          428,
          976,
          841,
          5771,
          1555,
          1285,
          1299,
          1271,
          1393,
          691,
          5045,
          2124,
          2214,
          12680,
          2463,
          1155,
          3108,
          2901,
          3617,
          1655,
          2812,
          8065,
          3275,
          2223,
          1480,
          1371,
          3535,
          3509,
          5711,
          3872,
          4933,
          1940,
          1410,
          836,
          6468,
          1941,
          2675,
          2751,
          6224,
          5998,
          1188,
          6313,
          1221,
          2892,
          3062,
          2301,
          7511,
          1258,
          717,
          1549,
          1597,
          1795,
          4272,
          976,
          7472,
          9271,
          590,
          930,
          9283,
          1778,
          907,
          484,
          9629,
          3051,
          3931,
          7432,
          1338,
          1554,
          15857,
          1345,
          1101,
          3016,
          2712,
          731,
          3780,
          1602,
          3966,
          4165,
          8335,
          6681,
          2375,
          1216,
          11816,
          5084,
          2327,
          1082,
          886,
          601,
          2957,
          2611,
          5179,
          2993,
          1943,
          1559,
          3422,
          3976,
          6761,
          1249,
          1364,
          709,
          2235,
          4042,
          1471,
          1442,
          10875,
          1474,
          894,
          3343,
          3959,
          3577,
          5804,
          2169,
          2439,
          4526,
          2210,
          2221,
          2389,
          3331,
          7409,
          652,
          7678,
          1343,
          1382,
          874,
          3590,
          1322,
          1940,
          3595,
          1422,
          6742,
          7814,
          9277,
          2181,
          1098,
          4057,
          795,
          2825,
          15672,
          6614,
          7824,
          2442,
          1829,
          2171,
          5800,
          1169,
          8947,
          2606,
          1592,
          2186,
          4153,
          2625,
          3485,
          10477,
          1386,
          1278,
          1107,
          3763,
          3711,
          3594,
          3195,
          4454,
          4736,
          2991,
          2142,
          3161,
          18424,
          2848,
          14896,
          2359,
          3345,
          1817,
          12749,
          1366,
          2002,
          6872,
          697,
          1049,
          10297,
          1867,
          1344,
          1747,
          1670,
          1224,
          522,
          1498,
          1919,
          745,
          2063,
          6288,
          6842,
          3527,
          1546,
          929,
          1455,
          1845,
          8358,
          3349,
          2859,
          1533,
          3621,
          3590,
          2145,
          4113,
          10974,
          1893,
          1231,
          3656,
          1154,
          4006,
          3069,
          1740,
          2353,
          3556,
          2397,
          454,
          1715,
          2520,
          3568,
          7166,
          3939,
          1514,
          7393,
          1193,
          7297,
          2831,
          1258,
          753,
          2427,
          2538,
          1264,
          8386,
          4844,
          2923,
          8229,
          2028,
          1433,
          6289,
          1409,
          6579,
          1743,
          3565,
          1569,
          1936,
          3959,
          2390,
          1736,
          3857,
          804,
          1845,
          4576
         ],
         "xaxis": "x",
         "yaxis": "y"
        }
       ],
       "layout": {
        "barmode": "relative",
        "font": {
         "color": "white"
        },
        "legend": {
         "tracegroupgap": 0
        },
        "margin": {
         "t": 60
        },
        "paper_bgcolor": "rgba(0,0,0,0)",
        "plot_bgcolor": "rgba(0,0,0,0)",
        "template": {
         "data": {
          "bar": [
           {
            "error_x": {
             "color": "#f2f5fa"
            },
            "error_y": {
             "color": "#f2f5fa"
            },
            "marker": {
             "line": {
              "color": "rgb(17,17,17)",
              "width": 0.5
             },
             "pattern": {
              "fillmode": "overlay",
              "size": 10,
              "solidity": 0.2
             }
            },
            "type": "bar"
           }
          ],
          "barpolar": [
           {
            "marker": {
             "line": {
              "color": "rgb(17,17,17)",
              "width": 0.5
             },
             "pattern": {
              "fillmode": "overlay",
              "size": 10,
              "solidity": 0.2
             }
            },
            "type": "barpolar"
           }
          ],
          "carpet": [
           {
            "aaxis": {
             "endlinecolor": "#A2B1C6",
             "gridcolor": "#506784",
             "linecolor": "#506784",
             "minorgridcolor": "#506784",
             "startlinecolor": "#A2B1C6"
            },
            "baxis": {
             "endlinecolor": "#A2B1C6",
             "gridcolor": "#506784",
             "linecolor": "#506784",
             "minorgridcolor": "#506784",
             "startlinecolor": "#A2B1C6"
            },
            "type": "carpet"
           }
          ],
          "choropleth": [
           {
            "colorbar": {
             "outlinewidth": 0,
             "ticks": ""
            },
            "type": "choropleth"
           }
          ],
          "contour": [
           {
            "colorbar": {
             "outlinewidth": 0,
             "ticks": ""
            },
            "colorscale": [
             [
              0,
              "#0d0887"
             ],
             [
              0.1111111111111111,
              "#46039f"
             ],
             [
              0.2222222222222222,
              "#7201a8"
             ],
             [
              0.3333333333333333,
              "#9c179e"
             ],
             [
              0.4444444444444444,
              "#bd3786"
             ],
             [
              0.5555555555555556,
              "#d8576b"
             ],
             [
              0.6666666666666666,
              "#ed7953"
             ],
             [
              0.7777777777777778,
              "#fb9f3a"
             ],
             [
              0.8888888888888888,
              "#fdca26"
             ],
             [
              1,
              "#f0f921"
             ]
            ],
            "type": "contour"
           }
          ],
          "contourcarpet": [
           {
            "colorbar": {
             "outlinewidth": 0,
             "ticks": ""
            },
            "type": "contourcarpet"
           }
          ],
          "heatmap": [
           {
            "colorbar": {
             "outlinewidth": 0,
             "ticks": ""
            },
            "colorscale": [
             [
              0,
              "#0d0887"
             ],
             [
              0.1111111111111111,
              "#46039f"
             ],
             [
              0.2222222222222222,
              "#7201a8"
             ],
             [
              0.3333333333333333,
              "#9c179e"
             ],
             [
              0.4444444444444444,
              "#bd3786"
             ],
             [
              0.5555555555555556,
              "#d8576b"
             ],
             [
              0.6666666666666666,
              "#ed7953"
             ],
             [
              0.7777777777777778,
              "#fb9f3a"
             ],
             [
              0.8888888888888888,
              "#fdca26"
             ],
             [
              1,
              "#f0f921"
             ]
            ],
            "type": "heatmap"
           }
          ],
          "heatmapgl": [
           {
            "colorbar": {
             "outlinewidth": 0,
             "ticks": ""
            },
            "colorscale": [
             [
              0,
              "#0d0887"
             ],
             [
              0.1111111111111111,
              "#46039f"
             ],
             [
              0.2222222222222222,
              "#7201a8"
             ],
             [
              0.3333333333333333,
              "#9c179e"
             ],
             [
              0.4444444444444444,
              "#bd3786"
             ],
             [
              0.5555555555555556,
              "#d8576b"
             ],
             [
              0.6666666666666666,
              "#ed7953"
             ],
             [
              0.7777777777777778,
              "#fb9f3a"
             ],
             [
              0.8888888888888888,
              "#fdca26"
             ],
             [
              1,
              "#f0f921"
             ]
            ],
            "type": "heatmapgl"
           }
          ],
          "histogram": [
           {
            "marker": {
             "pattern": {
              "fillmode": "overlay",
              "size": 10,
              "solidity": 0.2
             }
            },
            "type": "histogram"
           }
          ],
          "histogram2d": [
           {
            "colorbar": {
             "outlinewidth": 0,
             "ticks": ""
            },
            "colorscale": [
             [
              0,
              "#0d0887"
             ],
             [
              0.1111111111111111,
              "#46039f"
             ],
             [
              0.2222222222222222,
              "#7201a8"
             ],
             [
              0.3333333333333333,
              "#9c179e"
             ],
             [
              0.4444444444444444,
              "#bd3786"
             ],
             [
              0.5555555555555556,
              "#d8576b"
             ],
             [
              0.6666666666666666,
              "#ed7953"
             ],
             [
              0.7777777777777778,
              "#fb9f3a"
             ],
             [
              0.8888888888888888,
              "#fdca26"
             ],
             [
              1,
              "#f0f921"
             ]
            ],
            "type": "histogram2d"
           }
          ],
          "histogram2dcontour": [
           {
            "colorbar": {
             "outlinewidth": 0,
             "ticks": ""
            },
            "colorscale": [
             [
              0,
              "#0d0887"
             ],
             [
              0.1111111111111111,
              "#46039f"
             ],
             [
              0.2222222222222222,
              "#7201a8"
             ],
             [
              0.3333333333333333,
              "#9c179e"
             ],
             [
              0.4444444444444444,
              "#bd3786"
             ],
             [
              0.5555555555555556,
              "#d8576b"
             ],
             [
              0.6666666666666666,
              "#ed7953"
             ],
             [
              0.7777777777777778,
              "#fb9f3a"
             ],
             [
              0.8888888888888888,
              "#fdca26"
             ],
             [
              1,
              "#f0f921"
             ]
            ],
            "type": "histogram2dcontour"
           }
          ],
          "mesh3d": [
           {
            "colorbar": {
             "outlinewidth": 0,
             "ticks": ""
            },
            "type": "mesh3d"
           }
          ],
          "parcoords": [
           {
            "line": {
             "colorbar": {
              "outlinewidth": 0,
              "ticks": ""
             }
            },
            "type": "parcoords"
           }
          ],
          "pie": [
           {
            "automargin": true,
            "type": "pie"
           }
          ],
          "scatter": [
           {
            "marker": {
             "line": {
              "color": "#283442"
             }
            },
            "type": "scatter"
           }
          ],
          "scatter3d": [
           {
            "line": {
             "colorbar": {
              "outlinewidth": 0,
              "ticks": ""
             }
            },
            "marker": {
             "colorbar": {
              "outlinewidth": 0,
              "ticks": ""
             }
            },
            "type": "scatter3d"
           }
          ],
          "scattercarpet": [
           {
            "marker": {
             "colorbar": {
              "outlinewidth": 0,
              "ticks": ""
             }
            },
            "type": "scattercarpet"
           }
          ],
          "scattergeo": [
           {
            "marker": {
             "colorbar": {
              "outlinewidth": 0,
              "ticks": ""
             }
            },
            "type": "scattergeo"
           }
          ],
          "scattergl": [
           {
            "marker": {
             "line": {
              "color": "#283442"
             }
            },
            "type": "scattergl"
           }
          ],
          "scattermapbox": [
           {
            "marker": {
             "colorbar": {
              "outlinewidth": 0,
              "ticks": ""
             }
            },
            "type": "scattermapbox"
           }
          ],
          "scatterpolar": [
           {
            "marker": {
             "colorbar": {
              "outlinewidth": 0,
              "ticks": ""
             }
            },
            "type": "scatterpolar"
           }
          ],
          "scatterpolargl": [
           {
            "marker": {
             "colorbar": {
              "outlinewidth": 0,
              "ticks": ""
             }
            },
            "type": "scatterpolargl"
           }
          ],
          "scatterternary": [
           {
            "marker": {
             "colorbar": {
              "outlinewidth": 0,
              "ticks": ""
             }
            },
            "type": "scatterternary"
           }
          ],
          "surface": [
           {
            "colorbar": {
             "outlinewidth": 0,
             "ticks": ""
            },
            "colorscale": [
             [
              0,
              "#0d0887"
             ],
             [
              0.1111111111111111,
              "#46039f"
             ],
             [
              0.2222222222222222,
              "#7201a8"
             ],
             [
              0.3333333333333333,
              "#9c179e"
             ],
             [
              0.4444444444444444,
              "#bd3786"
             ],
             [
              0.5555555555555556,
              "#d8576b"
             ],
             [
              0.6666666666666666,
              "#ed7953"
             ],
             [
              0.7777777777777778,
              "#fb9f3a"
             ],
             [
              0.8888888888888888,
              "#fdca26"
             ],
             [
              1,
              "#f0f921"
             ]
            ],
            "type": "surface"
           }
          ],
          "table": [
           {
            "cells": {
             "fill": {
              "color": "#506784"
             },
             "line": {
              "color": "rgb(17,17,17)"
             }
            },
            "header": {
             "fill": {
              "color": "#2a3f5f"
             },
             "line": {
              "color": "rgb(17,17,17)"
             }
            },
            "type": "table"
           }
          ]
         },
         "layout": {
          "annotationdefaults": {
           "arrowcolor": "#f2f5fa",
           "arrowhead": 0,
           "arrowwidth": 1
          },
          "autotypenumbers": "strict",
          "coloraxis": {
           "colorbar": {
            "outlinewidth": 0,
            "ticks": ""
           }
          },
          "colorscale": {
           "diverging": [
            [
             0,
             "#8e0152"
            ],
            [
             0.1,
             "#c51b7d"
            ],
            [
             0.2,
             "#de77ae"
            ],
            [
             0.3,
             "#f1b6da"
            ],
            [
             0.4,
             "#fde0ef"
            ],
            [
             0.5,
             "#f7f7f7"
            ],
            [
             0.6,
             "#e6f5d0"
            ],
            [
             0.7,
             "#b8e186"
            ],
            [
             0.8,
             "#7fbc41"
            ],
            [
             0.9,
             "#4d9221"
            ],
            [
             1,
             "#276419"
            ]
           ],
           "sequential": [
            [
             0,
             "#0d0887"
            ],
            [
             0.1111111111111111,
             "#46039f"
            ],
            [
             0.2222222222222222,
             "#7201a8"
            ],
            [
             0.3333333333333333,
             "#9c179e"
            ],
            [
             0.4444444444444444,
             "#bd3786"
            ],
            [
             0.5555555555555556,
             "#d8576b"
            ],
            [
             0.6666666666666666,
             "#ed7953"
            ],
            [
             0.7777777777777778,
             "#fb9f3a"
            ],
            [
             0.8888888888888888,
             "#fdca26"
            ],
            [
             1,
             "#f0f921"
            ]
           ],
           "sequentialminus": [
            [
             0,
             "#0d0887"
            ],
            [
             0.1111111111111111,
             "#46039f"
            ],
            [
             0.2222222222222222,
             "#7201a8"
            ],
            [
             0.3333333333333333,
             "#9c179e"
            ],
            [
             0.4444444444444444,
             "#bd3786"
            ],
            [
             0.5555555555555556,
             "#d8576b"
            ],
            [
             0.6666666666666666,
             "#ed7953"
            ],
            [
             0.7777777777777778,
             "#fb9f3a"
            ],
            [
             0.8888888888888888,
             "#fdca26"
            ],
            [
             1,
             "#f0f921"
            ]
           ]
          },
          "colorway": [
           "#636efa",
           "#EF553B",
           "#00cc96",
           "#ab63fa",
           "#FFA15A",
           "#19d3f3",
           "#FF6692",
           "#B6E880",
           "#FF97FF",
           "#FECB52"
          ],
          "font": {
           "color": "#f2f5fa"
          },
          "geo": {
           "bgcolor": "rgb(17,17,17)",
           "lakecolor": "rgb(17,17,17)",
           "landcolor": "rgb(17,17,17)",
           "showlakes": true,
           "showland": true,
           "subunitcolor": "#506784"
          },
          "hoverlabel": {
           "align": "left"
          },
          "hovermode": "closest",
          "mapbox": {
           "style": "dark"
          },
          "paper_bgcolor": "rgb(17,17,17)",
          "plot_bgcolor": "rgb(17,17,17)",
          "polar": {
           "angularaxis": {
            "gridcolor": "#506784",
            "linecolor": "#506784",
            "ticks": ""
           },
           "bgcolor": "rgb(17,17,17)",
           "radialaxis": {
            "gridcolor": "#506784",
            "linecolor": "#506784",
            "ticks": ""
           }
          },
          "scene": {
           "xaxis": {
            "backgroundcolor": "rgb(17,17,17)",
            "gridcolor": "#506784",
            "gridwidth": 2,
            "linecolor": "#506784",
            "showbackground": true,
            "ticks": "",
            "zerolinecolor": "#C8D4E3"
           },
           "yaxis": {
            "backgroundcolor": "rgb(17,17,17)",
            "gridcolor": "#506784",
            "gridwidth": 2,
            "linecolor": "#506784",
            "showbackground": true,
            "ticks": "",
            "zerolinecolor": "#C8D4E3"
           },
           "zaxis": {
            "backgroundcolor": "rgb(17,17,17)",
            "gridcolor": "#506784",
            "gridwidth": 2,
            "linecolor": "#506784",
            "showbackground": true,
            "ticks": "",
            "zerolinecolor": "#C8D4E3"
           }
          },
          "shapedefaults": {
           "line": {
            "color": "#f2f5fa"
           }
          },
          "sliderdefaults": {
           "bgcolor": "#C8D4E3",
           "bordercolor": "rgb(17,17,17)",
           "borderwidth": 1,
           "tickwidth": 0
          },
          "ternary": {
           "aaxis": {
            "gridcolor": "#506784",
            "linecolor": "#506784",
            "ticks": ""
           },
           "baxis": {
            "gridcolor": "#506784",
            "linecolor": "#506784",
            "ticks": ""
           },
           "bgcolor": "rgb(17,17,17)",
           "caxis": {
            "gridcolor": "#506784",
            "linecolor": "#506784",
            "ticks": ""
           }
          },
          "title": {
           "x": 0.05
          },
          "updatemenudefaults": {
           "bgcolor": "#506784",
           "borderwidth": 0
          },
          "xaxis": {
           "automargin": true,
           "gridcolor": "#283442",
           "linecolor": "#506784",
           "ticks": "",
           "title": {
            "standoff": 15
           },
           "zerolinecolor": "#283442",
           "zerolinewidth": 2
          },
          "yaxis": {
           "automargin": true,
           "gridcolor": "#283442",
           "linecolor": "#506784",
           "ticks": "",
           "title": {
            "standoff": 15
           },
           "zerolinecolor": "#283442",
           "zerolinewidth": 2
          }
         }
        },
        "xaxis": {
         "anchor": "y",
         "domain": [
          0,
          1
         ],
         "title": {
          "text": "Credit amount"
         }
        },
        "yaxis": {
         "anchor": "x",
         "domain": [
          0,
          1
         ],
         "title": {
          "text": "count"
         }
        }
       }
      }
     },
     "metadata": {},
     "output_type": "display_data"
    },
    {
     "data": {
      "application/vnd.plotly.v1+json": {
       "config": {
        "plotlyServerURL": "https://plot.ly"
       },
       "data": [
        {
         "hovertemplate": "Age=%{x}<br>Credit amount=%{y}<extra></extra>",
         "legendgroup": "",
         "marker": {
          "color": "#636efa",
          "symbol": "circle"
         },
         "mode": "markers",
         "name": "",
         "orientation": "v",
         "showlegend": false,
         "type": "scatter",
         "x": [
          67,
          22,
          49,
          45,
          53,
          35,
          53,
          35,
          61,
          28,
          25,
          24,
          22,
          60,
          28,
          32,
          53,
          25,
          44,
          31,
          48,
          44,
          48,
          44,
          26,
          36,
          39,
          42,
          34,
          63,
          36,
          27,
          30,
          57,
          33,
          25,
          31,
          37,
          37,
          24,
          30,
          26,
          44,
          24,
          58,
          35,
          39,
          23,
          39,
          28,
          29,
          30,
          25,
          31,
          57,
          26,
          52,
          31,
          23,
          23,
          27,
          50,
          61,
          25,
          26,
          48,
          29,
          22,
          37,
          25,
          30,
          46,
          51,
          41,
          40,
          66,
          34,
          51,
          39,
          22,
          44,
          47,
          24,
          58,
          52,
          29,
          27,
          47,
          30,
          28,
          56,
          54,
          33,
          20,
          54,
          58,
          61,
          34,
          36,
          36,
          41,
          24,
          24,
          35,
          26,
          39,
          39,
          32,
          30,
          35,
          31,
          23,
          28,
          25,
          35,
          47,
          30,
          27,
          23,
          36,
          25,
          41,
          24,
          63,
          27,
          30,
          40,
          30,
          34,
          29,
          24,
          29,
          27,
          47,
          21,
          38,
          27,
          66,
          35,
          44,
          27,
          30,
          27,
          22,
          23,
          30,
          39,
          51,
          28,
          46,
          42,
          38,
          24,
          29,
          36,
          20,
          48,
          45,
          38,
          34,
          36,
          30,
          36,
          70,
          36,
          32,
          33,
          20,
          25,
          31,
          33,
          26,
          34,
          33,
          26,
          53,
          42,
          52,
          31,
          65,
          28,
          30,
          40,
          50,
          36,
          31,
          74,
          68,
          20,
          33,
          54,
          34,
          36,
          29,
          21,
          34,
          28,
          27,
          36,
          40,
          52,
          27,
          26,
          21,
          38,
          38,
          43,
          26,
          21,
          55,
          33,
          45,
          50,
          66,
          51,
          39,
          31,
          23,
          24,
          64,
          26,
          23,
          30,
          32,
          30,
          27,
          27,
          53,
          22,
          22,
          26,
          51,
          35,
          25,
          42,
          30,
          23,
          61,
          35,
          39,
          29,
          51,
          24,
          27,
          35,
          25,
          52,
          35,
          26,
          22,
          39,
          46,
          24,
          35,
          24,
          27,
          35,
          29,
          23,
          57,
          27,
          55,
          36,
          57,
          32,
          37,
          36,
          38,
          45,
          25,
          32,
          37,
          36,
          28,
          34,
          32,
          26,
          49,
          32,
          29,
          23,
          50,
          49,
          63,
          37,
          35,
          26,
          31,
          49,
          48,
          26,
          28,
          44,
          56,
          46,
          26,
          20,
          45,
          43,
          32,
          54,
          42,
          37,
          49,
          44,
          33,
          24,
          33,
          24,
          22,
          40,
          25,
          26,
          25,
          29,
          31,
          38,
          48,
          32,
          27,
          28,
          32,
          34,
          28,
          36,
          39,
          49,
          34,
          31,
          28,
          75,
          30,
          24,
          24,
          23,
          44,
          23,
          24,
          28,
          31,
          24,
          26,
          25,
          33,
          37,
          43,
          23,
          23,
          34,
          32,
          23,
          29,
          38,
          28,
          46,
          23,
          49,
          26,
          28,
          23,
          61,
          37,
          36,
          21,
          25,
          36,
          27,
          22,
          42,
          40,
          36,
          33,
          23,
          63,
          60,
          37,
          34,
          36,
          57,
          52,
          39,
          38,
          25,
          26,
          26,
          25,
          21,
          40,
          27,
          27,
          30,
          19,
          39,
          31,
          31,
          32,
          55,
          46,
          46,
          43,
          39,
          28,
          27,
          27,
          43,
          22,
          43,
          27,
          26,
          28,
          20,
          35,
          42,
          40,
          35,
          35,
          33,
          23,
          31,
          33,
          20,
          30,
          47,
          34,
          25,
          21,
          29,
          46,
          20,
          55,
          74,
          29,
          36,
          33,
          25,
          25,
          23,
          37,
          65,
          26,
          39,
          30,
          29,
          41,
          30,
          41,
          34,
          35,
          55,
          61,
          30,
          29,
          34,
          35,
          31,
          29,
          36,
          35,
          27,
          32,
          37,
          36,
          34,
          38,
          34,
          63,
          29,
          32,
          26,
          35,
          22,
          23,
          28,
          36,
          33,
          26,
          24,
          25,
          39,
          44,
          23,
          26,
          57,
          30,
          44,
          47,
          52,
          62,
          35,
          26,
          26,
          42,
          27,
          38,
          39,
          20,
          29,
          40,
          32,
          28,
          27,
          42,
          49,
          38,
          24,
          27,
          36,
          34,
          28,
          45,
          26,
          32,
          26,
          20,
          54,
          37,
          40,
          23,
          43,
          36,
          44,
          24,
          53,
          23,
          26,
          30,
          31,
          42,
          31,
          41,
          32,
          28,
          41,
          26,
          25,
          33,
          75,
          37,
          42,
          45,
          23,
          60,
          31,
          34,
          61,
          43,
          37,
          32,
          24,
          35,
          23,
          45,
          34,
          27,
          67,
          22,
          28,
          29,
          27,
          31,
          49,
          24,
          29,
          37,
          37,
          23,
          36,
          34,
          41,
          31,
          23,
          38,
          26,
          22,
          27,
          24,
          27,
          33,
          27,
          27,
          30,
          49,
          26,
          33,
          52,
          20,
          36,
          21,
          47,
          60,
          58,
          42,
          36,
          20,
          40,
          32,
          23,
          36,
          31,
          32,
          45,
          30,
          34,
          28,
          23,
          22,
          74,
          50,
          33,
          45,
          22,
          48,
          29,
          22,
          22,
          48,
          27,
          37,
          21,
          49,
          27,
          32,
          38,
          22,
          65,
          35,
          41,
          29,
          36,
          64,
          28,
          44,
          23,
          19,
          25,
          47,
          28,
          21,
          34,
          26,
          27,
          38,
          40,
          33,
          32,
          27,
          32,
          26,
          38,
          40,
          50,
          37,
          45,
          42,
          35,
          22,
          41,
          37,
          28,
          41,
          23,
          23,
          50,
          35,
          50,
          27,
          34,
          27,
          43,
          47,
          27,
          31,
          42,
          24,
          41,
          26,
          33,
          24,
          64,
          26,
          56,
          37,
          33,
          47,
          31,
          34,
          27,
          30,
          35,
          31,
          25,
          25,
          29,
          44,
          28,
          50,
          29,
          38,
          24,
          40,
          29,
          46,
          47,
          41,
          32,
          35,
          24,
          25,
          25,
          37,
          32,
          35,
          46,
          25,
          27,
          63,
          40,
          32,
          31,
          31,
          34,
          24,
          24,
          66,
          21,
          41,
          47,
          25,
          59,
          36,
          33,
          21,
          44,
          28,
          37,
          29,
          23,
          35,
          45,
          26,
          32,
          23,
          41,
          22,
          30,
          28,
          23,
          37,
          26,
          33,
          49,
          23,
          23,
          25,
          55,
          32,
          74,
          39,
          31,
          35,
          59,
          24,
          24,
          30,
          27,
          40,
          31,
          31,
          28,
          63,
          26,
          25,
          36,
          52,
          66,
          25,
          37,
          25,
          38,
          67,
          25,
          60,
          31,
          23,
          60,
          35,
          40,
          38,
          50,
          27,
          39,
          41,
          27,
          51,
          32,
          22,
          51,
          22,
          54,
          35,
          54,
          48,
          24,
          35,
          24,
          24,
          26,
          65,
          55,
          26,
          26,
          28,
          24,
          54,
          46,
          54,
          62,
          24,
          43,
          26,
          27,
          24,
          41,
          47,
          35,
          30,
          33,
          36,
          47,
          38,
          44,
          23,
          29,
          42,
          25,
          48,
          21,
          23,
          63,
          46,
          29,
          28,
          23,
          50,
          47,
          35,
          68,
          28,
          59,
          57,
          33,
          43,
          35,
          32,
          45,
          33,
          40,
          28,
          29,
          26,
          27,
          28,
          35,
          32,
          25,
          20,
          27,
          42,
          37,
          24,
          40,
          46,
          26,
          24,
          29,
          40,
          36,
          28,
          27,
          36,
          38,
          48,
          36,
          65,
          43,
          53,
          34,
          23,
          34,
          40,
          43,
          46,
          38,
          34,
          29,
          31,
          28,
          35,
          33,
          42,
          43,
          44,
          42,
          40,
          36,
          20,
          24,
          27,
          46,
          33,
          34,
          25,
          25,
          28,
          31,
          32,
          32,
          68,
          33,
          39,
          28,
          37,
          22,
          30,
          55,
          46,
          21,
          39,
          58,
          43,
          24,
          22,
          30,
          42,
          23,
          30,
          28,
          30,
          42,
          46,
          45,
          31,
          31,
          42,
          46,
          30,
          30,
          38,
          43,
          31,
          40,
          24,
          28,
          26,
          29,
          57,
          49,
          37,
          45,
          30,
          30,
          47,
          29,
          35,
          22,
          26,
          23,
          54,
          29,
          40,
          22,
          43,
          29,
          36,
          33,
          57,
          64,
          42,
          47,
          25,
          49,
          33,
          28,
          26,
          30,
          25,
          33,
          64,
          29,
          48,
          37,
          34,
          23,
          30,
          50,
          31,
          40,
          38,
          23,
          27
         ],
         "xaxis": "x",
         "y": [
          1169,
          5951,
          2096,
          7882,
          4870,
          9055,
          2835,
          6948,
          3059,
          5234,
          1295,
          4308,
          1567,
          1199,
          1403,
          1282,
          2424,
          8072,
          12579,
          3430,
          2134,
          2647,
          2241,
          1804,
          2069,
          1374,
          426,
          409,
          2415,
          6836,
          1913,
          4020,
          5866,
          1264,
          1474,
          4746,
          6110,
          2100,
          1225,
          458,
          2333,
          1158,
          6204,
          6187,
          6143,
          1393,
          2299,
          1352,
          7228,
          2073,
          2333,
          5965,
          1262,
          3378,
          2225,
          783,
          6468,
          9566,
          1961,
          6229,
          1391,
          1537,
          1953,
          14421,
          3181,
          5190,
          2171,
          1007,
          1819,
          2394,
          8133,
          730,
          1164,
          5954,
          1977,
          1526,
          3965,
          4771,
          9436,
          3832,
          5943,
          1213,
          1568,
          1755,
          2315,
          1412,
          1295,
          12612,
          2249,
          1108,
          618,
          1409,
          797,
          3617,
          1318,
          15945,
          2012,
          2622,
          2337,
          7057,
          1469,
          2323,
          932,
          1919,
          2445,
          11938,
          6458,
          6078,
          7721,
          1410,
          1449,
          392,
          6260,
          7855,
          1680,
          3578,
          7174,
          2132,
          4281,
          2366,
          1835,
          3868,
          1768,
          781,
          1924,
          2121,
          701,
          639,
          1860,
          3499,
          8487,
          6887,
          2708,
          1984,
          10144,
          1240,
          8613,
          766,
          2728,
          1881,
          709,
          4795,
          3416,
          2462,
          2288,
          3566,
          860,
          682,
          5371,
          1582,
          1346,
          1924,
          5848,
          7758,
          6967,
          1282,
          1288,
          339,
          3512,
          1898,
          2872,
          1055,
          1262,
          7308,
          909,
          2978,
          1131,
          1577,
          3972,
          1935,
          950,
          763,
          2064,
          1414,
          3414,
          7485,
          2577,
          338,
          1963,
          571,
          9572,
          4455,
          1647,
          3777,
          884,
          1360,
          5129,
          1175,
          674,
          3244,
          4591,
          3844,
          3915,
          2108,
          3031,
          1501,
          1382,
          951,
          2760,
          4297,
          936,
          1168,
          5117,
          902,
          1495,
          10623,
          1935,
          1424,
          6568,
          1413,
          3074,
          3835,
          5293,
          1908,
          3342,
          932,
          3104,
          3913,
          3021,
          1364,
          625,
          1200,
          707,
          2978,
          4657,
          2613,
          10961,
          7865,
          1478,
          3149,
          4210,
          2507,
          2141,
          866,
          1544,
          1823,
          14555,
          2767,
          1291,
          2522,
          915,
          1595,
          4605,
          1185,
          3447,
          1258,
          717,
          1204,
          1925,
          433,
          666,
          2251,
          2150,
          4151,
          2030,
          7418,
          2684,
          2149,
          3812,
          1154,
          1657,
          1603,
          5302,
          2748,
          1231,
          802,
          6304,
          1533,
          8978,
          999,
          2662,
          1402,
          12169,
          3060,
          11998,
          2697,
          2404,
          1262,
          4611,
          1901,
          3368,
          1574,
          1445,
          1520,
          3878,
          10722,
          4788,
          7582,
          1092,
          1024,
          1076,
          9398,
          6419,
          4796,
          7629,
          9960,
          4675,
          1287,
          2515,
          2745,
          672,
          3804,
          1344,
          1038,
          10127,
          1543,
          4811,
          727,
          1237,
          276,
          5381,
          5511,
          3749,
          685,
          1494,
          2746,
          708,
          4351,
          701,
          3643,
          4249,
          1938,
          2910,
          2659,
          1028,
          3398,
          5801,
          1525,
          4473,
          1068,
          6615,
          1864,
          7408,
          11590,
          4110,
          3384,
          2101,
          1275,
          4169,
          1521,
          5743,
          3599,
          3213,
          4439,
          3949,
          1459,
          882,
          3758,
          1743,
          1136,
          1236,
          959,
          3229,
          6199,
          727,
          1246,
          2331,
          4463,
          776,
          2406,
          1239,
          3399,
          2247,
          1766,
          2473,
          1542,
          3850,
          3650,
          3446,
          3001,
          3079,
          6070,
          2146,
          13756,
          14782,
          7685,
          2320,
          846,
          14318,
          362,
          2212,
          12976,
          1283,
          1330,
          4272,
          2238,
          1126,
          7374,
          2326,
          1449,
          1820,
          983,
          3249,
          1957,
          2406,
          11760,
          2578,
          2348,
          1223,
          1516,
          1473,
          1887,
          8648,
          802,
          2899,
          2039,
          2197,
          1053,
          3235,
          939,
          1967,
          7253,
          2292,
          1597,
          1381,
          5842,
          2579,
          8471,
          2782,
          1042,
          3186,
          2028,
          958,
          1591,
          2762,
          2779,
          2743,
          1149,
          1313,
          1190,
          3448,
          11328,
          1872,
          2058,
          2136,
          1484,
          660,
          1287,
          3394,
          609,
          1884,
          1620,
          2629,
          719,
          5096,
          1244,
          1842,
          2576,
          1424,
          1512,
          11054,
          518,
          2759,
          2670,
          4817,
          2679,
          3905,
          3386,
          343,
          4594,
          3620,
          1721,
          3017,
          754,
          1950,
          2924,
          1659,
          7238,
          2764,
          4679,
          3092,
          448,
          654,
          1238,
          1245,
          3114,
          2569,
          5152,
          1037,
          1478,
          3573,
          1201,
          3622,
          960,
          1163,
          1209,
          3077,
          3757,
          1418,
          3518,
          1934,
          8318,
          1237,
          368,
          2122,
          2996,
          9034,
          1585,
          1301,
          1323,
          3123,
          5493,
          1126,
          1216,
          1207,
          1309,
          2360,
          6850,
          1413,
          8588,
          759,
          4686,
          2687,
          585,
          2255,
          609,
          1361,
          7127,
          1203,
          700,
          5507,
          3190,
          7119,
          3488,
          1113,
          7966,
          1532,
          1503,
          2302,
          662,
          2273,
          2631,
          1503,
          1311,
          3105,
          2319,
          1374,
          3612,
          7763,
          3049,
          1534,
          2032,
          6350,
          2864,
          1255,
          1333,
          2022,
          1552,
          626,
          8858,
          996,
          1750,
          6999,
          1995,
          1199,
          1331,
          2278,
          5003,
          3552,
          1928,
          2964,
          1546,
          683,
          12389,
          4712,
          1553,
          1372,
          2578,
          3979,
          6758,
          3234,
          5954,
          5433,
          806,
          1082,
          2788,
          2930,
          1927,
          2820,
          937,
          1056,
          3124,
          1388,
          2384,
          2133,
          2039,
          2799,
          1289,
          1217,
          2246,
          385,
          1965,
          1572,
          2718,
          1358,
          931,
          1442,
          4241,
          2775,
          3863,
          2329,
          918,
          1837,
          3349,
          1275,
          2828,
          4526,
          2671,
          2051,
          1300,
          741,
          1240,
          3357,
          3632,
          1808,
          12204,
          9157,
          3676,
          3441,
          640,
          3652,
          1530,
          3914,
          1858,
          2600,
          1979,
          2116,
          1437,
          4042,
          3832,
          3660,
          1553,
          1444,
          1980,
          1355,
          1393,
          1376,
          15653,
          1493,
          4370,
          750,
          1308,
          4623,
          1851,
          1880,
          7980,
          4583,
          1386,
          947,
          684,
          7476,
          1922,
          2303,
          8086,
          2346,
          3973,
          888,
          10222,
          4221,
          6361,
          1297,
          900,
          2241,
          1050,
          1047,
          6314,
          3496,
          3609,
          4843,
          3017,
          4139,
          5742,
          10366,
          2080,
          2580,
          4530,
          5150,
          5595,
          2384,
          1453,
          1538,
          2279,
          1478,
          5103,
          9857,
          6527,
          1347,
          2862,
          2753,
          3651,
          975,
          2631,
          2896,
          4716,
          2284,
          1236,
          1103,
          926,
          1800,
          1905,
          1123,
          6331,
          1377,
          2503,
          2528,
          5324,
          6560,
          2969,
          1206,
          2118,
          629,
          1198,
          2476,
          1138,
          14027,
          7596,
          3077,
          1505,
          3148,
          6148,
          1337,
          433,
          1228,
          790,
          2570,
          250,
          1316,
          1882,
          6416,
          1275,
          6403,
          1987,
          760,
          2603,
          3380,
          3990,
          11560,
          4380,
          6761,
          4280,
          2325,
          1048,
          3160,
          2483,
          14179,
          1797,
          2511,
          1274,
          5248,
          3029,
          428,
          976,
          841,
          5771,
          1555,
          1285,
          1299,
          1271,
          1393,
          691,
          5045,
          2124,
          2214,
          12680,
          2463,
          1155,
          3108,
          2901,
          3617,
          1655,
          2812,
          8065,
          3275,
          2223,
          1480,
          1371,
          3535,
          3509,
          5711,
          3872,
          4933,
          1940,
          1410,
          836,
          6468,
          1941,
          2675,
          2751,
          6224,
          5998,
          1188,
          6313,
          1221,
          2892,
          3062,
          2301,
          7511,
          1258,
          717,
          1549,
          1597,
          1795,
          4272,
          976,
          7472,
          9271,
          590,
          930,
          9283,
          1778,
          907,
          484,
          9629,
          3051,
          3931,
          7432,
          1338,
          1554,
          15857,
          1345,
          1101,
          3016,
          2712,
          731,
          3780,
          1602,
          3966,
          4165,
          8335,
          6681,
          2375,
          1216,
          11816,
          5084,
          2327,
          1082,
          886,
          601,
          2957,
          2611,
          5179,
          2993,
          1943,
          1559,
          3422,
          3976,
          6761,
          1249,
          1364,
          709,
          2235,
          4042,
          1471,
          1442,
          10875,
          1474,
          894,
          3343,
          3959,
          3577,
          5804,
          2169,
          2439,
          4526,
          2210,
          2221,
          2389,
          3331,
          7409,
          652,
          7678,
          1343,
          1382,
          874,
          3590,
          1322,
          1940,
          3595,
          1422,
          6742,
          7814,
          9277,
          2181,
          1098,
          4057,
          795,
          2825,
          15672,
          6614,
          7824,
          2442,
          1829,
          2171,
          5800,
          1169,
          8947,
          2606,
          1592,
          2186,
          4153,
          2625,
          3485,
          10477,
          1386,
          1278,
          1107,
          3763,
          3711,
          3594,
          3195,
          4454,
          4736,
          2991,
          2142,
          3161,
          18424,
          2848,
          14896,
          2359,
          3345,
          1817,
          12749,
          1366,
          2002,
          6872,
          697,
          1049,
          10297,
          1867,
          1344,
          1747,
          1670,
          1224,
          522,
          1498,
          1919,
          745,
          2063,
          6288,
          6842,
          3527,
          1546,
          929,
          1455,
          1845,
          8358,
          3349,
          2859,
          1533,
          3621,
          3590,
          2145,
          4113,
          10974,
          1893,
          1231,
          3656,
          1154,
          4006,
          3069,
          1740,
          2353,
          3556,
          2397,
          454,
          1715,
          2520,
          3568,
          7166,
          3939,
          1514,
          7393,
          1193,
          7297,
          2831,
          1258,
          753,
          2427,
          2538,
          1264,
          8386,
          4844,
          2923,
          8229,
          2028,
          1433,
          6289,
          1409,
          6579,
          1743,
          3565,
          1569,
          1936,
          3959,
          2390,
          1736,
          3857,
          804,
          1845,
          4576
         ],
         "yaxis": "y"
        }
       ],
       "layout": {
        "font": {
         "color": "white"
        },
        "legend": {
         "tracegroupgap": 0
        },
        "margin": {
         "t": 60
        },
        "paper_bgcolor": "rgba(0,0,0,0)",
        "plot_bgcolor": "rgba(0,0,0,0)",
        "template": {
         "data": {
          "bar": [
           {
            "error_x": {
             "color": "#f2f5fa"
            },
            "error_y": {
             "color": "#f2f5fa"
            },
            "marker": {
             "line": {
              "color": "rgb(17,17,17)",
              "width": 0.5
             },
             "pattern": {
              "fillmode": "overlay",
              "size": 10,
              "solidity": 0.2
             }
            },
            "type": "bar"
           }
          ],
          "barpolar": [
           {
            "marker": {
             "line": {
              "color": "rgb(17,17,17)",
              "width": 0.5
             },
             "pattern": {
              "fillmode": "overlay",
              "size": 10,
              "solidity": 0.2
             }
            },
            "type": "barpolar"
           }
          ],
          "carpet": [
           {
            "aaxis": {
             "endlinecolor": "#A2B1C6",
             "gridcolor": "#506784",
             "linecolor": "#506784",
             "minorgridcolor": "#506784",
             "startlinecolor": "#A2B1C6"
            },
            "baxis": {
             "endlinecolor": "#A2B1C6",
             "gridcolor": "#506784",
             "linecolor": "#506784",
             "minorgridcolor": "#506784",
             "startlinecolor": "#A2B1C6"
            },
            "type": "carpet"
           }
          ],
          "choropleth": [
           {
            "colorbar": {
             "outlinewidth": 0,
             "ticks": ""
            },
            "type": "choropleth"
           }
          ],
          "contour": [
           {
            "colorbar": {
             "outlinewidth": 0,
             "ticks": ""
            },
            "colorscale": [
             [
              0,
              "#0d0887"
             ],
             [
              0.1111111111111111,
              "#46039f"
             ],
             [
              0.2222222222222222,
              "#7201a8"
             ],
             [
              0.3333333333333333,
              "#9c179e"
             ],
             [
              0.4444444444444444,
              "#bd3786"
             ],
             [
              0.5555555555555556,
              "#d8576b"
             ],
             [
              0.6666666666666666,
              "#ed7953"
             ],
             [
              0.7777777777777778,
              "#fb9f3a"
             ],
             [
              0.8888888888888888,
              "#fdca26"
             ],
             [
              1,
              "#f0f921"
             ]
            ],
            "type": "contour"
           }
          ],
          "contourcarpet": [
           {
            "colorbar": {
             "outlinewidth": 0,
             "ticks": ""
            },
            "type": "contourcarpet"
           }
          ],
          "heatmap": [
           {
            "colorbar": {
             "outlinewidth": 0,
             "ticks": ""
            },
            "colorscale": [
             [
              0,
              "#0d0887"
             ],
             [
              0.1111111111111111,
              "#46039f"
             ],
             [
              0.2222222222222222,
              "#7201a8"
             ],
             [
              0.3333333333333333,
              "#9c179e"
             ],
             [
              0.4444444444444444,
              "#bd3786"
             ],
             [
              0.5555555555555556,
              "#d8576b"
             ],
             [
              0.6666666666666666,
              "#ed7953"
             ],
             [
              0.7777777777777778,
              "#fb9f3a"
             ],
             [
              0.8888888888888888,
              "#fdca26"
             ],
             [
              1,
              "#f0f921"
             ]
            ],
            "type": "heatmap"
           }
          ],
          "heatmapgl": [
           {
            "colorbar": {
             "outlinewidth": 0,
             "ticks": ""
            },
            "colorscale": [
             [
              0,
              "#0d0887"
             ],
             [
              0.1111111111111111,
              "#46039f"
             ],
             [
              0.2222222222222222,
              "#7201a8"
             ],
             [
              0.3333333333333333,
              "#9c179e"
             ],
             [
              0.4444444444444444,
              "#bd3786"
             ],
             [
              0.5555555555555556,
              "#d8576b"
             ],
             [
              0.6666666666666666,
              "#ed7953"
             ],
             [
              0.7777777777777778,
              "#fb9f3a"
             ],
             [
              0.8888888888888888,
              "#fdca26"
             ],
             [
              1,
              "#f0f921"
             ]
            ],
            "type": "heatmapgl"
           }
          ],
          "histogram": [
           {
            "marker": {
             "pattern": {
              "fillmode": "overlay",
              "size": 10,
              "solidity": 0.2
             }
            },
            "type": "histogram"
           }
          ],
          "histogram2d": [
           {
            "colorbar": {
             "outlinewidth": 0,
             "ticks": ""
            },
            "colorscale": [
             [
              0,
              "#0d0887"
             ],
             [
              0.1111111111111111,
              "#46039f"
             ],
             [
              0.2222222222222222,
              "#7201a8"
             ],
             [
              0.3333333333333333,
              "#9c179e"
             ],
             [
              0.4444444444444444,
              "#bd3786"
             ],
             [
              0.5555555555555556,
              "#d8576b"
             ],
             [
              0.6666666666666666,
              "#ed7953"
             ],
             [
              0.7777777777777778,
              "#fb9f3a"
             ],
             [
              0.8888888888888888,
              "#fdca26"
             ],
             [
              1,
              "#f0f921"
             ]
            ],
            "type": "histogram2d"
           }
          ],
          "histogram2dcontour": [
           {
            "colorbar": {
             "outlinewidth": 0,
             "ticks": ""
            },
            "colorscale": [
             [
              0,
              "#0d0887"
             ],
             [
              0.1111111111111111,
              "#46039f"
             ],
             [
              0.2222222222222222,
              "#7201a8"
             ],
             [
              0.3333333333333333,
              "#9c179e"
             ],
             [
              0.4444444444444444,
              "#bd3786"
             ],
             [
              0.5555555555555556,
              "#d8576b"
             ],
             [
              0.6666666666666666,
              "#ed7953"
             ],
             [
              0.7777777777777778,
              "#fb9f3a"
             ],
             [
              0.8888888888888888,
              "#fdca26"
             ],
             [
              1,
              "#f0f921"
             ]
            ],
            "type": "histogram2dcontour"
           }
          ],
          "mesh3d": [
           {
            "colorbar": {
             "outlinewidth": 0,
             "ticks": ""
            },
            "type": "mesh3d"
           }
          ],
          "parcoords": [
           {
            "line": {
             "colorbar": {
              "outlinewidth": 0,
              "ticks": ""
             }
            },
            "type": "parcoords"
           }
          ],
          "pie": [
           {
            "automargin": true,
            "type": "pie"
           }
          ],
          "scatter": [
           {
            "marker": {
             "line": {
              "color": "#283442"
             }
            },
            "type": "scatter"
           }
          ],
          "scatter3d": [
           {
            "line": {
             "colorbar": {
              "outlinewidth": 0,
              "ticks": ""
             }
            },
            "marker": {
             "colorbar": {
              "outlinewidth": 0,
              "ticks": ""
             }
            },
            "type": "scatter3d"
           }
          ],
          "scattercarpet": [
           {
            "marker": {
             "colorbar": {
              "outlinewidth": 0,
              "ticks": ""
             }
            },
            "type": "scattercarpet"
           }
          ],
          "scattergeo": [
           {
            "marker": {
             "colorbar": {
              "outlinewidth": 0,
              "ticks": ""
             }
            },
            "type": "scattergeo"
           }
          ],
          "scattergl": [
           {
            "marker": {
             "line": {
              "color": "#283442"
             }
            },
            "type": "scattergl"
           }
          ],
          "scattermapbox": [
           {
            "marker": {
             "colorbar": {
              "outlinewidth": 0,
              "ticks": ""
             }
            },
            "type": "scattermapbox"
           }
          ],
          "scatterpolar": [
           {
            "marker": {
             "colorbar": {
              "outlinewidth": 0,
              "ticks": ""
             }
            },
            "type": "scatterpolar"
           }
          ],
          "scatterpolargl": [
           {
            "marker": {
             "colorbar": {
              "outlinewidth": 0,
              "ticks": ""
             }
            },
            "type": "scatterpolargl"
           }
          ],
          "scatterternary": [
           {
            "marker": {
             "colorbar": {
              "outlinewidth": 0,
              "ticks": ""
             }
            },
            "type": "scatterternary"
           }
          ],
          "surface": [
           {
            "colorbar": {
             "outlinewidth": 0,
             "ticks": ""
            },
            "colorscale": [
             [
              0,
              "#0d0887"
             ],
             [
              0.1111111111111111,
              "#46039f"
             ],
             [
              0.2222222222222222,
              "#7201a8"
             ],
             [
              0.3333333333333333,
              "#9c179e"
             ],
             [
              0.4444444444444444,
              "#bd3786"
             ],
             [
              0.5555555555555556,
              "#d8576b"
             ],
             [
              0.6666666666666666,
              "#ed7953"
             ],
             [
              0.7777777777777778,
              "#fb9f3a"
             ],
             [
              0.8888888888888888,
              "#fdca26"
             ],
             [
              1,
              "#f0f921"
             ]
            ],
            "type": "surface"
           }
          ],
          "table": [
           {
            "cells": {
             "fill": {
              "color": "#506784"
             },
             "line": {
              "color": "rgb(17,17,17)"
             }
            },
            "header": {
             "fill": {
              "color": "#2a3f5f"
             },
             "line": {
              "color": "rgb(17,17,17)"
             }
            },
            "type": "table"
           }
          ]
         },
         "layout": {
          "annotationdefaults": {
           "arrowcolor": "#f2f5fa",
           "arrowhead": 0,
           "arrowwidth": 1
          },
          "autotypenumbers": "strict",
          "coloraxis": {
           "colorbar": {
            "outlinewidth": 0,
            "ticks": ""
           }
          },
          "colorscale": {
           "diverging": [
            [
             0,
             "#8e0152"
            ],
            [
             0.1,
             "#c51b7d"
            ],
            [
             0.2,
             "#de77ae"
            ],
            [
             0.3,
             "#f1b6da"
            ],
            [
             0.4,
             "#fde0ef"
            ],
            [
             0.5,
             "#f7f7f7"
            ],
            [
             0.6,
             "#e6f5d0"
            ],
            [
             0.7,
             "#b8e186"
            ],
            [
             0.8,
             "#7fbc41"
            ],
            [
             0.9,
             "#4d9221"
            ],
            [
             1,
             "#276419"
            ]
           ],
           "sequential": [
            [
             0,
             "#0d0887"
            ],
            [
             0.1111111111111111,
             "#46039f"
            ],
            [
             0.2222222222222222,
             "#7201a8"
            ],
            [
             0.3333333333333333,
             "#9c179e"
            ],
            [
             0.4444444444444444,
             "#bd3786"
            ],
            [
             0.5555555555555556,
             "#d8576b"
            ],
            [
             0.6666666666666666,
             "#ed7953"
            ],
            [
             0.7777777777777778,
             "#fb9f3a"
            ],
            [
             0.8888888888888888,
             "#fdca26"
            ],
            [
             1,
             "#f0f921"
            ]
           ],
           "sequentialminus": [
            [
             0,
             "#0d0887"
            ],
            [
             0.1111111111111111,
             "#46039f"
            ],
            [
             0.2222222222222222,
             "#7201a8"
            ],
            [
             0.3333333333333333,
             "#9c179e"
            ],
            [
             0.4444444444444444,
             "#bd3786"
            ],
            [
             0.5555555555555556,
             "#d8576b"
            ],
            [
             0.6666666666666666,
             "#ed7953"
            ],
            [
             0.7777777777777778,
             "#fb9f3a"
            ],
            [
             0.8888888888888888,
             "#fdca26"
            ],
            [
             1,
             "#f0f921"
            ]
           ]
          },
          "colorway": [
           "#636efa",
           "#EF553B",
           "#00cc96",
           "#ab63fa",
           "#FFA15A",
           "#19d3f3",
           "#FF6692",
           "#B6E880",
           "#FF97FF",
           "#FECB52"
          ],
          "font": {
           "color": "#f2f5fa"
          },
          "geo": {
           "bgcolor": "rgb(17,17,17)",
           "lakecolor": "rgb(17,17,17)",
           "landcolor": "rgb(17,17,17)",
           "showlakes": true,
           "showland": true,
           "subunitcolor": "#506784"
          },
          "hoverlabel": {
           "align": "left"
          },
          "hovermode": "closest",
          "mapbox": {
           "style": "dark"
          },
          "paper_bgcolor": "rgb(17,17,17)",
          "plot_bgcolor": "rgb(17,17,17)",
          "polar": {
           "angularaxis": {
            "gridcolor": "#506784",
            "linecolor": "#506784",
            "ticks": ""
           },
           "bgcolor": "rgb(17,17,17)",
           "radialaxis": {
            "gridcolor": "#506784",
            "linecolor": "#506784",
            "ticks": ""
           }
          },
          "scene": {
           "xaxis": {
            "backgroundcolor": "rgb(17,17,17)",
            "gridcolor": "#506784",
            "gridwidth": 2,
            "linecolor": "#506784",
            "showbackground": true,
            "ticks": "",
            "zerolinecolor": "#C8D4E3"
           },
           "yaxis": {
            "backgroundcolor": "rgb(17,17,17)",
            "gridcolor": "#506784",
            "gridwidth": 2,
            "linecolor": "#506784",
            "showbackground": true,
            "ticks": "",
            "zerolinecolor": "#C8D4E3"
           },
           "zaxis": {
            "backgroundcolor": "rgb(17,17,17)",
            "gridcolor": "#506784",
            "gridwidth": 2,
            "linecolor": "#506784",
            "showbackground": true,
            "ticks": "",
            "zerolinecolor": "#C8D4E3"
           }
          },
          "shapedefaults": {
           "line": {
            "color": "#f2f5fa"
           }
          },
          "sliderdefaults": {
           "bgcolor": "#C8D4E3",
           "bordercolor": "rgb(17,17,17)",
           "borderwidth": 1,
           "tickwidth": 0
          },
          "ternary": {
           "aaxis": {
            "gridcolor": "#506784",
            "linecolor": "#506784",
            "ticks": ""
           },
           "baxis": {
            "gridcolor": "#506784",
            "linecolor": "#506784",
            "ticks": ""
           },
           "bgcolor": "rgb(17,17,17)",
           "caxis": {
            "gridcolor": "#506784",
            "linecolor": "#506784",
            "ticks": ""
           }
          },
          "title": {
           "x": 0.05
          },
          "updatemenudefaults": {
           "bgcolor": "#506784",
           "borderwidth": 0
          },
          "xaxis": {
           "automargin": true,
           "gridcolor": "#283442",
           "linecolor": "#506784",
           "ticks": "",
           "title": {
            "standoff": 15
           },
           "zerolinecolor": "#283442",
           "zerolinewidth": 2
          },
          "yaxis": {
           "automargin": true,
           "gridcolor": "#283442",
           "linecolor": "#506784",
           "ticks": "",
           "title": {
            "standoff": 15
           },
           "zerolinecolor": "#283442",
           "zerolinewidth": 2
          }
         }
        },
        "xaxis": {
         "anchor": "y",
         "domain": [
          0,
          1
         ],
         "title": {
          "text": "Age"
         }
        },
        "yaxis": {
         "anchor": "x",
         "domain": [
          0,
          1
         ],
         "title": {
          "text": "Credit amount"
         }
        }
       }
      }
     },
     "metadata": {},
     "output_type": "display_data"
    },
    {
     "data": {
      "application/vnd.plotly.v1+json": {
       "config": {
        "plotlyServerURL": "https://plot.ly"
       },
       "data": [
        {
         "alignmentgroup": "True",
         "hovertemplate": "Sex=%{x}<br>Credit amount=%{y}<extra></extra>",
         "legendgroup": "male",
         "marker": {
          "color": "#FFA500"
         },
         "name": "male",
         "notched": false,
         "offsetgroup": "male",
         "orientation": "v",
         "showlegend": true,
         "type": "box",
         "x": [
          "male",
          "male",
          "male",
          "male",
          "male",
          "male",
          "male",
          "male",
          "male",
          "male",
          "male",
          "male",
          "male",
          "male",
          "male",
          "male",
          "male",
          "male",
          "male",
          "male",
          "male",
          "male",
          "male",
          "male",
          "male",
          "male",
          "male",
          "male",
          "male",
          "male",
          "male",
          "male",
          "male",
          "male",
          "male",
          "male",
          "male",
          "male",
          "male",
          "male",
          "male",
          "male",
          "male",
          "male",
          "male",
          "male",
          "male",
          "male",
          "male",
          "male",
          "male",
          "male",
          "male",
          "male",
          "male",
          "male",
          "male",
          "male",
          "male",
          "male",
          "male",
          "male",
          "male",
          "male",
          "male",
          "male",
          "male",
          "male",
          "male",
          "male",
          "male",
          "male",
          "male",
          "male",
          "male",
          "male",
          "male",
          "male",
          "male",
          "male",
          "male",
          "male",
          "male",
          "male",
          "male",
          "male",
          "male",
          "male",
          "male",
          "male",
          "male",
          "male",
          "male",
          "male",
          "male",
          "male",
          "male",
          "male",
          "male",
          "male",
          "male",
          "male",
          "male",
          "male",
          "male",
          "male",
          "male",
          "male",
          "male",
          "male",
          "male",
          "male",
          "male",
          "male",
          "male",
          "male",
          "male",
          "male",
          "male",
          "male",
          "male",
          "male",
          "male",
          "male",
          "male",
          "male",
          "male",
          "male",
          "male",
          "male",
          "male",
          "male",
          "male",
          "male",
          "male",
          "male",
          "male",
          "male",
          "male",
          "male",
          "male",
          "male",
          "male",
          "male",
          "male",
          "male",
          "male",
          "male",
          "male",
          "male",
          "male",
          "male",
          "male",
          "male",
          "male",
          "male",
          "male",
          "male",
          "male",
          "male",
          "male",
          "male",
          "male",
          "male",
          "male",
          "male",
          "male",
          "male",
          "male",
          "male",
          "male",
          "male",
          "male",
          "male",
          "male",
          "male",
          "male",
          "male",
          "male",
          "male",
          "male",
          "male",
          "male",
          "male",
          "male",
          "male",
          "male",
          "male",
          "male",
          "male",
          "male",
          "male",
          "male",
          "male",
          "male",
          "male",
          "male",
          "male",
          "male",
          "male",
          "male",
          "male",
          "male",
          "male",
          "male",
          "male",
          "male",
          "male",
          "male",
          "male",
          "male",
          "male",
          "male",
          "male",
          "male",
          "male",
          "male",
          "male",
          "male",
          "male",
          "male",
          "male",
          "male",
          "male",
          "male",
          "male",
          "male",
          "male",
          "male",
          "male",
          "male",
          "male",
          "male",
          "male",
          "male",
          "male",
          "male",
          "male",
          "male",
          "male",
          "male",
          "male",
          "male",
          "male",
          "male",
          "male",
          "male",
          "male",
          "male",
          "male",
          "male",
          "male",
          "male",
          "male",
          "male",
          "male",
          "male",
          "male",
          "male",
          "male",
          "male",
          "male",
          "male",
          "male",
          "male",
          "male",
          "male",
          "male",
          "male",
          "male",
          "male",
          "male",
          "male",
          "male",
          "male",
          "male",
          "male",
          "male",
          "male",
          "male",
          "male",
          "male",
          "male",
          "male",
          "male",
          "male",
          "male",
          "male",
          "male",
          "male",
          "male",
          "male",
          "male",
          "male",
          "male",
          "male",
          "male",
          "male",
          "male",
          "male",
          "male",
          "male",
          "male",
          "male",
          "male",
          "male",
          "male",
          "male",
          "male",
          "male",
          "male",
          "male",
          "male",
          "male",
          "male",
          "male",
          "male",
          "male",
          "male",
          "male",
          "male",
          "male",
          "male",
          "male",
          "male",
          "male",
          "male",
          "male",
          "male",
          "male",
          "male",
          "male",
          "male",
          "male",
          "male",
          "male",
          "male",
          "male",
          "male",
          "male",
          "male",
          "male",
          "male",
          "male",
          "male",
          "male",
          "male",
          "male",
          "male",
          "male",
          "male",
          "male",
          "male",
          "male",
          "male",
          "male",
          "male",
          "male",
          "male",
          "male",
          "male",
          "male",
          "male",
          "male",
          "male",
          "male",
          "male",
          "male",
          "male",
          "male",
          "male",
          "male",
          "male",
          "male",
          "male",
          "male",
          "male",
          "male",
          "male",
          "male",
          "male",
          "male",
          "male",
          "male",
          "male",
          "male",
          "male",
          "male",
          "male",
          "male",
          "male",
          "male",
          "male",
          "male",
          "male",
          "male",
          "male",
          "male",
          "male",
          "male",
          "male",
          "male",
          "male",
          "male",
          "male",
          "male",
          "male",
          "male",
          "male",
          "male",
          "male",
          "male",
          "male",
          "male",
          "male",
          "male",
          "male",
          "male",
          "male",
          "male",
          "male",
          "male",
          "male",
          "male",
          "male",
          "male",
          "male",
          "male",
          "male",
          "male",
          "male",
          "male",
          "male",
          "male",
          "male",
          "male",
          "male",
          "male",
          "male",
          "male",
          "male",
          "male",
          "male",
          "male",
          "male",
          "male",
          "male",
          "male",
          "male",
          "male",
          "male",
          "male",
          "male",
          "male",
          "male",
          "male",
          "male",
          "male",
          "male",
          "male",
          "male",
          "male",
          "male",
          "male",
          "male",
          "male",
          "male",
          "male",
          "male",
          "male",
          "male",
          "male",
          "male",
          "male",
          "male",
          "male",
          "male",
          "male",
          "male",
          "male",
          "male",
          "male",
          "male",
          "male",
          "male",
          "male",
          "male",
          "male",
          "male",
          "male",
          "male",
          "male",
          "male",
          "male",
          "male",
          "male",
          "male",
          "male",
          "male",
          "male",
          "male",
          "male",
          "male",
          "male",
          "male",
          "male",
          "male",
          "male",
          "male",
          "male",
          "male",
          "male",
          "male",
          "male",
          "male",
          "male",
          "male",
          "male",
          "male",
          "male",
          "male",
          "male",
          "male",
          "male",
          "male",
          "male",
          "male",
          "male",
          "male",
          "male",
          "male",
          "male",
          "male",
          "male",
          "male",
          "male",
          "male",
          "male",
          "male",
          "male",
          "male",
          "male",
          "male",
          "male",
          "male",
          "male",
          "male",
          "male",
          "male",
          "male",
          "male",
          "male",
          "male",
          "male",
          "male",
          "male",
          "male",
          "male",
          "male",
          "male",
          "male",
          "male",
          "male",
          "male",
          "male",
          "male",
          "male",
          "male",
          "male",
          "male",
          "male",
          "male",
          "male",
          "male",
          "male",
          "male",
          "male",
          "male",
          "male",
          "male",
          "male",
          "male",
          "male",
          "male",
          "male",
          "male",
          "male",
          "male",
          "male",
          "male",
          "male",
          "male",
          "male",
          "male",
          "male",
          "male",
          "male",
          "male",
          "male",
          "male",
          "male",
          "male",
          "male",
          "male",
          "male",
          "male",
          "male",
          "male",
          "male",
          "male",
          "male",
          "male",
          "male",
          "male",
          "male",
          "male",
          "male",
          "male",
          "male",
          "male",
          "male",
          "male",
          "male",
          "male",
          "male",
          "male",
          "male",
          "male",
          "male",
          "male",
          "male",
          "male",
          "male",
          "male",
          "male",
          "male",
          "male",
          "male",
          "male",
          "male",
          "male",
          "male",
          "male",
          "male",
          "male",
          "male",
          "male",
          "male",
          "male",
          "male",
          "male",
          "male",
          "male",
          "male",
          "male",
          "male",
          "male",
          "male",
          "male",
          "male",
          "male",
          "male",
          "male",
          "male",
          "male",
          "male",
          "male",
          "male",
          "male",
          "male",
          "male",
          "male",
          "male",
          "male",
          "male",
          "male",
          "male",
          "male",
          "male",
          "male",
          "male",
          "male",
          "male",
          "male",
          "male",
          "male",
          "male",
          "male",
          "male",
          "male"
         ],
         "x0": " ",
         "xaxis": "x",
         "y": [
          1169,
          2096,
          7882,
          4870,
          9055,
          2835,
          6948,
          3059,
          5234,
          1199,
          2424,
          8072,
          3430,
          2134,
          2647,
          2241,
          1804,
          2069,
          1374,
          426,
          2415,
          6836,
          1913,
          4020,
          5866,
          1264,
          4746,
          6110,
          2100,
          1225,
          458,
          2333,
          1158,
          6204,
          6187,
          2299,
          7228,
          2333,
          5965,
          1262,
          3378,
          2225,
          783,
          6468,
          1391,
          1537,
          1953,
          14421,
          5190,
          1007,
          1819,
          730,
          1164,
          1977,
          1526,
          3965,
          4771,
          9436,
          3832,
          1213,
          2315,
          12612,
          2249,
          1108,
          618,
          1409,
          3617,
          1318,
          15945,
          2622,
          2337,
          7057,
          1469,
          2323,
          1919,
          2445,
          11938,
          6458,
          6078,
          1410,
          1449,
          6260,
          1680,
          3578,
          2366,
          1768,
          781,
          2121,
          701,
          639,
          1860,
          6887,
          2708,
          1984,
          8613,
          766,
          2728,
          709,
          3416,
          2462,
          3566,
          5371,
          1582,
          1346,
          1924,
          5848,
          6967,
          1288,
          339,
          3512,
          1898,
          2872,
          1262,
          7308,
          909,
          2978,
          1935,
          950,
          1414,
          3414,
          2577,
          338,
          1963,
          571,
          9572,
          4455,
          1647,
          3777,
          884,
          1360,
          1175,
          674,
          4591,
          3844,
          3915,
          2108,
          3031,
          2760,
          4297,
          936,
          1168,
          5117,
          902,
          1495,
          10623,
          1935,
          1424,
          6568,
          1413,
          3074,
          5293,
          1908,
          3342,
          3104,
          3913,
          3021,
          625,
          707,
          2978,
          4657,
          2613,
          10961,
          7865,
          1478,
          3149,
          4210,
          2507,
          2141,
          866,
          1544,
          1823,
          14555,
          2767,
          2522,
          1595,
          4605,
          1258,
          717,
          1204,
          1925,
          4151,
          2030,
          7418,
          2684,
          2149,
          1657,
          5302,
          1231,
          802,
          6304,
          8978,
          999,
          2662,
          12169,
          3060,
          11998,
          2697,
          1262,
          1901,
          3368,
          1574,
          1445,
          1520,
          3878,
          4788,
          7582,
          1024,
          1076,
          9398,
          4796,
          7629,
          1287,
          2515,
          2745,
          1344,
          1038,
          10127,
          1543,
          727,
          276,
          5381,
          5511,
          685,
          1494,
          2746,
          708,
          701,
          4249,
          1938,
          2910,
          2659,
          3398,
          5801,
          4473,
          1068,
          6615,
          4110,
          3384,
          4169,
          1521,
          3213,
          4439,
          3949,
          882,
          1743,
          1136,
          3229,
          6199,
          727,
          1246,
          2331,
          4463,
          776,
          1239,
          3399,
          1766,
          2473,
          1542,
          3850,
          3446,
          3079,
          6070,
          13756,
          2320,
          846,
          14318,
          2212,
          1330,
          4272,
          7374,
          2326,
          1820,
          3249,
          2406,
          11760,
          2348,
          1223,
          1473,
          1887,
          8648,
          802,
          2899,
          2039,
          2197,
          1053,
          3235,
          939,
          7253,
          2292,
          1597,
          5842,
          2579,
          2028,
          958,
          1591,
          2779,
          2743,
          1149,
          1313,
          3448,
          11328,
          1872,
          2058,
          2136,
          1484,
          660,
          3394,
          1884,
          2629,
          719,
          2576,
          1512,
          11054,
          2759,
          2670,
          4817,
          3905,
          3386,
          4594,
          3620,
          1721,
          754,
          1950,
          2924,
          7238,
          4679,
          3092,
          654,
          1238,
          1245,
          2569,
          5152,
          1037,
          1478,
          1201,
          1163,
          1209,
          3077,
          1418,
          3518,
          1934,
          368,
          2122,
          2996,
          9034,
          1585,
          1301,
          1323,
          5493,
          1126,
          1216,
          1309,
          2360,
          6850,
          1413,
          8588,
          759,
          4686,
          2687,
          585,
          2255,
          1361,
          1203,
          700,
          5507,
          7119,
          7966,
          1503,
          2302,
          662,
          2273,
          1503,
          1311,
          3105,
          2319,
          7763,
          1534,
          2032,
          6350,
          2864,
          1255,
          1333,
          1552,
          8858,
          1750,
          6999,
          1995,
          1331,
          3552,
          1928,
          2964,
          1546,
          12389,
          4712,
          1372,
          2578,
          3979,
          5954,
          1082,
          2820,
          937,
          1056,
          3124,
          2384,
          2799,
          1289,
          1217,
          2246,
          1358,
          4241,
          2775,
          3863,
          2828,
          4526,
          2051,
          1300,
          12204,
          9157,
          3676,
          640,
          3652,
          1530,
          3914,
          2600,
          1979,
          2116,
          1437,
          4042,
          3832,
          1553,
          1444,
          1393,
          15653,
          4370,
          1308,
          4623,
          1851,
          1880,
          7980,
          4583,
          947,
          684,
          7476,
          1922,
          2303,
          8086,
          2346,
          3973,
          888,
          10222,
          6361,
          1297,
          900,
          2241,
          1050,
          6314,
          3496,
          4843,
          3017,
          4139,
          5742,
          10366,
          2080,
          2580,
          5150,
          5595,
          2384,
          2279,
          1478,
          5103,
          9857,
          6527,
          1347,
          2862,
          2753,
          3651,
          975,
          2896,
          4716,
          2284,
          1236,
          1103,
          1800,
          1905,
          6331,
          2503,
          6560,
          2118,
          629,
          2476,
          1138,
          14027,
          7596,
          3077,
          1505,
          3148,
          6148,
          1337,
          1316,
          1275,
          6403,
          1987,
          4380,
          6761,
          2325,
          1048,
          3160,
          2483,
          14179,
          1797,
          5248,
          3029,
          1555,
          1299,
          1271,
          1393,
          691,
          2214,
          12680,
          2463,
          1155,
          3108,
          3617,
          1655,
          3275,
          2223,
          1480,
          3535,
          5711,
          4933,
          1940,
          1410,
          6468,
          1941,
          2675,
          2751,
          6224,
          5998,
          6313,
          1221,
          2892,
          3062,
          7511,
          717,
          1549,
          1597,
          976,
          9271,
          590,
          930,
          9283,
          907,
          484,
          9629,
          3051,
          3931,
          1338,
          15857,
          1345,
          1101,
          3016,
          2712,
          731,
          3780,
          1602,
          4165,
          8335,
          6681,
          2375,
          11816,
          1082,
          2957,
          2611,
          5179,
          2993,
          1559,
          3422,
          3976,
          6761,
          1249,
          1364,
          709,
          2235,
          4042,
          1471,
          1442,
          10875,
          1474,
          3343,
          3577,
          5804,
          2169,
          4526,
          2210,
          3331,
          7409,
          1343,
          1382,
          3590,
          1940,
          3595,
          1422,
          6742,
          7814,
          9277,
          2181,
          4057,
          2825,
          15672,
          6614,
          7824,
          2442,
          1829,
          2171,
          5800,
          1169,
          8947,
          4153,
          2625,
          3485,
          10477,
          1386,
          1278,
          1107,
          3763,
          3711,
          2142,
          3161,
          2848,
          14896,
          2359,
          3345,
          12749,
          2002,
          6872,
          697,
          10297,
          1867,
          1344,
          1747,
          1224,
          522,
          1919,
          2063,
          6288,
          6842,
          3527,
          1546,
          929,
          1455,
          3349,
          2859,
          1533,
          3621,
          3590,
          2145,
          3656,
          1154,
          4006,
          3069,
          1740,
          2353,
          3556,
          2397,
          454,
          2520,
          7166,
          3939,
          1514,
          7393,
          7297,
          2427,
          2538,
          1264,
          8386,
          4844,
          8229,
          2028,
          6289,
          6579,
          1743,
          3565,
          1569,
          1936,
          3959,
          2390,
          3857,
          804,
          1845,
          4576
         ],
         "y0": " ",
         "yaxis": "y"
        },
        {
         "alignmentgroup": "True",
         "hovertemplate": "Sex=%{x}<br>Credit amount=%{y}<extra></extra>",
         "legendgroup": "female",
         "marker": {
          "color": "#FF66CC"
         },
         "name": "female",
         "notched": false,
         "offsetgroup": "female",
         "orientation": "v",
         "showlegend": true,
         "type": "box",
         "x": [
          "female",
          "female",
          "female",
          "female",
          "female",
          "female",
          "female",
          "female",
          "female",
          "female",
          "female",
          "female",
          "female",
          "female",
          "female",
          "female",
          "female",
          "female",
          "female",
          "female",
          "female",
          "female",
          "female",
          "female",
          "female",
          "female",
          "female",
          "female",
          "female",
          "female",
          "female",
          "female",
          "female",
          "female",
          "female",
          "female",
          "female",
          "female",
          "female",
          "female",
          "female",
          "female",
          "female",
          "female",
          "female",
          "female",
          "female",
          "female",
          "female",
          "female",
          "female",
          "female",
          "female",
          "female",
          "female",
          "female",
          "female",
          "female",
          "female",
          "female",
          "female",
          "female",
          "female",
          "female",
          "female",
          "female",
          "female",
          "female",
          "female",
          "female",
          "female",
          "female",
          "female",
          "female",
          "female",
          "female",
          "female",
          "female",
          "female",
          "female",
          "female",
          "female",
          "female",
          "female",
          "female",
          "female",
          "female",
          "female",
          "female",
          "female",
          "female",
          "female",
          "female",
          "female",
          "female",
          "female",
          "female",
          "female",
          "female",
          "female",
          "female",
          "female",
          "female",
          "female",
          "female",
          "female",
          "female",
          "female",
          "female",
          "female",
          "female",
          "female",
          "female",
          "female",
          "female",
          "female",
          "female",
          "female",
          "female",
          "female",
          "female",
          "female",
          "female",
          "female",
          "female",
          "female",
          "female",
          "female",
          "female",
          "female",
          "female",
          "female",
          "female",
          "female",
          "female",
          "female",
          "female",
          "female",
          "female",
          "female",
          "female",
          "female",
          "female",
          "female",
          "female",
          "female",
          "female",
          "female",
          "female",
          "female",
          "female",
          "female",
          "female",
          "female",
          "female",
          "female",
          "female",
          "female",
          "female",
          "female",
          "female",
          "female",
          "female",
          "female",
          "female",
          "female",
          "female",
          "female",
          "female",
          "female",
          "female",
          "female",
          "female",
          "female",
          "female",
          "female",
          "female",
          "female",
          "female",
          "female",
          "female",
          "female",
          "female",
          "female",
          "female",
          "female",
          "female",
          "female",
          "female",
          "female",
          "female",
          "female",
          "female",
          "female",
          "female",
          "female",
          "female",
          "female",
          "female",
          "female",
          "female",
          "female",
          "female",
          "female",
          "female",
          "female",
          "female",
          "female",
          "female",
          "female",
          "female",
          "female",
          "female",
          "female",
          "female",
          "female",
          "female",
          "female",
          "female",
          "female",
          "female",
          "female",
          "female",
          "female",
          "female",
          "female",
          "female",
          "female",
          "female",
          "female",
          "female",
          "female",
          "female",
          "female",
          "female",
          "female",
          "female",
          "female",
          "female",
          "female",
          "female",
          "female",
          "female",
          "female",
          "female",
          "female",
          "female",
          "female",
          "female",
          "female",
          "female",
          "female",
          "female",
          "female",
          "female",
          "female",
          "female",
          "female",
          "female",
          "female",
          "female",
          "female",
          "female",
          "female",
          "female",
          "female",
          "female",
          "female",
          "female",
          "female",
          "female",
          "female",
          "female",
          "female",
          "female",
          "female",
          "female",
          "female",
          "female",
          "female",
          "female",
          "female",
          "female",
          "female",
          "female",
          "female",
          "female",
          "female",
          "female",
          "female",
          "female",
          "female",
          "female",
          "female",
          "female",
          "female",
          "female",
          "female",
          "female",
          "female",
          "female",
          "female",
          "female",
          "female",
          "female",
          "female",
          "female",
          "female",
          "female",
          "female"
         ],
         "x0": " ",
         "xaxis": "x",
         "y": [
          5951,
          1295,
          4308,
          1567,
          1403,
          1282,
          12579,
          409,
          1474,
          6143,
          1393,
          1352,
          2073,
          9566,
          1961,
          6229,
          3181,
          2171,
          2394,
          8133,
          5954,
          5943,
          1568,
          1755,
          1412,
          1295,
          797,
          2012,
          932,
          7721,
          392,
          7855,
          7174,
          2132,
          4281,
          1835,
          3868,
          1924,
          3499,
          8487,
          10144,
          1240,
          1881,
          4795,
          2288,
          860,
          682,
          7758,
          1282,
          1055,
          1131,
          1577,
          3972,
          763,
          2064,
          7485,
          5129,
          3244,
          1501,
          1382,
          951,
          3835,
          932,
          1364,
          1200,
          1291,
          915,
          1185,
          3447,
          433,
          666,
          2251,
          2150,
          3812,
          1154,
          1603,
          2748,
          1533,
          1402,
          2404,
          4611,
          10722,
          1092,
          6419,
          9960,
          4675,
          672,
          3804,
          4811,
          1237,
          3749,
          4351,
          3643,
          1028,
          1525,
          1864,
          7408,
          11590,
          2101,
          1275,
          5743,
          3599,
          1459,
          3758,
          1236,
          959,
          2406,
          2247,
          3650,
          3001,
          2146,
          14782,
          7685,
          362,
          12976,
          1283,
          2238,
          1126,
          1449,
          983,
          1957,
          2578,
          1516,
          1967,
          1381,
          8471,
          2782,
          1042,
          3186,
          2762,
          1190,
          1287,
          609,
          1620,
          5096,
          1244,
          1842,
          1424,
          518,
          2679,
          343,
          3017,
          1659,
          2764,
          448,
          3114,
          3573,
          3622,
          960,
          3757,
          8318,
          1237,
          3123,
          1207,
          609,
          7127,
          3190,
          3488,
          1113,
          1532,
          2631,
          1374,
          3612,
          3049,
          2022,
          626,
          996,
          1199,
          2278,
          5003,
          683,
          1553,
          6758,
          3234,
          5433,
          806,
          2788,
          2930,
          1927,
          1388,
          2133,
          2039,
          385,
          1965,
          1572,
          2718,
          931,
          1442,
          2329,
          918,
          1837,
          3349,
          1275,
          2671,
          741,
          1240,
          3357,
          3632,
          1808,
          3441,
          1858,
          3660,
          1980,
          1355,
          1376,
          1493,
          750,
          1386,
          4221,
          1047,
          3609,
          4530,
          1453,
          1538,
          2631,
          926,
          1123,
          1377,
          2528,
          5324,
          2969,
          1206,
          1198,
          433,
          1228,
          790,
          2570,
          250,
          1882,
          6416,
          760,
          2603,
          3380,
          3990,
          11560,
          4280,
          2511,
          1274,
          428,
          976,
          841,
          5771,
          1285,
          5045,
          2124,
          2901,
          2812,
          8065,
          1371,
          3509,
          3872,
          836,
          1188,
          2301,
          1258,
          1795,
          4272,
          7472,
          1778,
          7432,
          1554,
          3966,
          1216,
          5084,
          2327,
          886,
          601,
          1943,
          894,
          3959,
          2439,
          2221,
          2389,
          652,
          7678,
          874,
          1322,
          1098,
          795,
          2606,
          1592,
          2186,
          3594,
          3195,
          4454,
          4736,
          2991,
          18424,
          1817,
          1366,
          1049,
          1670,
          1498,
          745,
          1845,
          8358,
          4113,
          10974,
          1893,
          1231,
          1715,
          3568,
          1193,
          2831,
          1258,
          753,
          2923,
          1433,
          1409,
          1736
         ],
         "y0": " ",
         "yaxis": "y"
        }
       ],
       "layout": {
        "boxmode": "overlay",
        "font": {
         "color": "white"
        },
        "legend": {
         "title": {
          "text": "Sex"
         },
         "tracegroupgap": 0
        },
        "margin": {
         "t": 60
        },
        "paper_bgcolor": "rgba(0,0,0,0)",
        "plot_bgcolor": "rgba(0,0,0,0)",
        "template": {
         "data": {
          "bar": [
           {
            "error_x": {
             "color": "#f2f5fa"
            },
            "error_y": {
             "color": "#f2f5fa"
            },
            "marker": {
             "line": {
              "color": "rgb(17,17,17)",
              "width": 0.5
             },
             "pattern": {
              "fillmode": "overlay",
              "size": 10,
              "solidity": 0.2
             }
            },
            "type": "bar"
           }
          ],
          "barpolar": [
           {
            "marker": {
             "line": {
              "color": "rgb(17,17,17)",
              "width": 0.5
             },
             "pattern": {
              "fillmode": "overlay",
              "size": 10,
              "solidity": 0.2
             }
            },
            "type": "barpolar"
           }
          ],
          "carpet": [
           {
            "aaxis": {
             "endlinecolor": "#A2B1C6",
             "gridcolor": "#506784",
             "linecolor": "#506784",
             "minorgridcolor": "#506784",
             "startlinecolor": "#A2B1C6"
            },
            "baxis": {
             "endlinecolor": "#A2B1C6",
             "gridcolor": "#506784",
             "linecolor": "#506784",
             "minorgridcolor": "#506784",
             "startlinecolor": "#A2B1C6"
            },
            "type": "carpet"
           }
          ],
          "choropleth": [
           {
            "colorbar": {
             "outlinewidth": 0,
             "ticks": ""
            },
            "type": "choropleth"
           }
          ],
          "contour": [
           {
            "colorbar": {
             "outlinewidth": 0,
             "ticks": ""
            },
            "colorscale": [
             [
              0,
              "#0d0887"
             ],
             [
              0.1111111111111111,
              "#46039f"
             ],
             [
              0.2222222222222222,
              "#7201a8"
             ],
             [
              0.3333333333333333,
              "#9c179e"
             ],
             [
              0.4444444444444444,
              "#bd3786"
             ],
             [
              0.5555555555555556,
              "#d8576b"
             ],
             [
              0.6666666666666666,
              "#ed7953"
             ],
             [
              0.7777777777777778,
              "#fb9f3a"
             ],
             [
              0.8888888888888888,
              "#fdca26"
             ],
             [
              1,
              "#f0f921"
             ]
            ],
            "type": "contour"
           }
          ],
          "contourcarpet": [
           {
            "colorbar": {
             "outlinewidth": 0,
             "ticks": ""
            },
            "type": "contourcarpet"
           }
          ],
          "heatmap": [
           {
            "colorbar": {
             "outlinewidth": 0,
             "ticks": ""
            },
            "colorscale": [
             [
              0,
              "#0d0887"
             ],
             [
              0.1111111111111111,
              "#46039f"
             ],
             [
              0.2222222222222222,
              "#7201a8"
             ],
             [
              0.3333333333333333,
              "#9c179e"
             ],
             [
              0.4444444444444444,
              "#bd3786"
             ],
             [
              0.5555555555555556,
              "#d8576b"
             ],
             [
              0.6666666666666666,
              "#ed7953"
             ],
             [
              0.7777777777777778,
              "#fb9f3a"
             ],
             [
              0.8888888888888888,
              "#fdca26"
             ],
             [
              1,
              "#f0f921"
             ]
            ],
            "type": "heatmap"
           }
          ],
          "heatmapgl": [
           {
            "colorbar": {
             "outlinewidth": 0,
             "ticks": ""
            },
            "colorscale": [
             [
              0,
              "#0d0887"
             ],
             [
              0.1111111111111111,
              "#46039f"
             ],
             [
              0.2222222222222222,
              "#7201a8"
             ],
             [
              0.3333333333333333,
              "#9c179e"
             ],
             [
              0.4444444444444444,
              "#bd3786"
             ],
             [
              0.5555555555555556,
              "#d8576b"
             ],
             [
              0.6666666666666666,
              "#ed7953"
             ],
             [
              0.7777777777777778,
              "#fb9f3a"
             ],
             [
              0.8888888888888888,
              "#fdca26"
             ],
             [
              1,
              "#f0f921"
             ]
            ],
            "type": "heatmapgl"
           }
          ],
          "histogram": [
           {
            "marker": {
             "pattern": {
              "fillmode": "overlay",
              "size": 10,
              "solidity": 0.2
             }
            },
            "type": "histogram"
           }
          ],
          "histogram2d": [
           {
            "colorbar": {
             "outlinewidth": 0,
             "ticks": ""
            },
            "colorscale": [
             [
              0,
              "#0d0887"
             ],
             [
              0.1111111111111111,
              "#46039f"
             ],
             [
              0.2222222222222222,
              "#7201a8"
             ],
             [
              0.3333333333333333,
              "#9c179e"
             ],
             [
              0.4444444444444444,
              "#bd3786"
             ],
             [
              0.5555555555555556,
              "#d8576b"
             ],
             [
              0.6666666666666666,
              "#ed7953"
             ],
             [
              0.7777777777777778,
              "#fb9f3a"
             ],
             [
              0.8888888888888888,
              "#fdca26"
             ],
             [
              1,
              "#f0f921"
             ]
            ],
            "type": "histogram2d"
           }
          ],
          "histogram2dcontour": [
           {
            "colorbar": {
             "outlinewidth": 0,
             "ticks": ""
            },
            "colorscale": [
             [
              0,
              "#0d0887"
             ],
             [
              0.1111111111111111,
              "#46039f"
             ],
             [
              0.2222222222222222,
              "#7201a8"
             ],
             [
              0.3333333333333333,
              "#9c179e"
             ],
             [
              0.4444444444444444,
              "#bd3786"
             ],
             [
              0.5555555555555556,
              "#d8576b"
             ],
             [
              0.6666666666666666,
              "#ed7953"
             ],
             [
              0.7777777777777778,
              "#fb9f3a"
             ],
             [
              0.8888888888888888,
              "#fdca26"
             ],
             [
              1,
              "#f0f921"
             ]
            ],
            "type": "histogram2dcontour"
           }
          ],
          "mesh3d": [
           {
            "colorbar": {
             "outlinewidth": 0,
             "ticks": ""
            },
            "type": "mesh3d"
           }
          ],
          "parcoords": [
           {
            "line": {
             "colorbar": {
              "outlinewidth": 0,
              "ticks": ""
             }
            },
            "type": "parcoords"
           }
          ],
          "pie": [
           {
            "automargin": true,
            "type": "pie"
           }
          ],
          "scatter": [
           {
            "marker": {
             "line": {
              "color": "#283442"
             }
            },
            "type": "scatter"
           }
          ],
          "scatter3d": [
           {
            "line": {
             "colorbar": {
              "outlinewidth": 0,
              "ticks": ""
             }
            },
            "marker": {
             "colorbar": {
              "outlinewidth": 0,
              "ticks": ""
             }
            },
            "type": "scatter3d"
           }
          ],
          "scattercarpet": [
           {
            "marker": {
             "colorbar": {
              "outlinewidth": 0,
              "ticks": ""
             }
            },
            "type": "scattercarpet"
           }
          ],
          "scattergeo": [
           {
            "marker": {
             "colorbar": {
              "outlinewidth": 0,
              "ticks": ""
             }
            },
            "type": "scattergeo"
           }
          ],
          "scattergl": [
           {
            "marker": {
             "line": {
              "color": "#283442"
             }
            },
            "type": "scattergl"
           }
          ],
          "scattermapbox": [
           {
            "marker": {
             "colorbar": {
              "outlinewidth": 0,
              "ticks": ""
             }
            },
            "type": "scattermapbox"
           }
          ],
          "scatterpolar": [
           {
            "marker": {
             "colorbar": {
              "outlinewidth": 0,
              "ticks": ""
             }
            },
            "type": "scatterpolar"
           }
          ],
          "scatterpolargl": [
           {
            "marker": {
             "colorbar": {
              "outlinewidth": 0,
              "ticks": ""
             }
            },
            "type": "scatterpolargl"
           }
          ],
          "scatterternary": [
           {
            "marker": {
             "colorbar": {
              "outlinewidth": 0,
              "ticks": ""
             }
            },
            "type": "scatterternary"
           }
          ],
          "surface": [
           {
            "colorbar": {
             "outlinewidth": 0,
             "ticks": ""
            },
            "colorscale": [
             [
              0,
              "#0d0887"
             ],
             [
              0.1111111111111111,
              "#46039f"
             ],
             [
              0.2222222222222222,
              "#7201a8"
             ],
             [
              0.3333333333333333,
              "#9c179e"
             ],
             [
              0.4444444444444444,
              "#bd3786"
             ],
             [
              0.5555555555555556,
              "#d8576b"
             ],
             [
              0.6666666666666666,
              "#ed7953"
             ],
             [
              0.7777777777777778,
              "#fb9f3a"
             ],
             [
              0.8888888888888888,
              "#fdca26"
             ],
             [
              1,
              "#f0f921"
             ]
            ],
            "type": "surface"
           }
          ],
          "table": [
           {
            "cells": {
             "fill": {
              "color": "#506784"
             },
             "line": {
              "color": "rgb(17,17,17)"
             }
            },
            "header": {
             "fill": {
              "color": "#2a3f5f"
             },
             "line": {
              "color": "rgb(17,17,17)"
             }
            },
            "type": "table"
           }
          ]
         },
         "layout": {
          "annotationdefaults": {
           "arrowcolor": "#f2f5fa",
           "arrowhead": 0,
           "arrowwidth": 1
          },
          "autotypenumbers": "strict",
          "coloraxis": {
           "colorbar": {
            "outlinewidth": 0,
            "ticks": ""
           }
          },
          "colorscale": {
           "diverging": [
            [
             0,
             "#8e0152"
            ],
            [
             0.1,
             "#c51b7d"
            ],
            [
             0.2,
             "#de77ae"
            ],
            [
             0.3,
             "#f1b6da"
            ],
            [
             0.4,
             "#fde0ef"
            ],
            [
             0.5,
             "#f7f7f7"
            ],
            [
             0.6,
             "#e6f5d0"
            ],
            [
             0.7,
             "#b8e186"
            ],
            [
             0.8,
             "#7fbc41"
            ],
            [
             0.9,
             "#4d9221"
            ],
            [
             1,
             "#276419"
            ]
           ],
           "sequential": [
            [
             0,
             "#0d0887"
            ],
            [
             0.1111111111111111,
             "#46039f"
            ],
            [
             0.2222222222222222,
             "#7201a8"
            ],
            [
             0.3333333333333333,
             "#9c179e"
            ],
            [
             0.4444444444444444,
             "#bd3786"
            ],
            [
             0.5555555555555556,
             "#d8576b"
            ],
            [
             0.6666666666666666,
             "#ed7953"
            ],
            [
             0.7777777777777778,
             "#fb9f3a"
            ],
            [
             0.8888888888888888,
             "#fdca26"
            ],
            [
             1,
             "#f0f921"
            ]
           ],
           "sequentialminus": [
            [
             0,
             "#0d0887"
            ],
            [
             0.1111111111111111,
             "#46039f"
            ],
            [
             0.2222222222222222,
             "#7201a8"
            ],
            [
             0.3333333333333333,
             "#9c179e"
            ],
            [
             0.4444444444444444,
             "#bd3786"
            ],
            [
             0.5555555555555556,
             "#d8576b"
            ],
            [
             0.6666666666666666,
             "#ed7953"
            ],
            [
             0.7777777777777778,
             "#fb9f3a"
            ],
            [
             0.8888888888888888,
             "#fdca26"
            ],
            [
             1,
             "#f0f921"
            ]
           ]
          },
          "colorway": [
           "#636efa",
           "#EF553B",
           "#00cc96",
           "#ab63fa",
           "#FFA15A",
           "#19d3f3",
           "#FF6692",
           "#B6E880",
           "#FF97FF",
           "#FECB52"
          ],
          "font": {
           "color": "#f2f5fa"
          },
          "geo": {
           "bgcolor": "rgb(17,17,17)",
           "lakecolor": "rgb(17,17,17)",
           "landcolor": "rgb(17,17,17)",
           "showlakes": true,
           "showland": true,
           "subunitcolor": "#506784"
          },
          "hoverlabel": {
           "align": "left"
          },
          "hovermode": "closest",
          "mapbox": {
           "style": "dark"
          },
          "paper_bgcolor": "rgb(17,17,17)",
          "plot_bgcolor": "rgb(17,17,17)",
          "polar": {
           "angularaxis": {
            "gridcolor": "#506784",
            "linecolor": "#506784",
            "ticks": ""
           },
           "bgcolor": "rgb(17,17,17)",
           "radialaxis": {
            "gridcolor": "#506784",
            "linecolor": "#506784",
            "ticks": ""
           }
          },
          "scene": {
           "xaxis": {
            "backgroundcolor": "rgb(17,17,17)",
            "gridcolor": "#506784",
            "gridwidth": 2,
            "linecolor": "#506784",
            "showbackground": true,
            "ticks": "",
            "zerolinecolor": "#C8D4E3"
           },
           "yaxis": {
            "backgroundcolor": "rgb(17,17,17)",
            "gridcolor": "#506784",
            "gridwidth": 2,
            "linecolor": "#506784",
            "showbackground": true,
            "ticks": "",
            "zerolinecolor": "#C8D4E3"
           },
           "zaxis": {
            "backgroundcolor": "rgb(17,17,17)",
            "gridcolor": "#506784",
            "gridwidth": 2,
            "linecolor": "#506784",
            "showbackground": true,
            "ticks": "",
            "zerolinecolor": "#C8D4E3"
           }
          },
          "shapedefaults": {
           "line": {
            "color": "#f2f5fa"
           }
          },
          "sliderdefaults": {
           "bgcolor": "#C8D4E3",
           "bordercolor": "rgb(17,17,17)",
           "borderwidth": 1,
           "tickwidth": 0
          },
          "ternary": {
           "aaxis": {
            "gridcolor": "#506784",
            "linecolor": "#506784",
            "ticks": ""
           },
           "baxis": {
            "gridcolor": "#506784",
            "linecolor": "#506784",
            "ticks": ""
           },
           "bgcolor": "rgb(17,17,17)",
           "caxis": {
            "gridcolor": "#506784",
            "linecolor": "#506784",
            "ticks": ""
           }
          },
          "title": {
           "x": 0.05
          },
          "updatemenudefaults": {
           "bgcolor": "#506784",
           "borderwidth": 0
          },
          "xaxis": {
           "automargin": true,
           "gridcolor": "#283442",
           "linecolor": "#506784",
           "ticks": "",
           "title": {
            "standoff": 15
           },
           "zerolinecolor": "#283442",
           "zerolinewidth": 2
          },
          "yaxis": {
           "automargin": true,
           "gridcolor": "#283442",
           "linecolor": "#506784",
           "ticks": "",
           "title": {
            "standoff": 15
           },
           "zerolinecolor": "#283442",
           "zerolinewidth": 2
          }
         }
        },
        "xaxis": {
         "anchor": "y",
         "categoryarray": [
          "male",
          "female"
         ],
         "categoryorder": "array",
         "domain": [
          0,
          1
         ],
         "title": {
          "text": "Sex"
         }
        },
        "yaxis": {
         "anchor": "x",
         "domain": [
          0,
          1
         ],
         "title": {
          "text": "Credit amount"
         }
        }
       }
      }
     },
     "metadata": {},
     "output_type": "display_data"
    },
    {
     "data": {
      "application/vnd.plotly.v1+json": {
       "config": {
        "plotlyServerURL": "https://plot.ly"
       },
       "data": [
        {
         "alignmentgroup": "True",
         "hovertemplate": "Job=%{x}<br>Credit amount=%{y}<extra></extra>",
         "legendgroup": "2",
         "marker": {
          "color": "#FFA500"
         },
         "name": "2",
         "notched": false,
         "offsetgroup": "2",
         "orientation": "v",
         "showlegend": true,
         "type": "box",
         "x": [
          2,
          2,
          2,
          2,
          2,
          2,
          2,
          2,
          2,
          2,
          2,
          2,
          2,
          2,
          2,
          2,
          2,
          2,
          2,
          2,
          2,
          2,
          2,
          2,
          2,
          2,
          2,
          2,
          2,
          2,
          2,
          2,
          2,
          2,
          2,
          2,
          2,
          2,
          2,
          2,
          2,
          2,
          2,
          2,
          2,
          2,
          2,
          2,
          2,
          2,
          2,
          2,
          2,
          2,
          2,
          2,
          2,
          2,
          2,
          2,
          2,
          2,
          2,
          2,
          2,
          2,
          2,
          2,
          2,
          2,
          2,
          2,
          2,
          2,
          2,
          2,
          2,
          2,
          2,
          2,
          2,
          2,
          2,
          2,
          2,
          2,
          2,
          2,
          2,
          2,
          2,
          2,
          2,
          2,
          2,
          2,
          2,
          2,
          2,
          2,
          2,
          2,
          2,
          2,
          2,
          2,
          2,
          2,
          2,
          2,
          2,
          2,
          2,
          2,
          2,
          2,
          2,
          2,
          2,
          2,
          2,
          2,
          2,
          2,
          2,
          2,
          2,
          2,
          2,
          2,
          2,
          2,
          2,
          2,
          2,
          2,
          2,
          2,
          2,
          2,
          2,
          2,
          2,
          2,
          2,
          2,
          2,
          2,
          2,
          2,
          2,
          2,
          2,
          2,
          2,
          2,
          2,
          2,
          2,
          2,
          2,
          2,
          2,
          2,
          2,
          2,
          2,
          2,
          2,
          2,
          2,
          2,
          2,
          2,
          2,
          2,
          2,
          2,
          2,
          2,
          2,
          2,
          2,
          2,
          2,
          2,
          2,
          2,
          2,
          2,
          2,
          2,
          2,
          2,
          2,
          2,
          2,
          2,
          2,
          2,
          2,
          2,
          2,
          2,
          2,
          2,
          2,
          2,
          2,
          2,
          2,
          2,
          2,
          2,
          2,
          2,
          2,
          2,
          2,
          2,
          2,
          2,
          2,
          2,
          2,
          2,
          2,
          2,
          2,
          2,
          2,
          2,
          2,
          2,
          2,
          2,
          2,
          2,
          2,
          2,
          2,
          2,
          2,
          2,
          2,
          2,
          2,
          2,
          2,
          2,
          2,
          2,
          2,
          2,
          2,
          2,
          2,
          2,
          2,
          2,
          2,
          2,
          2,
          2,
          2,
          2,
          2,
          2,
          2,
          2,
          2,
          2,
          2,
          2,
          2,
          2,
          2,
          2,
          2,
          2,
          2,
          2,
          2,
          2,
          2,
          2,
          2,
          2,
          2,
          2,
          2,
          2,
          2,
          2,
          2,
          2,
          2,
          2,
          2,
          2,
          2,
          2,
          2,
          2,
          2,
          2,
          2,
          2,
          2,
          2,
          2,
          2,
          2,
          2,
          2,
          2,
          2,
          2,
          2,
          2,
          2,
          2,
          2,
          2,
          2,
          2,
          2,
          2,
          2,
          2,
          2,
          2,
          2,
          2,
          2,
          2,
          2,
          2,
          2,
          2,
          2,
          2,
          2,
          2,
          2,
          2,
          2,
          2,
          2,
          2,
          2,
          2,
          2,
          2,
          2,
          2,
          2,
          2,
          2,
          2,
          2,
          2,
          2,
          2,
          2,
          2,
          2,
          2,
          2,
          2,
          2,
          2,
          2,
          2,
          2,
          2,
          2,
          2,
          2,
          2,
          2,
          2,
          2,
          2,
          2,
          2,
          2,
          2,
          2,
          2,
          2,
          2,
          2,
          2,
          2,
          2,
          2,
          2,
          2,
          2,
          2,
          2,
          2,
          2,
          2,
          2,
          2,
          2,
          2,
          2,
          2,
          2,
          2,
          2,
          2,
          2,
          2,
          2,
          2,
          2,
          2,
          2,
          2,
          2,
          2,
          2,
          2,
          2,
          2,
          2,
          2,
          2,
          2,
          2,
          2,
          2,
          2,
          2,
          2,
          2,
          2,
          2,
          2,
          2,
          2,
          2,
          2,
          2,
          2,
          2,
          2,
          2,
          2,
          2,
          2,
          2,
          2,
          2,
          2,
          2,
          2,
          2,
          2,
          2,
          2,
          2,
          2,
          2,
          2,
          2,
          2,
          2,
          2,
          2,
          2,
          2,
          2,
          2,
          2,
          2,
          2,
          2,
          2,
          2,
          2,
          2,
          2,
          2,
          2,
          2,
          2,
          2,
          2,
          2,
          2,
          2,
          2,
          2,
          2,
          2,
          2,
          2,
          2,
          2,
          2,
          2,
          2,
          2,
          2,
          2,
          2,
          2,
          2,
          2,
          2,
          2,
          2,
          2,
          2,
          2,
          2,
          2,
          2,
          2,
          2,
          2,
          2,
          2,
          2,
          2,
          2,
          2,
          2,
          2,
          2,
          2,
          2,
          2,
          2,
          2,
          2,
          2,
          2,
          2,
          2,
          2,
          2,
          2,
          2,
          2,
          2,
          2,
          2,
          2,
          2,
          2,
          2,
          2,
          2,
          2,
          2,
          2,
          2,
          2,
          2,
          2,
          2,
          2,
          2,
          2,
          2,
          2,
          2,
          2,
          2,
          2,
          2,
          2,
          2,
          2,
          2,
          2,
          2,
          2,
          2,
          2,
          2,
          2,
          2,
          2,
          2,
          2,
          2,
          2,
          2,
          2,
          2,
          2,
          2,
          2,
          2,
          2,
          2,
          2,
          2,
          2,
          2,
          2,
          2,
          2,
          2,
          2,
          2,
          2,
          2,
          2,
          2,
          2,
          2,
          2,
          2,
          2,
          2,
          2,
          2,
          2,
          2,
          2,
          2,
          2
         ],
         "x0": " ",
         "xaxis": "x",
         "y": [
          1169,
          5951,
          7882,
          4870,
          2835,
          1295,
          4308,
          1567,
          1403,
          2424,
          8072,
          3430,
          2134,
          2647,
          1804,
          2069,
          409,
          2415,
          6836,
          1913,
          4020,
          5866,
          6110,
          2100,
          1225,
          458,
          1158,
          6187,
          2299,
          2073,
          1262,
          3378,
          2225,
          9566,
          1391,
          1537,
          14421,
          3181,
          5190,
          2171,
          1007,
          1819,
          2394,
          8133,
          3965,
          4771,
          3832,
          5943,
          1213,
          1295,
          12612,
          1108,
          618,
          1409,
          3617,
          1318,
          15945,
          2012,
          2622,
          2337,
          2323,
          932,
          1919,
          2445,
          6078,
          7721,
          1410,
          1449,
          392,
          7855,
          1680,
          3578,
          2132,
          4281,
          1835,
          781,
          1924,
          2121,
          639,
          3499,
          8487,
          6887,
          1984,
          10144,
          1240,
          8613,
          2728,
          2462,
          2288,
          3566,
          860,
          682,
          5371,
          1582,
          1346,
          1924,
          5848,
          7758,
          1282,
          1288,
          3512,
          2872,
          1055,
          1262,
          909,
          2978,
          1131,
          1577,
          3972,
          1935,
          950,
          763,
          1414,
          3414,
          2577,
          338,
          571,
          9572,
          3777,
          884,
          1360,
          674,
          3244,
          3915,
          2108,
          3031,
          1382,
          951,
          2760,
          936,
          5117,
          902,
          1935,
          1424,
          1413,
          3074,
          5293,
          3342,
          3104,
          3913,
          1364,
          1200,
          707,
          2978,
          4657,
          2613,
          10961,
          1478,
          3149,
          4210,
          2141,
          1291,
          2522,
          915,
          1595,
          4605,
          1185,
          1258,
          717,
          1204,
          1925,
          433,
          2150,
          4151,
          2030,
          2149,
          3812,
          1657,
          1603,
          802,
          6304,
          1533,
          999,
          2662,
          1402,
          3060,
          2697,
          2404,
          4611,
          3368,
          1574,
          1520,
          3878,
          4788,
          1092,
          1024,
          1076,
          4796,
          9960,
          4675,
          2515,
          2745,
          3804,
          1038,
          10127,
          1543,
          1237,
          5511,
          3749,
          2746,
          701,
          1938,
          2659,
          1028,
          5801,
          1525,
          4473,
          1068,
          1864,
          4110,
          1275,
          4169,
          5743,
          3213,
          882,
          1136,
          1236,
          959,
          6199,
          727,
          2331,
          776,
          2406,
          1239,
          2247,
          1766,
          1542,
          3850,
          3650,
          3446,
          3001,
          3079,
          6070,
          2146,
          7685,
          2320,
          846,
          2212,
          1283,
          1330,
          2238,
          1126,
          2326,
          1449,
          1957,
          11760,
          2348,
          1223,
          1473,
          1887,
          8648,
          2899,
          2039,
          2197,
          1053,
          939,
          1967,
          1381,
          5842,
          8471,
          1042,
          3186,
          2028,
          2762,
          2779,
          2743,
          1149,
          1313,
          2058,
          2136,
          1484,
          1287,
          1620,
          2629,
          1842,
          2576,
          1512,
          518,
          2759,
          4817,
          3905,
          3386,
          343,
          4594,
          3620,
          1721,
          754,
          1950,
          2924,
          7238,
          2764,
          3092,
          448,
          1245,
          3114,
          2569,
          5152,
          1478,
          1201,
          3622,
          960,
          1163,
          3077,
          3757,
          3518,
          1934,
          1237,
          368,
          2996,
          1585,
          1323,
          3123,
          5493,
          1126,
          1216,
          1207,
          2360,
          1413,
          759,
          2687,
          585,
          2255,
          609,
          7127,
          1203,
          700,
          5507,
          3190,
          7119,
          3488,
          7966,
          1532,
          2302,
          2273,
          2631,
          1503,
          1311,
          3105,
          2319,
          3612,
          1534,
          2032,
          6350,
          1333,
          2022,
          1552,
          8858,
          996,
          6999,
          1995,
          1331,
          2278,
          5003,
          3552,
          2964,
          683,
          12389,
          1553,
          1372,
          2578,
          3979,
          6758,
          5954,
          2788,
          2930,
          1927,
          2820,
          1056,
          1388,
          2039,
          2799,
          2246,
          1965,
          1442,
          2775,
          3863,
          2329,
          918,
          1275,
          2828,
          2671,
          2051,
          1300,
          741,
          3357,
          3632,
          1808,
          3676,
          3441,
          3652,
          1530,
          3914,
          1858,
          2600,
          1979,
          2116,
          1437,
          4042,
          3660,
          1553,
          1444,
          1980,
          1393,
          1376,
          15653,
          1493,
          4370,
          1851,
          7980,
          4583,
          1386,
          947,
          2303,
          2346,
          3973,
          10222,
          4221,
          6361,
          1297,
          900,
          2241,
          3496,
          3609,
          4843,
          3017,
          5742,
          2080,
          5150,
          5595,
          1453,
          1538,
          2279,
          1478,
          5103,
          6527,
          1347,
          2862,
          2753,
          3651,
          975,
          2896,
          2284,
          1236,
          1103,
          1800,
          6331,
          1377,
          2503,
          2528,
          5324,
          6560,
          2969,
          1206,
          1198,
          7596,
          3077,
          3148,
          6148,
          433,
          2570,
          1882,
          6416,
          1275,
          6403,
          2603,
          3380,
          2325,
          3160,
          2483,
          2511,
          5248,
          3029,
          428,
          5771,
          1555,
          1285,
          1271,
          1393,
          691,
          5045,
          2124,
          2463,
          2901,
          3617,
          2812,
          2223,
          1371,
          3535,
          3509,
          3872,
          4933,
          1940,
          2675,
          2751,
          6224,
          5998,
          1188,
          1221,
          2892,
          3062,
          2301,
          7511,
          717,
          1597,
          4272,
          976,
          9271,
          930,
          907,
          9629,
          3051,
          3931,
          7432,
          1338,
          1554,
          1345,
          1101,
          3016,
          2712,
          1602,
          3966,
          4165,
          8335,
          6681,
          2375,
          1216,
          11816,
          5084,
          1082,
          886,
          2957,
          2611,
          5179,
          1943,
          1559,
          3422,
          3976,
          6761,
          1249,
          1364,
          2235,
          4042,
          1471,
          10875,
          1474,
          894,
          3343,
          3959,
          3577,
          5804,
          2169,
          2439,
          2221,
          2389,
          3331,
          7409,
          652,
          7678,
          1343,
          1382,
          874,
          1322,
          3595,
          6742,
          9277,
          2181,
          4057,
          795,
          2825,
          15672,
          7824,
          1829,
          5800,
          1169,
          1592,
          4153,
          2625,
          3485,
          10477,
          1386,
          3711,
          4454,
          2991,
          2142,
          3161,
          2848,
          2359,
          1817,
          1366,
          2002,
          6872,
          697,
          1049,
          10297,
          1867,
          1670,
          1224,
          522,
          1498,
          6288,
          929,
          1845,
          8358,
          3349,
          3621,
          2145,
          4113,
          1893,
          3069,
          1740,
          2353,
          3556,
          2397,
          1715,
          7166,
          1514,
          7297,
          2831,
          753,
          2427,
          1264,
          8386,
          8229,
          1433,
          6289,
          1409,
          2390,
          804,
          1845,
          4576
         ],
         "y0": " ",
         "yaxis": "y"
        },
        {
         "alignmentgroup": "True",
         "hovertemplate": "Job=%{x}<br>Credit amount=%{y}<extra></extra>",
         "legendgroup": "1",
         "marker": {
          "color": "#FFA500"
         },
         "name": "1",
         "notched": false,
         "offsetgroup": "1",
         "orientation": "v",
         "showlegend": true,
         "type": "box",
         "x": [
          1,
          1,
          1,
          1,
          1,
          1,
          1,
          1,
          1,
          1,
          1,
          1,
          1,
          1,
          1,
          1,
          1,
          1,
          1,
          1,
          1,
          1,
          1,
          1,
          1,
          1,
          1,
          1,
          1,
          1,
          1,
          1,
          1,
          1,
          1,
          1,
          1,
          1,
          1,
          1,
          1,
          1,
          1,
          1,
          1,
          1,
          1,
          1,
          1,
          1,
          1,
          1,
          1,
          1,
          1,
          1,
          1,
          1,
          1,
          1,
          1,
          1,
          1,
          1,
          1,
          1,
          1,
          1,
          1,
          1,
          1,
          1,
          1,
          1,
          1,
          1,
          1,
          1,
          1,
          1,
          1,
          1,
          1,
          1,
          1,
          1,
          1,
          1,
          1,
          1,
          1,
          1,
          1,
          1,
          1,
          1,
          1,
          1,
          1,
          1,
          1,
          1,
          1,
          1,
          1,
          1,
          1,
          1,
          1,
          1,
          1,
          1,
          1,
          1,
          1,
          1,
          1,
          1,
          1,
          1,
          1,
          1,
          1,
          1,
          1,
          1,
          1,
          1,
          1,
          1,
          1,
          1,
          1,
          1,
          1,
          1,
          1,
          1,
          1,
          1,
          1,
          1,
          1,
          1,
          1,
          1,
          1,
          1,
          1,
          1,
          1,
          1,
          1,
          1,
          1,
          1,
          1,
          1,
          1,
          1,
          1,
          1,
          1,
          1,
          1,
          1,
          1,
          1,
          1,
          1,
          1,
          1,
          1,
          1,
          1,
          1,
          1,
          1,
          1,
          1,
          1,
          1,
          1,
          1,
          1,
          1,
          1,
          1,
          1,
          1,
          1,
          1,
          1,
          1,
          1,
          1,
          1,
          1,
          1,
          1
         ],
         "x0": " ",
         "xaxis": "x",
         "y": [
          2096,
          9055,
          3059,
          1199,
          1282,
          2241,
          1374,
          426,
          1264,
          4746,
          6204,
          6143,
          7228,
          2333,
          783,
          6229,
          730,
          5954,
          9436,
          1568,
          1755,
          2315,
          797,
          1469,
          6260,
          1768,
          701,
          2708,
          766,
          1881,
          339,
          1898,
          1647,
          3844,
          1168,
          1495,
          6568,
          3835,
          932,
          3021,
          625,
          2507,
          866,
          1544,
          2767,
          3447,
          666,
          2251,
          7418,
          2684,
          1154,
          2748,
          1231,
          11998,
          1262,
          1445,
          10722,
          1287,
          1344,
          4811,
          727,
          276,
          685,
          1494,
          708,
          4351,
          3643,
          3398,
          11590,
          2101,
          1521,
          3599,
          3949,
          1459,
          1743,
          1246,
          362,
          4272,
          983,
          1516,
          802,
          1597,
          2579,
          958,
          3448,
          660,
          719,
          1244,
          1659,
          4679,
          654,
          1037,
          3573,
          1418,
          2122,
          1301,
          1309,
          1361,
          1113,
          1503,
          662,
          3049,
          2864,
          1255,
          626,
          1750,
          1928,
          1546,
          3234,
          806,
          1082,
          937,
          3124,
          2384,
          1289,
          1217,
          385,
          1572,
          2718,
          931,
          4241,
          1837,
          1240,
          640,
          3832,
          1355,
          1308,
          684,
          1922,
          888,
          1047,
          4139,
          2580,
          2384,
          9857,
          2631,
          4716,
          1123,
          2118,
          1138,
          1228,
          790,
          250,
          1316,
          1987,
          760,
          4380,
          4280,
          1048,
          1797,
          1274,
          976,
          841,
          2214,
          1155,
          3108,
          1655,
          1410,
          836,
          1941,
          1258,
          1795,
          590,
          484,
          731,
          2327,
          601,
          2993,
          709,
          1442,
          4526,
          2210,
          3590,
          2171,
          2186,
          3763,
          3594,
          3195,
          4736,
          1344,
          1747,
          745,
          1546,
          1455,
          1533,
          3656,
          1154,
          4006,
          454,
          2520,
          3939,
          7393,
          1258,
          2538,
          2028,
          1743,
          3565,
          1569,
          1936,
          1736
         ],
         "y0": " ",
         "yaxis": "y"
        },
        {
         "alignmentgroup": "True",
         "hovertemplate": "Job=%{x}<br>Credit amount=%{y}<extra></extra>",
         "legendgroup": "3",
         "marker": {
          "color": "#FFA500"
         },
         "name": "3",
         "notched": false,
         "offsetgroup": "3",
         "orientation": "v",
         "showlegend": true,
         "type": "box",
         "x": [
          3,
          3,
          3,
          3,
          3,
          3,
          3,
          3,
          3,
          3,
          3,
          3,
          3,
          3,
          3,
          3,
          3,
          3,
          3,
          3,
          3,
          3,
          3,
          3,
          3,
          3,
          3,
          3,
          3,
          3,
          3,
          3,
          3,
          3,
          3,
          3,
          3,
          3,
          3,
          3,
          3,
          3,
          3,
          3,
          3,
          3,
          3,
          3,
          3,
          3,
          3,
          3,
          3,
          3,
          3,
          3,
          3,
          3,
          3,
          3,
          3,
          3,
          3,
          3,
          3,
          3,
          3,
          3,
          3,
          3,
          3,
          3,
          3,
          3,
          3,
          3,
          3,
          3,
          3,
          3,
          3,
          3,
          3,
          3,
          3,
          3,
          3,
          3,
          3,
          3,
          3,
          3,
          3,
          3,
          3,
          3,
          3,
          3,
          3,
          3,
          3,
          3,
          3,
          3,
          3,
          3,
          3,
          3,
          3,
          3,
          3,
          3,
          3,
          3,
          3,
          3,
          3,
          3,
          3,
          3,
          3,
          3,
          3,
          3,
          3,
          3,
          3,
          3,
          3,
          3,
          3,
          3,
          3,
          3,
          3,
          3,
          3,
          3,
          3,
          3,
          3,
          3,
          3,
          3,
          3,
          3,
          3,
          3
         ],
         "x0": " ",
         "xaxis": "x",
         "y": [
          6948,
          5234,
          12579,
          1474,
          2333,
          1393,
          5965,
          6468,
          1961,
          1953,
          1164,
          1977,
          1526,
          1412,
          2249,
          7057,
          11938,
          6458,
          7174,
          2366,
          3868,
          1860,
          4795,
          3416,
          6967,
          7308,
          2064,
          7485,
          1963,
          4455,
          5129,
          4591,
          1501,
          4297,
          10623,
          1908,
          7865,
          1823,
          5302,
          8978,
          12169,
          1901,
          7582,
          9398,
          6419,
          7629,
          4249,
          2910,
          6615,
          7408,
          3384,
          4439,
          3229,
          4463,
          3399,
          13756,
          14782,
          14318,
          12976,
          7374,
          1820,
          3249,
          2406,
          2578,
          3235,
          7253,
          2292,
          2782,
          1591,
          11328,
          1872,
          1884,
          5096,
          1424,
          11054,
          2670,
          2679,
          3017,
          1238,
          1209,
          8318,
          9034,
          6850,
          8588,
          4686,
          1374,
          7763,
          1199,
          4712,
          5433,
          2133,
          1358,
          3349,
          4526,
          12204,
          9157,
          4623,
          1880,
          7476,
          8086,
          1050,
          6314,
          10366,
          4530,
          1905,
          629,
          2476,
          14027,
          1505,
          1337,
          11560,
          6761,
          14179,
          12680,
          8065,
          3275,
          5711,
          6468,
          6313,
          9283,
          15857,
          3780,
          1940,
          1422,
          7814,
          6614,
          2442,
          8947,
          2606,
          1278,
          1107,
          18424,
          14896,
          3345,
          12749,
          1919,
          2063,
          6842,
          3527,
          2859,
          10974,
          1231,
          3568,
          4844,
          2923,
          6579,
          3959,
          3857
         ],
         "y0": " ",
         "yaxis": "y"
        },
        {
         "alignmentgroup": "True",
         "hovertemplate": "Job=%{x}<br>Credit amount=%{y}<extra></extra>",
         "legendgroup": "0",
         "marker": {
          "color": "#FFA500"
         },
         "name": "0",
         "notched": false,
         "offsetgroup": "0",
         "orientation": "v",
         "showlegend": true,
         "type": "box",
         "x": [
          0,
          0,
          0,
          0,
          0,
          0,
          0,
          0,
          0,
          0,
          0,
          0,
          0,
          0,
          0,
          0,
          0,
          0,
          0,
          0,
          0,
          0
         ],
         "x0": " ",
         "xaxis": "x",
         "y": [
          1352,
          709,
          1175,
          14555,
          672,
          5381,
          3758,
          2473,
          1190,
          3394,
          609,
          750,
          926,
          3990,
          1299,
          1480,
          1549,
          7472,
          1778,
          1098,
          3590,
          1193
         ],
         "y0": " ",
         "yaxis": "y"
        }
       ],
       "layout": {
        "boxmode": "overlay",
        "font": {
         "color": "white"
        },
        "legend": {
         "title": {
          "text": "Job"
         },
         "tracegroupgap": 0
        },
        "margin": {
         "t": 60
        },
        "paper_bgcolor": "rgba(0,0,0,0)",
        "plot_bgcolor": "rgba(0,0,0,0)",
        "template": {
         "data": {
          "bar": [
           {
            "error_x": {
             "color": "#f2f5fa"
            },
            "error_y": {
             "color": "#f2f5fa"
            },
            "marker": {
             "line": {
              "color": "rgb(17,17,17)",
              "width": 0.5
             },
             "pattern": {
              "fillmode": "overlay",
              "size": 10,
              "solidity": 0.2
             }
            },
            "type": "bar"
           }
          ],
          "barpolar": [
           {
            "marker": {
             "line": {
              "color": "rgb(17,17,17)",
              "width": 0.5
             },
             "pattern": {
              "fillmode": "overlay",
              "size": 10,
              "solidity": 0.2
             }
            },
            "type": "barpolar"
           }
          ],
          "carpet": [
           {
            "aaxis": {
             "endlinecolor": "#A2B1C6",
             "gridcolor": "#506784",
             "linecolor": "#506784",
             "minorgridcolor": "#506784",
             "startlinecolor": "#A2B1C6"
            },
            "baxis": {
             "endlinecolor": "#A2B1C6",
             "gridcolor": "#506784",
             "linecolor": "#506784",
             "minorgridcolor": "#506784",
             "startlinecolor": "#A2B1C6"
            },
            "type": "carpet"
           }
          ],
          "choropleth": [
           {
            "colorbar": {
             "outlinewidth": 0,
             "ticks": ""
            },
            "type": "choropleth"
           }
          ],
          "contour": [
           {
            "colorbar": {
             "outlinewidth": 0,
             "ticks": ""
            },
            "colorscale": [
             [
              0,
              "#0d0887"
             ],
             [
              0.1111111111111111,
              "#46039f"
             ],
             [
              0.2222222222222222,
              "#7201a8"
             ],
             [
              0.3333333333333333,
              "#9c179e"
             ],
             [
              0.4444444444444444,
              "#bd3786"
             ],
             [
              0.5555555555555556,
              "#d8576b"
             ],
             [
              0.6666666666666666,
              "#ed7953"
             ],
             [
              0.7777777777777778,
              "#fb9f3a"
             ],
             [
              0.8888888888888888,
              "#fdca26"
             ],
             [
              1,
              "#f0f921"
             ]
            ],
            "type": "contour"
           }
          ],
          "contourcarpet": [
           {
            "colorbar": {
             "outlinewidth": 0,
             "ticks": ""
            },
            "type": "contourcarpet"
           }
          ],
          "heatmap": [
           {
            "colorbar": {
             "outlinewidth": 0,
             "ticks": ""
            },
            "colorscale": [
             [
              0,
              "#0d0887"
             ],
             [
              0.1111111111111111,
              "#46039f"
             ],
             [
              0.2222222222222222,
              "#7201a8"
             ],
             [
              0.3333333333333333,
              "#9c179e"
             ],
             [
              0.4444444444444444,
              "#bd3786"
             ],
             [
              0.5555555555555556,
              "#d8576b"
             ],
             [
              0.6666666666666666,
              "#ed7953"
             ],
             [
              0.7777777777777778,
              "#fb9f3a"
             ],
             [
              0.8888888888888888,
              "#fdca26"
             ],
             [
              1,
              "#f0f921"
             ]
            ],
            "type": "heatmap"
           }
          ],
          "heatmapgl": [
           {
            "colorbar": {
             "outlinewidth": 0,
             "ticks": ""
            },
            "colorscale": [
             [
              0,
              "#0d0887"
             ],
             [
              0.1111111111111111,
              "#46039f"
             ],
             [
              0.2222222222222222,
              "#7201a8"
             ],
             [
              0.3333333333333333,
              "#9c179e"
             ],
             [
              0.4444444444444444,
              "#bd3786"
             ],
             [
              0.5555555555555556,
              "#d8576b"
             ],
             [
              0.6666666666666666,
              "#ed7953"
             ],
             [
              0.7777777777777778,
              "#fb9f3a"
             ],
             [
              0.8888888888888888,
              "#fdca26"
             ],
             [
              1,
              "#f0f921"
             ]
            ],
            "type": "heatmapgl"
           }
          ],
          "histogram": [
           {
            "marker": {
             "pattern": {
              "fillmode": "overlay",
              "size": 10,
              "solidity": 0.2
             }
            },
            "type": "histogram"
           }
          ],
          "histogram2d": [
           {
            "colorbar": {
             "outlinewidth": 0,
             "ticks": ""
            },
            "colorscale": [
             [
              0,
              "#0d0887"
             ],
             [
              0.1111111111111111,
              "#46039f"
             ],
             [
              0.2222222222222222,
              "#7201a8"
             ],
             [
              0.3333333333333333,
              "#9c179e"
             ],
             [
              0.4444444444444444,
              "#bd3786"
             ],
             [
              0.5555555555555556,
              "#d8576b"
             ],
             [
              0.6666666666666666,
              "#ed7953"
             ],
             [
              0.7777777777777778,
              "#fb9f3a"
             ],
             [
              0.8888888888888888,
              "#fdca26"
             ],
             [
              1,
              "#f0f921"
             ]
            ],
            "type": "histogram2d"
           }
          ],
          "histogram2dcontour": [
           {
            "colorbar": {
             "outlinewidth": 0,
             "ticks": ""
            },
            "colorscale": [
             [
              0,
              "#0d0887"
             ],
             [
              0.1111111111111111,
              "#46039f"
             ],
             [
              0.2222222222222222,
              "#7201a8"
             ],
             [
              0.3333333333333333,
              "#9c179e"
             ],
             [
              0.4444444444444444,
              "#bd3786"
             ],
             [
              0.5555555555555556,
              "#d8576b"
             ],
             [
              0.6666666666666666,
              "#ed7953"
             ],
             [
              0.7777777777777778,
              "#fb9f3a"
             ],
             [
              0.8888888888888888,
              "#fdca26"
             ],
             [
              1,
              "#f0f921"
             ]
            ],
            "type": "histogram2dcontour"
           }
          ],
          "mesh3d": [
           {
            "colorbar": {
             "outlinewidth": 0,
             "ticks": ""
            },
            "type": "mesh3d"
           }
          ],
          "parcoords": [
           {
            "line": {
             "colorbar": {
              "outlinewidth": 0,
              "ticks": ""
             }
            },
            "type": "parcoords"
           }
          ],
          "pie": [
           {
            "automargin": true,
            "type": "pie"
           }
          ],
          "scatter": [
           {
            "marker": {
             "line": {
              "color": "#283442"
             }
            },
            "type": "scatter"
           }
          ],
          "scatter3d": [
           {
            "line": {
             "colorbar": {
              "outlinewidth": 0,
              "ticks": ""
             }
            },
            "marker": {
             "colorbar": {
              "outlinewidth": 0,
              "ticks": ""
             }
            },
            "type": "scatter3d"
           }
          ],
          "scattercarpet": [
           {
            "marker": {
             "colorbar": {
              "outlinewidth": 0,
              "ticks": ""
             }
            },
            "type": "scattercarpet"
           }
          ],
          "scattergeo": [
           {
            "marker": {
             "colorbar": {
              "outlinewidth": 0,
              "ticks": ""
             }
            },
            "type": "scattergeo"
           }
          ],
          "scattergl": [
           {
            "marker": {
             "line": {
              "color": "#283442"
             }
            },
            "type": "scattergl"
           }
          ],
          "scattermapbox": [
           {
            "marker": {
             "colorbar": {
              "outlinewidth": 0,
              "ticks": ""
             }
            },
            "type": "scattermapbox"
           }
          ],
          "scatterpolar": [
           {
            "marker": {
             "colorbar": {
              "outlinewidth": 0,
              "ticks": ""
             }
            },
            "type": "scatterpolar"
           }
          ],
          "scatterpolargl": [
           {
            "marker": {
             "colorbar": {
              "outlinewidth": 0,
              "ticks": ""
             }
            },
            "type": "scatterpolargl"
           }
          ],
          "scatterternary": [
           {
            "marker": {
             "colorbar": {
              "outlinewidth": 0,
              "ticks": ""
             }
            },
            "type": "scatterternary"
           }
          ],
          "surface": [
           {
            "colorbar": {
             "outlinewidth": 0,
             "ticks": ""
            },
            "colorscale": [
             [
              0,
              "#0d0887"
             ],
             [
              0.1111111111111111,
              "#46039f"
             ],
             [
              0.2222222222222222,
              "#7201a8"
             ],
             [
              0.3333333333333333,
              "#9c179e"
             ],
             [
              0.4444444444444444,
              "#bd3786"
             ],
             [
              0.5555555555555556,
              "#d8576b"
             ],
             [
              0.6666666666666666,
              "#ed7953"
             ],
             [
              0.7777777777777778,
              "#fb9f3a"
             ],
             [
              0.8888888888888888,
              "#fdca26"
             ],
             [
              1,
              "#f0f921"
             ]
            ],
            "type": "surface"
           }
          ],
          "table": [
           {
            "cells": {
             "fill": {
              "color": "#506784"
             },
             "line": {
              "color": "rgb(17,17,17)"
             }
            },
            "header": {
             "fill": {
              "color": "#2a3f5f"
             },
             "line": {
              "color": "rgb(17,17,17)"
             }
            },
            "type": "table"
           }
          ]
         },
         "layout": {
          "annotationdefaults": {
           "arrowcolor": "#f2f5fa",
           "arrowhead": 0,
           "arrowwidth": 1
          },
          "autotypenumbers": "strict",
          "coloraxis": {
           "colorbar": {
            "outlinewidth": 0,
            "ticks": ""
           }
          },
          "colorscale": {
           "diverging": [
            [
             0,
             "#8e0152"
            ],
            [
             0.1,
             "#c51b7d"
            ],
            [
             0.2,
             "#de77ae"
            ],
            [
             0.3,
             "#f1b6da"
            ],
            [
             0.4,
             "#fde0ef"
            ],
            [
             0.5,
             "#f7f7f7"
            ],
            [
             0.6,
             "#e6f5d0"
            ],
            [
             0.7,
             "#b8e186"
            ],
            [
             0.8,
             "#7fbc41"
            ],
            [
             0.9,
             "#4d9221"
            ],
            [
             1,
             "#276419"
            ]
           ],
           "sequential": [
            [
             0,
             "#0d0887"
            ],
            [
             0.1111111111111111,
             "#46039f"
            ],
            [
             0.2222222222222222,
             "#7201a8"
            ],
            [
             0.3333333333333333,
             "#9c179e"
            ],
            [
             0.4444444444444444,
             "#bd3786"
            ],
            [
             0.5555555555555556,
             "#d8576b"
            ],
            [
             0.6666666666666666,
             "#ed7953"
            ],
            [
             0.7777777777777778,
             "#fb9f3a"
            ],
            [
             0.8888888888888888,
             "#fdca26"
            ],
            [
             1,
             "#f0f921"
            ]
           ],
           "sequentialminus": [
            [
             0,
             "#0d0887"
            ],
            [
             0.1111111111111111,
             "#46039f"
            ],
            [
             0.2222222222222222,
             "#7201a8"
            ],
            [
             0.3333333333333333,
             "#9c179e"
            ],
            [
             0.4444444444444444,
             "#bd3786"
            ],
            [
             0.5555555555555556,
             "#d8576b"
            ],
            [
             0.6666666666666666,
             "#ed7953"
            ],
            [
             0.7777777777777778,
             "#fb9f3a"
            ],
            [
             0.8888888888888888,
             "#fdca26"
            ],
            [
             1,
             "#f0f921"
            ]
           ]
          },
          "colorway": [
           "#636efa",
           "#EF553B",
           "#00cc96",
           "#ab63fa",
           "#FFA15A",
           "#19d3f3",
           "#FF6692",
           "#B6E880",
           "#FF97FF",
           "#FECB52"
          ],
          "font": {
           "color": "#f2f5fa"
          },
          "geo": {
           "bgcolor": "rgb(17,17,17)",
           "lakecolor": "rgb(17,17,17)",
           "landcolor": "rgb(17,17,17)",
           "showlakes": true,
           "showland": true,
           "subunitcolor": "#506784"
          },
          "hoverlabel": {
           "align": "left"
          },
          "hovermode": "closest",
          "mapbox": {
           "style": "dark"
          },
          "paper_bgcolor": "rgb(17,17,17)",
          "plot_bgcolor": "rgb(17,17,17)",
          "polar": {
           "angularaxis": {
            "gridcolor": "#506784",
            "linecolor": "#506784",
            "ticks": ""
           },
           "bgcolor": "rgb(17,17,17)",
           "radialaxis": {
            "gridcolor": "#506784",
            "linecolor": "#506784",
            "ticks": ""
           }
          },
          "scene": {
           "xaxis": {
            "backgroundcolor": "rgb(17,17,17)",
            "gridcolor": "#506784",
            "gridwidth": 2,
            "linecolor": "#506784",
            "showbackground": true,
            "ticks": "",
            "zerolinecolor": "#C8D4E3"
           },
           "yaxis": {
            "backgroundcolor": "rgb(17,17,17)",
            "gridcolor": "#506784",
            "gridwidth": 2,
            "linecolor": "#506784",
            "showbackground": true,
            "ticks": "",
            "zerolinecolor": "#C8D4E3"
           },
           "zaxis": {
            "backgroundcolor": "rgb(17,17,17)",
            "gridcolor": "#506784",
            "gridwidth": 2,
            "linecolor": "#506784",
            "showbackground": true,
            "ticks": "",
            "zerolinecolor": "#C8D4E3"
           }
          },
          "shapedefaults": {
           "line": {
            "color": "#f2f5fa"
           }
          },
          "sliderdefaults": {
           "bgcolor": "#C8D4E3",
           "bordercolor": "rgb(17,17,17)",
           "borderwidth": 1,
           "tickwidth": 0
          },
          "ternary": {
           "aaxis": {
            "gridcolor": "#506784",
            "linecolor": "#506784",
            "ticks": ""
           },
           "baxis": {
            "gridcolor": "#506784",
            "linecolor": "#506784",
            "ticks": ""
           },
           "bgcolor": "rgb(17,17,17)",
           "caxis": {
            "gridcolor": "#506784",
            "linecolor": "#506784",
            "ticks": ""
           }
          },
          "title": {
           "x": 0.05
          },
          "updatemenudefaults": {
           "bgcolor": "#506784",
           "borderwidth": 0
          },
          "xaxis": {
           "automargin": true,
           "gridcolor": "#283442",
           "linecolor": "#506784",
           "ticks": "",
           "title": {
            "standoff": 15
           },
           "zerolinecolor": "#283442",
           "zerolinewidth": 2
          },
          "yaxis": {
           "automargin": true,
           "gridcolor": "#283442",
           "linecolor": "#506784",
           "ticks": "",
           "title": {
            "standoff": 15
           },
           "zerolinecolor": "#283442",
           "zerolinewidth": 2
          }
         }
        },
        "xaxis": {
         "anchor": "y",
         "categoryarray": [
          2,
          1,
          3,
          0
         ],
         "categoryorder": "array",
         "domain": [
          0,
          1
         ],
         "title": {
          "text": "Job"
         }
        },
        "yaxis": {
         "anchor": "x",
         "domain": [
          0,
          1
         ],
         "title": {
          "text": "Credit amount"
         }
        }
       }
      }
     },
     "metadata": {},
     "output_type": "display_data"
    },
    {
     "data": {
      "application/vnd.plotly.v1+json": {
       "config": {
        "plotlyServerURL": "https://plot.ly"
       },
       "data": [
        {
         "alignmentgroup": "True",
         "hovertemplate": "Housing=%{x}<br>Credit amount=%{y}<extra></extra>",
         "legendgroup": "own",
         "marker": {
          "color": "#FF66CC"
         },
         "name": "own",
         "notched": false,
         "offsetgroup": "own",
         "orientation": "v",
         "showlegend": true,
         "type": "box",
         "x": [
          "own",
          "own",
          "own",
          "own",
          "own",
          "own",
          "own",
          "own",
          "own",
          "own",
          "own",
          "own",
          "own",
          "own",
          "own",
          "own",
          "own",
          "own",
          "own",
          "own",
          "own",
          "own",
          "own",
          "own",
          "own",
          "own",
          "own",
          "own",
          "own",
          "own",
          "own",
          "own",
          "own",
          "own",
          "own",
          "own",
          "own",
          "own",
          "own",
          "own",
          "own",
          "own",
          "own",
          "own",
          "own",
          "own",
          "own",
          "own",
          "own",
          "own",
          "own",
          "own",
          "own",
          "own",
          "own",
          "own",
          "own",
          "own",
          "own",
          "own",
          "own",
          "own",
          "own",
          "own",
          "own",
          "own",
          "own",
          "own",
          "own",
          "own",
          "own",
          "own",
          "own",
          "own",
          "own",
          "own",
          "own",
          "own",
          "own",
          "own",
          "own",
          "own",
          "own",
          "own",
          "own",
          "own",
          "own",
          "own",
          "own",
          "own",
          "own",
          "own",
          "own",
          "own",
          "own",
          "own",
          "own",
          "own",
          "own",
          "own",
          "own",
          "own",
          "own",
          "own",
          "own",
          "own",
          "own",
          "own",
          "own",
          "own",
          "own",
          "own",
          "own",
          "own",
          "own",
          "own",
          "own",
          "own",
          "own",
          "own",
          "own",
          "own",
          "own",
          "own",
          "own",
          "own",
          "own",
          "own",
          "own",
          "own",
          "own",
          "own",
          "own",
          "own",
          "own",
          "own",
          "own",
          "own",
          "own",
          "own",
          "own",
          "own",
          "own",
          "own",
          "own",
          "own",
          "own",
          "own",
          "own",
          "own",
          "own",
          "own",
          "own",
          "own",
          "own",
          "own",
          "own",
          "own",
          "own",
          "own",
          "own",
          "own",
          "own",
          "own",
          "own",
          "own",
          "own",
          "own",
          "own",
          "own",
          "own",
          "own",
          "own",
          "own",
          "own",
          "own",
          "own",
          "own",
          "own",
          "own",
          "own",
          "own",
          "own",
          "own",
          "own",
          "own",
          "own",
          "own",
          "own",
          "own",
          "own",
          "own",
          "own",
          "own",
          "own",
          "own",
          "own",
          "own",
          "own",
          "own",
          "own",
          "own",
          "own",
          "own",
          "own",
          "own",
          "own",
          "own",
          "own",
          "own",
          "own",
          "own",
          "own",
          "own",
          "own",
          "own",
          "own",
          "own",
          "own",
          "own",
          "own",
          "own",
          "own",
          "own",
          "own",
          "own",
          "own",
          "own",
          "own",
          "own",
          "own",
          "own",
          "own",
          "own",
          "own",
          "own",
          "own",
          "own",
          "own",
          "own",
          "own",
          "own",
          "own",
          "own",
          "own",
          "own",
          "own",
          "own",
          "own",
          "own",
          "own",
          "own",
          "own",
          "own",
          "own",
          "own",
          "own",
          "own",
          "own",
          "own",
          "own",
          "own",
          "own",
          "own",
          "own",
          "own",
          "own",
          "own",
          "own",
          "own",
          "own",
          "own",
          "own",
          "own",
          "own",
          "own",
          "own",
          "own",
          "own",
          "own",
          "own",
          "own",
          "own",
          "own",
          "own",
          "own",
          "own",
          "own",
          "own",
          "own",
          "own",
          "own",
          "own",
          "own",
          "own",
          "own",
          "own",
          "own",
          "own",
          "own",
          "own",
          "own",
          "own",
          "own",
          "own",
          "own",
          "own",
          "own",
          "own",
          "own",
          "own",
          "own",
          "own",
          "own",
          "own",
          "own",
          "own",
          "own",
          "own",
          "own",
          "own",
          "own",
          "own",
          "own",
          "own",
          "own",
          "own",
          "own",
          "own",
          "own",
          "own",
          "own",
          "own",
          "own",
          "own",
          "own",
          "own",
          "own",
          "own",
          "own",
          "own",
          "own",
          "own",
          "own",
          "own",
          "own",
          "own",
          "own",
          "own",
          "own",
          "own",
          "own",
          "own",
          "own",
          "own",
          "own",
          "own",
          "own",
          "own",
          "own",
          "own",
          "own",
          "own",
          "own",
          "own",
          "own",
          "own",
          "own",
          "own",
          "own",
          "own",
          "own",
          "own",
          "own",
          "own",
          "own",
          "own",
          "own",
          "own",
          "own",
          "own",
          "own",
          "own",
          "own",
          "own",
          "own",
          "own",
          "own",
          "own",
          "own",
          "own",
          "own",
          "own",
          "own",
          "own",
          "own",
          "own",
          "own",
          "own",
          "own",
          "own",
          "own",
          "own",
          "own",
          "own",
          "own",
          "own",
          "own",
          "own",
          "own",
          "own",
          "own",
          "own",
          "own",
          "own",
          "own",
          "own",
          "own",
          "own",
          "own",
          "own",
          "own",
          "own",
          "own",
          "own",
          "own",
          "own",
          "own",
          "own",
          "own",
          "own",
          "own",
          "own",
          "own",
          "own",
          "own",
          "own",
          "own",
          "own",
          "own",
          "own",
          "own",
          "own",
          "own",
          "own",
          "own",
          "own",
          "own",
          "own",
          "own",
          "own",
          "own",
          "own",
          "own",
          "own",
          "own",
          "own",
          "own",
          "own",
          "own",
          "own",
          "own",
          "own",
          "own",
          "own",
          "own",
          "own",
          "own",
          "own",
          "own",
          "own",
          "own",
          "own",
          "own",
          "own",
          "own",
          "own",
          "own",
          "own",
          "own",
          "own",
          "own",
          "own",
          "own",
          "own",
          "own",
          "own",
          "own",
          "own",
          "own",
          "own",
          "own",
          "own",
          "own",
          "own",
          "own",
          "own",
          "own",
          "own",
          "own",
          "own",
          "own",
          "own",
          "own",
          "own",
          "own",
          "own",
          "own",
          "own",
          "own",
          "own",
          "own",
          "own",
          "own",
          "own",
          "own",
          "own",
          "own",
          "own",
          "own",
          "own",
          "own",
          "own",
          "own",
          "own",
          "own",
          "own",
          "own",
          "own",
          "own",
          "own",
          "own",
          "own",
          "own",
          "own",
          "own",
          "own",
          "own",
          "own",
          "own",
          "own",
          "own",
          "own",
          "own",
          "own",
          "own",
          "own",
          "own",
          "own",
          "own",
          "own",
          "own",
          "own",
          "own",
          "own",
          "own",
          "own",
          "own",
          "own",
          "own",
          "own",
          "own",
          "own",
          "own",
          "own",
          "own",
          "own",
          "own",
          "own",
          "own",
          "own",
          "own",
          "own",
          "own",
          "own",
          "own",
          "own",
          "own",
          "own",
          "own",
          "own",
          "own",
          "own",
          "own",
          "own",
          "own",
          "own",
          "own",
          "own",
          "own",
          "own",
          "own",
          "own",
          "own",
          "own",
          "own",
          "own",
          "own",
          "own",
          "own",
          "own",
          "own",
          "own",
          "own",
          "own",
          "own",
          "own",
          "own",
          "own",
          "own",
          "own",
          "own",
          "own",
          "own",
          "own",
          "own",
          "own",
          "own",
          "own",
          "own",
          "own",
          "own",
          "own",
          "own",
          "own",
          "own",
          "own",
          "own",
          "own",
          "own",
          "own",
          "own",
          "own",
          "own",
          "own",
          "own",
          "own",
          "own",
          "own",
          "own",
          "own",
          "own",
          "own",
          "own",
          "own",
          "own",
          "own",
          "own",
          "own",
          "own",
          "own",
          "own",
          "own",
          "own",
          "own",
          "own",
          "own",
          "own",
          "own",
          "own",
          "own",
          "own",
          "own",
          "own",
          "own",
          "own",
          "own",
          "own",
          "own",
          "own",
          "own",
          "own",
          "own",
          "own",
          "own",
          "own",
          "own",
          "own",
          "own",
          "own",
          "own",
          "own",
          "own",
          "own",
          "own",
          "own",
          "own",
          "own",
          "own",
          "own",
          "own",
          "own",
          "own",
          "own",
          "own",
          "own",
          "own",
          "own",
          "own",
          "own",
          "own",
          "own",
          "own",
          "own",
          "own",
          "own",
          "own",
          "own",
          "own",
          "own",
          "own",
          "own",
          "own"
         ],
         "x0": " ",
         "xaxis": "x",
         "y": [
          1169,
          5951,
          2096,
          2835,
          3059,
          5234,
          1567,
          1199,
          1282,
          2424,
          8072,
          3430,
          2134,
          1804,
          2069,
          1374,
          426,
          2415,
          6836,
          1913,
          4020,
          5866,
          1474,
          4746,
          2100,
          1225,
          458,
          2333,
          1158,
          6204,
          1393,
          2299,
          7228,
          2073,
          2333,
          5965,
          1262,
          3378,
          783,
          6468,
          9566,
          1961,
          1391,
          1537,
          14421,
          3181,
          5190,
          2171,
          1007,
          2394,
          8133,
          5954,
          1977,
          3965,
          4771,
          9436,
          3832,
          5943,
          1213,
          1755,
          2315,
          1412,
          1295,
          2249,
          1108,
          618,
          1409,
          797,
          1318,
          2012,
          2622,
          2337,
          932,
          11938,
          6458,
          6078,
          7721,
          1410,
          1449,
          7855,
          1680,
          3578,
          7174,
          4281,
          2366,
          1835,
          2121,
          701,
          639,
          1860,
          3499,
          8487,
          6887,
          2708,
          10144,
          1240,
          8613,
          766,
          2728,
          709,
          4795,
          3416,
          2462,
          2288,
          3566,
          860,
          682,
          5371,
          1582,
          1924,
          5848,
          1288,
          339,
          3512,
          1898,
          2872,
          1055,
          1262,
          909,
          2978,
          1131,
          1577,
          1935,
          763,
          2064,
          1414,
          3414,
          7485,
          2577,
          338,
          571,
          9572,
          4455,
          1647,
          3777,
          884,
          1360,
          674,
          3244,
          4591,
          3915,
          1501,
          1382,
          4297,
          936,
          1168,
          5117,
          1495,
          1935,
          1424,
          6568,
          1413,
          3074,
          3835,
          5293,
          1908,
          3342,
          932,
          3104,
          3913,
          1364,
          625,
          707,
          2978,
          4657,
          2613,
          10961,
          1478,
          4210,
          2141,
          866,
          1544,
          1823,
          14555,
          1291,
          2522,
          915,
          1595,
          1185,
          3447,
          1258,
          717,
          1925,
          666,
          2251,
          2150,
          4151,
          2030,
          7418,
          2684,
          3812,
          1154,
          1657,
          1603,
          1231,
          802,
          6304,
          1533,
          8978,
          999,
          2662,
          3060,
          11998,
          2697,
          2404,
          1262,
          4611,
          1574,
          1445,
          1520,
          3878,
          10722,
          4788,
          1092,
          1024,
          1076,
          7629,
          9960,
          1287,
          2515,
          2745,
          672,
          3804,
          1344,
          1038,
          1543,
          727,
          1237,
          5511,
          3749,
          685,
          1494,
          2746,
          708,
          4351,
          701,
          3643,
          4249,
          1938,
          2659,
          1028,
          3398,
          1525,
          4473,
          1068,
          1864,
          7408,
          2101,
          4169,
          1521,
          4439,
          3949,
          1459,
          882,
          1743,
          959,
          3229,
          1246,
          2331,
          4463,
          776,
          3399,
          2247,
          2473,
          1542,
          3850,
          3446,
          3079,
          6070,
          2320,
          362,
          2212,
          1330,
          4272,
          2238,
          7374,
          2326,
          1449,
          1820,
          1957,
          2406,
          2348,
          1516,
          1473,
          1887,
          8648,
          802,
          2899,
          2039,
          2197,
          1053,
          3235,
          939,
          1967,
          7253,
          2292,
          1381,
          5842,
          2579,
          2782,
          1042,
          2028,
          958,
          1591,
          2762,
          2743,
          1149,
          1313,
          3448,
          11328,
          2058,
          2136,
          1484,
          1287,
          3394,
          609,
          1884,
          1620,
          2629,
          719,
          5096,
          1842,
          2576,
          1424,
          1512,
          11054,
          518,
          2759,
          2670,
          4817,
          2679,
          343,
          4594,
          3620,
          1721,
          754,
          1950,
          2924,
          7238,
          2764,
          4679,
          448,
          654,
          1238,
          1245,
          2569,
          5152,
          1037,
          1478,
          3573,
          1201,
          960,
          1163,
          1209,
          3077,
          1934,
          1237,
          368,
          2996,
          1585,
          1301,
          1323,
          3123,
          1126,
          1216,
          1309,
          2360,
          6850,
          1413,
          8588,
          759,
          2255,
          609,
          1361,
          1203,
          3190,
          3488,
          1113,
          7966,
          1532,
          1503,
          662,
          2273,
          1311,
          3105,
          1374,
          3612,
          3049,
          6350,
          2864,
          1255,
          2022,
          1552,
          626,
          996,
          1750,
          6999,
          1995,
          1199,
          1331,
          2278,
          5003,
          3552,
          1928,
          683,
          4712,
          1372,
          2578,
          3979,
          6758,
          5954,
          806,
          1082,
          2788,
          2930,
          1927,
          2820,
          937,
          1056,
          3124,
          1289,
          1217,
          2246,
          385,
          1572,
          1358,
          931,
          4241,
          2775,
          2329,
          918,
          3349,
          1275,
          2828,
          4526,
          2051,
          741,
          3357,
          1808,
          12204,
          640,
          3652,
          1530,
          3914,
          1979,
          2116,
          1437,
          4042,
          3832,
          3660,
          1553,
          1444,
          1355,
          1393,
          1376,
          15653,
          1493,
          4370,
          750,
          1308,
          4623,
          1851,
          1880,
          4583,
          1386,
          1922,
          2303,
          8086,
          2346,
          888,
          10222,
          4221,
          6361,
          900,
          2241,
          1050,
          1047,
          6314,
          3496,
          3609,
          3017,
          4139,
          5742,
          10366,
          2080,
          2580,
          5150,
          5595,
          1453,
          1538,
          1478,
          9857,
          1347,
          2753,
          3651,
          975,
          2631,
          2896,
          4716,
          2284,
          1103,
          926,
          1800,
          2503,
          2528,
          6560,
          1206,
          2118,
          629,
          2476,
          1138,
          14027,
          7596,
          3077,
          3148,
          6148,
          1337,
          1228,
          790,
          250,
          1316,
          1275,
          6403,
          760,
          3380,
          3990,
          4380,
          6761,
          2325,
          1048,
          3160,
          2483,
          14179,
          1797,
          1274,
          5248,
          3029,
          428,
          976,
          5771,
          1299,
          1393,
          691,
          5045,
          2214,
          2463,
          1155,
          3108,
          1655,
          8065,
          3275,
          2223,
          3535,
          3509,
          5711,
          3872,
          4933,
          1940,
          1410,
          836,
          6468,
          1941,
          2675,
          2751,
          5998,
          1188,
          6313,
          1221,
          717,
          1549,
          4272,
          976,
          9271,
          590,
          930,
          907,
          484,
          9629,
          3051,
          1338,
          15857,
          1345,
          1101,
          3016,
          2712,
          731,
          3780,
          1602,
          4165,
          2375,
          5084,
          2327,
          1082,
          886,
          2957,
          2611,
          5179,
          2993,
          1943,
          1559,
          3422,
          3976,
          1249,
          1364,
          709,
          4042,
          10875,
          1474,
          894,
          3959,
          5804,
          2169,
          2439,
          4526,
          2389,
          3331,
          7409,
          7678,
          1343,
          1382,
          874,
          3590,
          1322,
          3595,
          6742,
          7814,
          2181,
          1098,
          4057,
          795,
          2825,
          15672,
          6614,
          2442,
          1829,
          2171,
          5800,
          1169,
          8947,
          1592,
          4153,
          3485,
          1278,
          3763,
          3711,
          3594,
          3195,
          4454,
          4736,
          2991,
          2142,
          18424,
          2848,
          14896,
          2359,
          1817,
          12749,
          6872,
          697,
          1867,
          1344,
          1747,
          1670,
          1224,
          522,
          1498,
          1919,
          745,
          6842,
          3527,
          1546,
          929,
          1455,
          8358,
          2859,
          1533,
          3621,
          3590,
          2145,
          10974,
          1893,
          3656,
          1154,
          4006,
          2353,
          3556,
          2397,
          454,
          1715,
          2520,
          3939,
          1514,
          7393,
          2831,
          1258,
          753,
          2427,
          2538,
          8386,
          2923,
          8229,
          2028,
          6289,
          1409,
          1743,
          3565,
          1569,
          3959,
          2390,
          1736,
          3857,
          804,
          4576
         ],
         "y0": " ",
         "yaxis": "y"
        },
        {
         "alignmentgroup": "True",
         "hovertemplate": "Housing=%{x}<br>Credit amount=%{y}<extra></extra>",
         "legendgroup": "free",
         "marker": {
          "color": "#FF66CC"
         },
         "name": "free",
         "notched": false,
         "offsetgroup": "free",
         "orientation": "v",
         "showlegend": true,
         "type": "box",
         "x": [
          "free",
          "free",
          "free",
          "free",
          "free",
          "free",
          "free",
          "free",
          "free",
          "free",
          "free",
          "free",
          "free",
          "free",
          "free",
          "free",
          "free",
          "free",
          "free",
          "free",
          "free",
          "free",
          "free",
          "free",
          "free",
          "free",
          "free",
          "free",
          "free",
          "free",
          "free",
          "free",
          "free",
          "free",
          "free",
          "free",
          "free",
          "free",
          "free",
          "free",
          "free",
          "free",
          "free",
          "free",
          "free",
          "free",
          "free",
          "free",
          "free",
          "free",
          "free",
          "free",
          "free",
          "free",
          "free",
          "free",
          "free",
          "free",
          "free",
          "free",
          "free",
          "free",
          "free",
          "free",
          "free",
          "free",
          "free",
          "free",
          "free",
          "free",
          "free",
          "free",
          "free",
          "free",
          "free",
          "free",
          "free",
          "free",
          "free",
          "free",
          "free",
          "free",
          "free",
          "free",
          "free",
          "free",
          "free",
          "free",
          "free",
          "free",
          "free",
          "free",
          "free",
          "free",
          "free",
          "free",
          "free",
          "free",
          "free",
          "free",
          "free",
          "free",
          "free",
          "free",
          "free",
          "free",
          "free",
          "free"
         ],
         "x0": " ",
         "xaxis": "x",
         "y": [
          7882,
          4870,
          9055,
          12579,
          6110,
          6143,
          2225,
          1953,
          1819,
          1164,
          1526,
          12612,
          781,
          1984,
          1346,
          7308,
          5129,
          1175,
          3844,
          2760,
          10623,
          7865,
          3149,
          2507,
          4605,
          2149,
          5302,
          2748,
          12169,
          7582,
          6419,
          4796,
          10127,
          5381,
          2910,
          6615,
          5743,
          1136,
          727,
          1239,
          13756,
          14782,
          846,
          14318,
          12976,
          3249,
          2578,
          1190,
          1872,
          3386,
          3757,
          8318,
          5493,
          4686,
          700,
          5507,
          7119,
          7763,
          2032,
          1333,
          8858,
          2964,
          12389,
          2133,
          3863,
          1837,
          2671,
          1300,
          1240,
          9157,
          2600,
          947,
          7476,
          3973,
          2279,
          5103,
          6527,
          2862,
          6331,
          1377,
          5324,
          1198,
          1505,
          1555,
          1271,
          12680,
          1480,
          6224,
          2892,
          7511,
          1597,
          9283,
          3931,
          8335,
          6681,
          1471,
          1442,
          3343,
          1940,
          1422,
          9277,
          10477,
          10297,
          6288,
          3349,
          3069,
          6579,
          1845
         ],
         "y0": " ",
         "yaxis": "y"
        },
        {
         "alignmentgroup": "True",
         "hovertemplate": "Housing=%{x}<br>Credit amount=%{y}<extra></extra>",
         "legendgroup": "rent",
         "marker": {
          "color": "#FF66CC"
         },
         "name": "rent",
         "notched": false,
         "offsetgroup": "rent",
         "orientation": "v",
         "showlegend": true,
         "type": "box",
         "x": [
          "rent",
          "rent",
          "rent",
          "rent",
          "rent",
          "rent",
          "rent",
          "rent",
          "rent",
          "rent",
          "rent",
          "rent",
          "rent",
          "rent",
          "rent",
          "rent",
          "rent",
          "rent",
          "rent",
          "rent",
          "rent",
          "rent",
          "rent",
          "rent",
          "rent",
          "rent",
          "rent",
          "rent",
          "rent",
          "rent",
          "rent",
          "rent",
          "rent",
          "rent",
          "rent",
          "rent",
          "rent",
          "rent",
          "rent",
          "rent",
          "rent",
          "rent",
          "rent",
          "rent",
          "rent",
          "rent",
          "rent",
          "rent",
          "rent",
          "rent",
          "rent",
          "rent",
          "rent",
          "rent",
          "rent",
          "rent",
          "rent",
          "rent",
          "rent",
          "rent",
          "rent",
          "rent",
          "rent",
          "rent",
          "rent",
          "rent",
          "rent",
          "rent",
          "rent",
          "rent",
          "rent",
          "rent",
          "rent",
          "rent",
          "rent",
          "rent",
          "rent",
          "rent",
          "rent",
          "rent",
          "rent",
          "rent",
          "rent",
          "rent",
          "rent",
          "rent",
          "rent",
          "rent",
          "rent",
          "rent",
          "rent",
          "rent",
          "rent",
          "rent",
          "rent",
          "rent",
          "rent",
          "rent",
          "rent",
          "rent",
          "rent",
          "rent",
          "rent",
          "rent",
          "rent",
          "rent",
          "rent",
          "rent",
          "rent",
          "rent",
          "rent",
          "rent",
          "rent",
          "rent",
          "rent",
          "rent",
          "rent",
          "rent",
          "rent",
          "rent",
          "rent",
          "rent",
          "rent",
          "rent",
          "rent",
          "rent",
          "rent",
          "rent",
          "rent",
          "rent",
          "rent",
          "rent",
          "rent",
          "rent",
          "rent",
          "rent",
          "rent",
          "rent",
          "rent",
          "rent",
          "rent",
          "rent",
          "rent",
          "rent",
          "rent",
          "rent",
          "rent",
          "rent",
          "rent",
          "rent",
          "rent",
          "rent",
          "rent",
          "rent",
          "rent",
          "rent",
          "rent",
          "rent",
          "rent",
          "rent",
          "rent",
          "rent",
          "rent",
          "rent",
          "rent",
          "rent",
          "rent",
          "rent",
          "rent",
          "rent",
          "rent",
          "rent",
          "rent",
          "rent",
          "rent",
          "rent",
          "rent",
          "rent",
          "rent"
         ],
         "x0": " ",
         "xaxis": "x",
         "y": [
          6948,
          1295,
          4308,
          1403,
          2647,
          2241,
          409,
          1264,
          6187,
          1352,
          6229,
          730,
          1568,
          3617,
          15945,
          7057,
          1469,
          2323,
          1919,
          2445,
          392,
          6260,
          2132,
          3868,
          1768,
          1924,
          1881,
          7758,
          6967,
          1282,
          3972,
          950,
          1963,
          2108,
          3031,
          951,
          902,
          3021,
          1200,
          2767,
          1204,
          433,
          1402,
          1901,
          3368,
          9398,
          4675,
          4811,
          276,
          5801,
          11590,
          4110,
          3384,
          1275,
          3599,
          3213,
          3758,
          1236,
          6199,
          2406,
          1766,
          3650,
          3001,
          2146,
          7685,
          1283,
          1126,
          983,
          11760,
          1223,
          1597,
          8471,
          3186,
          2779,
          660,
          1244,
          3905,
          3017,
          1659,
          3092,
          3114,
          3622,
          1418,
          3518,
          2122,
          9034,
          1207,
          2687,
          585,
          7127,
          2302,
          2631,
          1503,
          2319,
          1534,
          1546,
          1553,
          3234,
          5433,
          1388,
          2384,
          2039,
          2799,
          1965,
          2718,
          1442,
          3632,
          3676,
          3441,
          1858,
          1980,
          7980,
          684,
          1297,
          4843,
          4530,
          2384,
          1236,
          1905,
          1123,
          2969,
          433,
          2570,
          1882,
          6416,
          1987,
          2603,
          11560,
          4280,
          2511,
          841,
          1285,
          2124,
          2901,
          3617,
          2812,
          1371,
          3062,
          2301,
          1258,
          1795,
          7472,
          1778,
          7432,
          1554,
          3966,
          1216,
          11816,
          601,
          6761,
          2235,
          3577,
          2210,
          2221,
          652,
          7824,
          2606,
          2186,
          2625,
          1386,
          1107,
          3161,
          3345,
          1366,
          2002,
          1049,
          2063,
          1845,
          4113,
          1231,
          1740,
          3568,
          7166,
          1193,
          7297,
          1264,
          4844,
          1433,
          1936
         ],
         "y0": " ",
         "yaxis": "y"
        }
       ],
       "layout": {
        "boxmode": "overlay",
        "font": {
         "color": "white"
        },
        "legend": {
         "title": {
          "text": "Housing"
         },
         "tracegroupgap": 0
        },
        "margin": {
         "t": 60
        },
        "paper_bgcolor": "rgba(0,0,0,0)",
        "plot_bgcolor": "rgba(0,0,0,0)",
        "template": {
         "data": {
          "bar": [
           {
            "error_x": {
             "color": "#f2f5fa"
            },
            "error_y": {
             "color": "#f2f5fa"
            },
            "marker": {
             "line": {
              "color": "rgb(17,17,17)",
              "width": 0.5
             },
             "pattern": {
              "fillmode": "overlay",
              "size": 10,
              "solidity": 0.2
             }
            },
            "type": "bar"
           }
          ],
          "barpolar": [
           {
            "marker": {
             "line": {
              "color": "rgb(17,17,17)",
              "width": 0.5
             },
             "pattern": {
              "fillmode": "overlay",
              "size": 10,
              "solidity": 0.2
             }
            },
            "type": "barpolar"
           }
          ],
          "carpet": [
           {
            "aaxis": {
             "endlinecolor": "#A2B1C6",
             "gridcolor": "#506784",
             "linecolor": "#506784",
             "minorgridcolor": "#506784",
             "startlinecolor": "#A2B1C6"
            },
            "baxis": {
             "endlinecolor": "#A2B1C6",
             "gridcolor": "#506784",
             "linecolor": "#506784",
             "minorgridcolor": "#506784",
             "startlinecolor": "#A2B1C6"
            },
            "type": "carpet"
           }
          ],
          "choropleth": [
           {
            "colorbar": {
             "outlinewidth": 0,
             "ticks": ""
            },
            "type": "choropleth"
           }
          ],
          "contour": [
           {
            "colorbar": {
             "outlinewidth": 0,
             "ticks": ""
            },
            "colorscale": [
             [
              0,
              "#0d0887"
             ],
             [
              0.1111111111111111,
              "#46039f"
             ],
             [
              0.2222222222222222,
              "#7201a8"
             ],
             [
              0.3333333333333333,
              "#9c179e"
             ],
             [
              0.4444444444444444,
              "#bd3786"
             ],
             [
              0.5555555555555556,
              "#d8576b"
             ],
             [
              0.6666666666666666,
              "#ed7953"
             ],
             [
              0.7777777777777778,
              "#fb9f3a"
             ],
             [
              0.8888888888888888,
              "#fdca26"
             ],
             [
              1,
              "#f0f921"
             ]
            ],
            "type": "contour"
           }
          ],
          "contourcarpet": [
           {
            "colorbar": {
             "outlinewidth": 0,
             "ticks": ""
            },
            "type": "contourcarpet"
           }
          ],
          "heatmap": [
           {
            "colorbar": {
             "outlinewidth": 0,
             "ticks": ""
            },
            "colorscale": [
             [
              0,
              "#0d0887"
             ],
             [
              0.1111111111111111,
              "#46039f"
             ],
             [
              0.2222222222222222,
              "#7201a8"
             ],
             [
              0.3333333333333333,
              "#9c179e"
             ],
             [
              0.4444444444444444,
              "#bd3786"
             ],
             [
              0.5555555555555556,
              "#d8576b"
             ],
             [
              0.6666666666666666,
              "#ed7953"
             ],
             [
              0.7777777777777778,
              "#fb9f3a"
             ],
             [
              0.8888888888888888,
              "#fdca26"
             ],
             [
              1,
              "#f0f921"
             ]
            ],
            "type": "heatmap"
           }
          ],
          "heatmapgl": [
           {
            "colorbar": {
             "outlinewidth": 0,
             "ticks": ""
            },
            "colorscale": [
             [
              0,
              "#0d0887"
             ],
             [
              0.1111111111111111,
              "#46039f"
             ],
             [
              0.2222222222222222,
              "#7201a8"
             ],
             [
              0.3333333333333333,
              "#9c179e"
             ],
             [
              0.4444444444444444,
              "#bd3786"
             ],
             [
              0.5555555555555556,
              "#d8576b"
             ],
             [
              0.6666666666666666,
              "#ed7953"
             ],
             [
              0.7777777777777778,
              "#fb9f3a"
             ],
             [
              0.8888888888888888,
              "#fdca26"
             ],
             [
              1,
              "#f0f921"
             ]
            ],
            "type": "heatmapgl"
           }
          ],
          "histogram": [
           {
            "marker": {
             "pattern": {
              "fillmode": "overlay",
              "size": 10,
              "solidity": 0.2
             }
            },
            "type": "histogram"
           }
          ],
          "histogram2d": [
           {
            "colorbar": {
             "outlinewidth": 0,
             "ticks": ""
            },
            "colorscale": [
             [
              0,
              "#0d0887"
             ],
             [
              0.1111111111111111,
              "#46039f"
             ],
             [
              0.2222222222222222,
              "#7201a8"
             ],
             [
              0.3333333333333333,
              "#9c179e"
             ],
             [
              0.4444444444444444,
              "#bd3786"
             ],
             [
              0.5555555555555556,
              "#d8576b"
             ],
             [
              0.6666666666666666,
              "#ed7953"
             ],
             [
              0.7777777777777778,
              "#fb9f3a"
             ],
             [
              0.8888888888888888,
              "#fdca26"
             ],
             [
              1,
              "#f0f921"
             ]
            ],
            "type": "histogram2d"
           }
          ],
          "histogram2dcontour": [
           {
            "colorbar": {
             "outlinewidth": 0,
             "ticks": ""
            },
            "colorscale": [
             [
              0,
              "#0d0887"
             ],
             [
              0.1111111111111111,
              "#46039f"
             ],
             [
              0.2222222222222222,
              "#7201a8"
             ],
             [
              0.3333333333333333,
              "#9c179e"
             ],
             [
              0.4444444444444444,
              "#bd3786"
             ],
             [
              0.5555555555555556,
              "#d8576b"
             ],
             [
              0.6666666666666666,
              "#ed7953"
             ],
             [
              0.7777777777777778,
              "#fb9f3a"
             ],
             [
              0.8888888888888888,
              "#fdca26"
             ],
             [
              1,
              "#f0f921"
             ]
            ],
            "type": "histogram2dcontour"
           }
          ],
          "mesh3d": [
           {
            "colorbar": {
             "outlinewidth": 0,
             "ticks": ""
            },
            "type": "mesh3d"
           }
          ],
          "parcoords": [
           {
            "line": {
             "colorbar": {
              "outlinewidth": 0,
              "ticks": ""
             }
            },
            "type": "parcoords"
           }
          ],
          "pie": [
           {
            "automargin": true,
            "type": "pie"
           }
          ],
          "scatter": [
           {
            "marker": {
             "line": {
              "color": "#283442"
             }
            },
            "type": "scatter"
           }
          ],
          "scatter3d": [
           {
            "line": {
             "colorbar": {
              "outlinewidth": 0,
              "ticks": ""
             }
            },
            "marker": {
             "colorbar": {
              "outlinewidth": 0,
              "ticks": ""
             }
            },
            "type": "scatter3d"
           }
          ],
          "scattercarpet": [
           {
            "marker": {
             "colorbar": {
              "outlinewidth": 0,
              "ticks": ""
             }
            },
            "type": "scattercarpet"
           }
          ],
          "scattergeo": [
           {
            "marker": {
             "colorbar": {
              "outlinewidth": 0,
              "ticks": ""
             }
            },
            "type": "scattergeo"
           }
          ],
          "scattergl": [
           {
            "marker": {
             "line": {
              "color": "#283442"
             }
            },
            "type": "scattergl"
           }
          ],
          "scattermapbox": [
           {
            "marker": {
             "colorbar": {
              "outlinewidth": 0,
              "ticks": ""
             }
            },
            "type": "scattermapbox"
           }
          ],
          "scatterpolar": [
           {
            "marker": {
             "colorbar": {
              "outlinewidth": 0,
              "ticks": ""
             }
            },
            "type": "scatterpolar"
           }
          ],
          "scatterpolargl": [
           {
            "marker": {
             "colorbar": {
              "outlinewidth": 0,
              "ticks": ""
             }
            },
            "type": "scatterpolargl"
           }
          ],
          "scatterternary": [
           {
            "marker": {
             "colorbar": {
              "outlinewidth": 0,
              "ticks": ""
             }
            },
            "type": "scatterternary"
           }
          ],
          "surface": [
           {
            "colorbar": {
             "outlinewidth": 0,
             "ticks": ""
            },
            "colorscale": [
             [
              0,
              "#0d0887"
             ],
             [
              0.1111111111111111,
              "#46039f"
             ],
             [
              0.2222222222222222,
              "#7201a8"
             ],
             [
              0.3333333333333333,
              "#9c179e"
             ],
             [
              0.4444444444444444,
              "#bd3786"
             ],
             [
              0.5555555555555556,
              "#d8576b"
             ],
             [
              0.6666666666666666,
              "#ed7953"
             ],
             [
              0.7777777777777778,
              "#fb9f3a"
             ],
             [
              0.8888888888888888,
              "#fdca26"
             ],
             [
              1,
              "#f0f921"
             ]
            ],
            "type": "surface"
           }
          ],
          "table": [
           {
            "cells": {
             "fill": {
              "color": "#506784"
             },
             "line": {
              "color": "rgb(17,17,17)"
             }
            },
            "header": {
             "fill": {
              "color": "#2a3f5f"
             },
             "line": {
              "color": "rgb(17,17,17)"
             }
            },
            "type": "table"
           }
          ]
         },
         "layout": {
          "annotationdefaults": {
           "arrowcolor": "#f2f5fa",
           "arrowhead": 0,
           "arrowwidth": 1
          },
          "autotypenumbers": "strict",
          "coloraxis": {
           "colorbar": {
            "outlinewidth": 0,
            "ticks": ""
           }
          },
          "colorscale": {
           "diverging": [
            [
             0,
             "#8e0152"
            ],
            [
             0.1,
             "#c51b7d"
            ],
            [
             0.2,
             "#de77ae"
            ],
            [
             0.3,
             "#f1b6da"
            ],
            [
             0.4,
             "#fde0ef"
            ],
            [
             0.5,
             "#f7f7f7"
            ],
            [
             0.6,
             "#e6f5d0"
            ],
            [
             0.7,
             "#b8e186"
            ],
            [
             0.8,
             "#7fbc41"
            ],
            [
             0.9,
             "#4d9221"
            ],
            [
             1,
             "#276419"
            ]
           ],
           "sequential": [
            [
             0,
             "#0d0887"
            ],
            [
             0.1111111111111111,
             "#46039f"
            ],
            [
             0.2222222222222222,
             "#7201a8"
            ],
            [
             0.3333333333333333,
             "#9c179e"
            ],
            [
             0.4444444444444444,
             "#bd3786"
            ],
            [
             0.5555555555555556,
             "#d8576b"
            ],
            [
             0.6666666666666666,
             "#ed7953"
            ],
            [
             0.7777777777777778,
             "#fb9f3a"
            ],
            [
             0.8888888888888888,
             "#fdca26"
            ],
            [
             1,
             "#f0f921"
            ]
           ],
           "sequentialminus": [
            [
             0,
             "#0d0887"
            ],
            [
             0.1111111111111111,
             "#46039f"
            ],
            [
             0.2222222222222222,
             "#7201a8"
            ],
            [
             0.3333333333333333,
             "#9c179e"
            ],
            [
             0.4444444444444444,
             "#bd3786"
            ],
            [
             0.5555555555555556,
             "#d8576b"
            ],
            [
             0.6666666666666666,
             "#ed7953"
            ],
            [
             0.7777777777777778,
             "#fb9f3a"
            ],
            [
             0.8888888888888888,
             "#fdca26"
            ],
            [
             1,
             "#f0f921"
            ]
           ]
          },
          "colorway": [
           "#636efa",
           "#EF553B",
           "#00cc96",
           "#ab63fa",
           "#FFA15A",
           "#19d3f3",
           "#FF6692",
           "#B6E880",
           "#FF97FF",
           "#FECB52"
          ],
          "font": {
           "color": "#f2f5fa"
          },
          "geo": {
           "bgcolor": "rgb(17,17,17)",
           "lakecolor": "rgb(17,17,17)",
           "landcolor": "rgb(17,17,17)",
           "showlakes": true,
           "showland": true,
           "subunitcolor": "#506784"
          },
          "hoverlabel": {
           "align": "left"
          },
          "hovermode": "closest",
          "mapbox": {
           "style": "dark"
          },
          "paper_bgcolor": "rgb(17,17,17)",
          "plot_bgcolor": "rgb(17,17,17)",
          "polar": {
           "angularaxis": {
            "gridcolor": "#506784",
            "linecolor": "#506784",
            "ticks": ""
           },
           "bgcolor": "rgb(17,17,17)",
           "radialaxis": {
            "gridcolor": "#506784",
            "linecolor": "#506784",
            "ticks": ""
           }
          },
          "scene": {
           "xaxis": {
            "backgroundcolor": "rgb(17,17,17)",
            "gridcolor": "#506784",
            "gridwidth": 2,
            "linecolor": "#506784",
            "showbackground": true,
            "ticks": "",
            "zerolinecolor": "#C8D4E3"
           },
           "yaxis": {
            "backgroundcolor": "rgb(17,17,17)",
            "gridcolor": "#506784",
            "gridwidth": 2,
            "linecolor": "#506784",
            "showbackground": true,
            "ticks": "",
            "zerolinecolor": "#C8D4E3"
           },
           "zaxis": {
            "backgroundcolor": "rgb(17,17,17)",
            "gridcolor": "#506784",
            "gridwidth": 2,
            "linecolor": "#506784",
            "showbackground": true,
            "ticks": "",
            "zerolinecolor": "#C8D4E3"
           }
          },
          "shapedefaults": {
           "line": {
            "color": "#f2f5fa"
           }
          },
          "sliderdefaults": {
           "bgcolor": "#C8D4E3",
           "bordercolor": "rgb(17,17,17)",
           "borderwidth": 1,
           "tickwidth": 0
          },
          "ternary": {
           "aaxis": {
            "gridcolor": "#506784",
            "linecolor": "#506784",
            "ticks": ""
           },
           "baxis": {
            "gridcolor": "#506784",
            "linecolor": "#506784",
            "ticks": ""
           },
           "bgcolor": "rgb(17,17,17)",
           "caxis": {
            "gridcolor": "#506784",
            "linecolor": "#506784",
            "ticks": ""
           }
          },
          "title": {
           "x": 0.05
          },
          "updatemenudefaults": {
           "bgcolor": "#506784",
           "borderwidth": 0
          },
          "xaxis": {
           "automargin": true,
           "gridcolor": "#283442",
           "linecolor": "#506784",
           "ticks": "",
           "title": {
            "standoff": 15
           },
           "zerolinecolor": "#283442",
           "zerolinewidth": 2
          },
          "yaxis": {
           "automargin": true,
           "gridcolor": "#283442",
           "linecolor": "#506784",
           "ticks": "",
           "title": {
            "standoff": 15
           },
           "zerolinecolor": "#283442",
           "zerolinewidth": 2
          }
         }
        },
        "xaxis": {
         "anchor": "y",
         "categoryarray": [
          "own",
          "free",
          "rent"
         ],
         "categoryorder": "array",
         "domain": [
          0,
          1
         ],
         "title": {
          "text": "Housing"
         }
        },
        "yaxis": {
         "anchor": "x",
         "domain": [
          0,
          1
         ],
         "title": {
          "text": "Credit amount"
         }
        }
       }
      }
     },
     "metadata": {},
     "output_type": "display_data"
    },
    {
     "data": {
      "application/vnd.plotly.v1+json": {
       "config": {
        "plotlyServerURL": "https://plot.ly"
       },
       "data": [
        {
         "alignmentgroup": "True",
         "hovertemplate": "Purpose=%{y}<br>count=%{x}<extra></extra>",
         "legendgroup": "radio/TV",
         "marker": {
          "color": "rgb(102, 197, 204)",
          "pattern": {
           "shape": ""
          }
         },
         "name": "radio/TV",
         "offsetgroup": "radio/TV",
         "orientation": "h",
         "showlegend": true,
         "textposition": "auto",
         "type": "bar",
         "x": [
          1,
          1,
          1,
          1,
          1,
          1,
          1,
          1,
          1,
          1,
          1,
          1,
          1,
          1,
          1,
          1,
          1,
          1,
          1,
          1,
          1,
          1,
          1,
          1,
          1,
          1,
          1,
          1,
          1,
          1,
          1,
          1,
          1,
          1,
          1,
          1,
          1,
          1,
          1,
          1,
          1,
          1,
          1,
          1,
          1,
          1,
          1,
          1,
          1,
          1,
          1,
          1,
          1,
          1,
          1,
          1,
          1,
          1,
          1,
          1,
          1,
          1,
          1,
          1,
          1,
          1,
          1,
          1,
          1,
          1,
          1,
          1,
          1,
          1,
          1,
          1,
          1,
          1,
          1,
          1,
          1,
          1,
          1,
          1,
          1,
          1,
          1,
          1,
          1,
          1,
          1,
          1,
          1,
          1,
          1,
          1,
          1,
          1,
          1,
          1,
          1,
          1,
          1,
          1,
          1,
          1,
          1,
          1,
          1,
          1,
          1,
          1,
          1,
          1,
          1,
          1,
          1,
          1,
          1,
          1,
          1,
          1,
          1,
          1,
          1,
          1,
          1,
          1,
          1,
          1,
          1,
          1,
          1,
          1,
          1,
          1,
          1,
          1,
          1,
          1,
          1,
          1,
          1,
          1,
          1,
          1,
          1,
          1,
          1,
          1,
          1,
          1,
          1,
          1,
          1,
          1,
          1,
          1,
          1,
          1,
          1,
          1,
          1,
          1,
          1,
          1,
          1,
          1,
          1,
          1,
          1,
          1,
          1,
          1,
          1,
          1,
          1,
          1,
          1,
          1,
          1,
          1,
          1,
          1,
          1,
          1,
          1,
          1,
          1,
          1,
          1,
          1,
          1,
          1,
          1,
          1,
          1,
          1,
          1,
          1,
          1,
          1,
          1,
          1,
          1,
          1,
          1,
          1,
          1,
          1,
          1,
          1,
          1,
          1,
          1,
          1,
          1,
          1,
          1,
          1,
          1,
          1,
          1,
          1,
          1,
          1,
          1,
          1,
          1,
          1,
          1,
          1,
          1,
          1,
          1,
          1,
          1,
          1,
          1,
          1,
          1,
          1,
          1,
          1,
          1,
          1,
          1,
          1,
          1,
          1,
          1,
          1,
          1,
          1,
          1,
          1,
          1,
          1,
          1,
          1,
          1,
          1,
          1,
          1,
          1,
          1,
          1,
          1,
          1,
          1,
          1,
          1,
          1,
          1,
          1,
          1,
          1,
          1,
          1,
          1
         ],
         "xaxis": "x",
         "y": [
          "radio/TV",
          "radio/TV",
          "radio/TV",
          "radio/TV",
          "radio/TV",
          "radio/TV",
          "radio/TV",
          "radio/TV",
          "radio/TV",
          "radio/TV",
          "radio/TV",
          "radio/TV",
          "radio/TV",
          "radio/TV",
          "radio/TV",
          "radio/TV",
          "radio/TV",
          "radio/TV",
          "radio/TV",
          "radio/TV",
          "radio/TV",
          "radio/TV",
          "radio/TV",
          "radio/TV",
          "radio/TV",
          "radio/TV",
          "radio/TV",
          "radio/TV",
          "radio/TV",
          "radio/TV",
          "radio/TV",
          "radio/TV",
          "radio/TV",
          "radio/TV",
          "radio/TV",
          "radio/TV",
          "radio/TV",
          "radio/TV",
          "radio/TV",
          "radio/TV",
          "radio/TV",
          "radio/TV",
          "radio/TV",
          "radio/TV",
          "radio/TV",
          "radio/TV",
          "radio/TV",
          "radio/TV",
          "radio/TV",
          "radio/TV",
          "radio/TV",
          "radio/TV",
          "radio/TV",
          "radio/TV",
          "radio/TV",
          "radio/TV",
          "radio/TV",
          "radio/TV",
          "radio/TV",
          "radio/TV",
          "radio/TV",
          "radio/TV",
          "radio/TV",
          "radio/TV",
          "radio/TV",
          "radio/TV",
          "radio/TV",
          "radio/TV",
          "radio/TV",
          "radio/TV",
          "radio/TV",
          "radio/TV",
          "radio/TV",
          "radio/TV",
          "radio/TV",
          "radio/TV",
          "radio/TV",
          "radio/TV",
          "radio/TV",
          "radio/TV",
          "radio/TV",
          "radio/TV",
          "radio/TV",
          "radio/TV",
          "radio/TV",
          "radio/TV",
          "radio/TV",
          "radio/TV",
          "radio/TV",
          "radio/TV",
          "radio/TV",
          "radio/TV",
          "radio/TV",
          "radio/TV",
          "radio/TV",
          "radio/TV",
          "radio/TV",
          "radio/TV",
          "radio/TV",
          "radio/TV",
          "radio/TV",
          "radio/TV",
          "radio/TV",
          "radio/TV",
          "radio/TV",
          "radio/TV",
          "radio/TV",
          "radio/TV",
          "radio/TV",
          "radio/TV",
          "radio/TV",
          "radio/TV",
          "radio/TV",
          "radio/TV",
          "radio/TV",
          "radio/TV",
          "radio/TV",
          "radio/TV",
          "radio/TV",
          "radio/TV",
          "radio/TV",
          "radio/TV",
          "radio/TV",
          "radio/TV",
          "radio/TV",
          "radio/TV",
          "radio/TV",
          "radio/TV",
          "radio/TV",
          "radio/TV",
          "radio/TV",
          "radio/TV",
          "radio/TV",
          "radio/TV",
          "radio/TV",
          "radio/TV",
          "radio/TV",
          "radio/TV",
          "radio/TV",
          "radio/TV",
          "radio/TV",
          "radio/TV",
          "radio/TV",
          "radio/TV",
          "radio/TV",
          "radio/TV",
          "radio/TV",
          "radio/TV",
          "radio/TV",
          "radio/TV",
          "radio/TV",
          "radio/TV",
          "radio/TV",
          "radio/TV",
          "radio/TV",
          "radio/TV",
          "radio/TV",
          "radio/TV",
          "radio/TV",
          "radio/TV",
          "radio/TV",
          "radio/TV",
          "radio/TV",
          "radio/TV",
          "radio/TV",
          "radio/TV",
          "radio/TV",
          "radio/TV",
          "radio/TV",
          "radio/TV",
          "radio/TV",
          "radio/TV",
          "radio/TV",
          "radio/TV",
          "radio/TV",
          "radio/TV",
          "radio/TV",
          "radio/TV",
          "radio/TV",
          "radio/TV",
          "radio/TV",
          "radio/TV",
          "radio/TV",
          "radio/TV",
          "radio/TV",
          "radio/TV",
          "radio/TV",
          "radio/TV",
          "radio/TV",
          "radio/TV",
          "radio/TV",
          "radio/TV",
          "radio/TV",
          "radio/TV",
          "radio/TV",
          "radio/TV",
          "radio/TV",
          "radio/TV",
          "radio/TV",
          "radio/TV",
          "radio/TV",
          "radio/TV",
          "radio/TV",
          "radio/TV",
          "radio/TV",
          "radio/TV",
          "radio/TV",
          "radio/TV",
          "radio/TV",
          "radio/TV",
          "radio/TV",
          "radio/TV",
          "radio/TV",
          "radio/TV",
          "radio/TV",
          "radio/TV",
          "radio/TV",
          "radio/TV",
          "radio/TV",
          "radio/TV",
          "radio/TV",
          "radio/TV",
          "radio/TV",
          "radio/TV",
          "radio/TV",
          "radio/TV",
          "radio/TV",
          "radio/TV",
          "radio/TV",
          "radio/TV",
          "radio/TV",
          "radio/TV",
          "radio/TV",
          "radio/TV",
          "radio/TV",
          "radio/TV",
          "radio/TV",
          "radio/TV",
          "radio/TV",
          "radio/TV",
          "radio/TV",
          "radio/TV",
          "radio/TV",
          "radio/TV",
          "radio/TV",
          "radio/TV",
          "radio/TV",
          "radio/TV",
          "radio/TV",
          "radio/TV",
          "radio/TV",
          "radio/TV",
          "radio/TV",
          "radio/TV",
          "radio/TV",
          "radio/TV",
          "radio/TV",
          "radio/TV",
          "radio/TV",
          "radio/TV",
          "radio/TV",
          "radio/TV",
          "radio/TV",
          "radio/TV",
          "radio/TV",
          "radio/TV",
          "radio/TV",
          "radio/TV",
          "radio/TV",
          "radio/TV",
          "radio/TV",
          "radio/TV",
          "radio/TV",
          "radio/TV",
          "radio/TV",
          "radio/TV",
          "radio/TV",
          "radio/TV",
          "radio/TV",
          "radio/TV"
         ],
         "yaxis": "y"
        },
        {
         "alignmentgroup": "True",
         "hovertemplate": "Purpose=%{y}<br>count=%{x}<extra></extra>",
         "legendgroup": "education",
         "marker": {
          "color": "rgb(246, 207, 113)",
          "pattern": {
           "shape": ""
          }
         },
         "name": "education",
         "offsetgroup": "education",
         "orientation": "h",
         "showlegend": true,
         "textposition": "auto",
         "type": "bar",
         "x": [
          1,
          1,
          1,
          1,
          1,
          1,
          1,
          1,
          1,
          1,
          1,
          1,
          1,
          1,
          1,
          1,
          1,
          1,
          1,
          1,
          1,
          1,
          1,
          1,
          1,
          1,
          1,
          1,
          1,
          1,
          1,
          1,
          1,
          1,
          1,
          1,
          1,
          1,
          1,
          1,
          1,
          1,
          1,
          1,
          1,
          1,
          1,
          1,
          1,
          1,
          1,
          1,
          1,
          1,
          1,
          1,
          1,
          1,
          1
         ],
         "xaxis": "x",
         "y": [
          "education",
          "education",
          "education",
          "education",
          "education",
          "education",
          "education",
          "education",
          "education",
          "education",
          "education",
          "education",
          "education",
          "education",
          "education",
          "education",
          "education",
          "education",
          "education",
          "education",
          "education",
          "education",
          "education",
          "education",
          "education",
          "education",
          "education",
          "education",
          "education",
          "education",
          "education",
          "education",
          "education",
          "education",
          "education",
          "education",
          "education",
          "education",
          "education",
          "education",
          "education",
          "education",
          "education",
          "education",
          "education",
          "education",
          "education",
          "education",
          "education",
          "education",
          "education",
          "education",
          "education",
          "education",
          "education",
          "education",
          "education",
          "education",
          "education"
         ],
         "yaxis": "y"
        },
        {
         "alignmentgroup": "True",
         "hovertemplate": "Purpose=%{y}<br>count=%{x}<extra></extra>",
         "legendgroup": "furniture/equipment",
         "marker": {
          "color": "rgb(248, 156, 116)",
          "pattern": {
           "shape": ""
          }
         },
         "name": "furniture/equipment",
         "offsetgroup": "furniture/equipment",
         "orientation": "h",
         "showlegend": true,
         "textposition": "auto",
         "type": "bar",
         "x": [
          1,
          1,
          1,
          1,
          1,
          1,
          1,
          1,
          1,
          1,
          1,
          1,
          1,
          1,
          1,
          1,
          1,
          1,
          1,
          1,
          1,
          1,
          1,
          1,
          1,
          1,
          1,
          1,
          1,
          1,
          1,
          1,
          1,
          1,
          1,
          1,
          1,
          1,
          1,
          1,
          1,
          1,
          1,
          1,
          1,
          1,
          1,
          1,
          1,
          1,
          1,
          1,
          1,
          1,
          1,
          1,
          1,
          1,
          1,
          1,
          1,
          1,
          1,
          1,
          1,
          1,
          1,
          1,
          1,
          1,
          1,
          1,
          1,
          1,
          1,
          1,
          1,
          1,
          1,
          1,
          1,
          1,
          1,
          1,
          1,
          1,
          1,
          1,
          1,
          1,
          1,
          1,
          1,
          1,
          1,
          1,
          1,
          1,
          1,
          1,
          1,
          1,
          1,
          1,
          1,
          1,
          1,
          1,
          1,
          1,
          1,
          1,
          1,
          1,
          1,
          1,
          1,
          1,
          1,
          1,
          1,
          1,
          1,
          1,
          1,
          1,
          1,
          1,
          1,
          1,
          1,
          1,
          1,
          1,
          1,
          1,
          1,
          1,
          1,
          1,
          1,
          1,
          1,
          1,
          1,
          1,
          1,
          1,
          1,
          1,
          1,
          1,
          1,
          1,
          1,
          1,
          1,
          1,
          1,
          1,
          1,
          1,
          1,
          1,
          1,
          1,
          1,
          1,
          1,
          1,
          1,
          1,
          1,
          1,
          1,
          1,
          1,
          1,
          1,
          1,
          1
         ],
         "xaxis": "x",
         "y": [
          "furniture/equipment",
          "furniture/equipment",
          "furniture/equipment",
          "furniture/equipment",
          "furniture/equipment",
          "furniture/equipment",
          "furniture/equipment",
          "furniture/equipment",
          "furniture/equipment",
          "furniture/equipment",
          "furniture/equipment",
          "furniture/equipment",
          "furniture/equipment",
          "furniture/equipment",
          "furniture/equipment",
          "furniture/equipment",
          "furniture/equipment",
          "furniture/equipment",
          "furniture/equipment",
          "furniture/equipment",
          "furniture/equipment",
          "furniture/equipment",
          "furniture/equipment",
          "furniture/equipment",
          "furniture/equipment",
          "furniture/equipment",
          "furniture/equipment",
          "furniture/equipment",
          "furniture/equipment",
          "furniture/equipment",
          "furniture/equipment",
          "furniture/equipment",
          "furniture/equipment",
          "furniture/equipment",
          "furniture/equipment",
          "furniture/equipment",
          "furniture/equipment",
          "furniture/equipment",
          "furniture/equipment",
          "furniture/equipment",
          "furniture/equipment",
          "furniture/equipment",
          "furniture/equipment",
          "furniture/equipment",
          "furniture/equipment",
          "furniture/equipment",
          "furniture/equipment",
          "furniture/equipment",
          "furniture/equipment",
          "furniture/equipment",
          "furniture/equipment",
          "furniture/equipment",
          "furniture/equipment",
          "furniture/equipment",
          "furniture/equipment",
          "furniture/equipment",
          "furniture/equipment",
          "furniture/equipment",
          "furniture/equipment",
          "furniture/equipment",
          "furniture/equipment",
          "furniture/equipment",
          "furniture/equipment",
          "furniture/equipment",
          "furniture/equipment",
          "furniture/equipment",
          "furniture/equipment",
          "furniture/equipment",
          "furniture/equipment",
          "furniture/equipment",
          "furniture/equipment",
          "furniture/equipment",
          "furniture/equipment",
          "furniture/equipment",
          "furniture/equipment",
          "furniture/equipment",
          "furniture/equipment",
          "furniture/equipment",
          "furniture/equipment",
          "furniture/equipment",
          "furniture/equipment",
          "furniture/equipment",
          "furniture/equipment",
          "furniture/equipment",
          "furniture/equipment",
          "furniture/equipment",
          "furniture/equipment",
          "furniture/equipment",
          "furniture/equipment",
          "furniture/equipment",
          "furniture/equipment",
          "furniture/equipment",
          "furniture/equipment",
          "furniture/equipment",
          "furniture/equipment",
          "furniture/equipment",
          "furniture/equipment",
          "furniture/equipment",
          "furniture/equipment",
          "furniture/equipment",
          "furniture/equipment",
          "furniture/equipment",
          "furniture/equipment",
          "furniture/equipment",
          "furniture/equipment",
          "furniture/equipment",
          "furniture/equipment",
          "furniture/equipment",
          "furniture/equipment",
          "furniture/equipment",
          "furniture/equipment",
          "furniture/equipment",
          "furniture/equipment",
          "furniture/equipment",
          "furniture/equipment",
          "furniture/equipment",
          "furniture/equipment",
          "furniture/equipment",
          "furniture/equipment",
          "furniture/equipment",
          "furniture/equipment",
          "furniture/equipment",
          "furniture/equipment",
          "furniture/equipment",
          "furniture/equipment",
          "furniture/equipment",
          "furniture/equipment",
          "furniture/equipment",
          "furniture/equipment",
          "furniture/equipment",
          "furniture/equipment",
          "furniture/equipment",
          "furniture/equipment",
          "furniture/equipment",
          "furniture/equipment",
          "furniture/equipment",
          "furniture/equipment",
          "furniture/equipment",
          "furniture/equipment",
          "furniture/equipment",
          "furniture/equipment",
          "furniture/equipment",
          "furniture/equipment",
          "furniture/equipment",
          "furniture/equipment",
          "furniture/equipment",
          "furniture/equipment",
          "furniture/equipment",
          "furniture/equipment",
          "furniture/equipment",
          "furniture/equipment",
          "furniture/equipment",
          "furniture/equipment",
          "furniture/equipment",
          "furniture/equipment",
          "furniture/equipment",
          "furniture/equipment",
          "furniture/equipment",
          "furniture/equipment",
          "furniture/equipment",
          "furniture/equipment",
          "furniture/equipment",
          "furniture/equipment",
          "furniture/equipment",
          "furniture/equipment",
          "furniture/equipment",
          "furniture/equipment",
          "furniture/equipment",
          "furniture/equipment",
          "furniture/equipment",
          "furniture/equipment",
          "furniture/equipment",
          "furniture/equipment",
          "furniture/equipment",
          "furniture/equipment",
          "furniture/equipment",
          "furniture/equipment",
          "furniture/equipment",
          "furniture/equipment",
          "furniture/equipment",
          "furniture/equipment"
         ],
         "yaxis": "y"
        },
        {
         "alignmentgroup": "True",
         "hovertemplate": "Purpose=%{y}<br>count=%{x}<extra></extra>",
         "legendgroup": "car",
         "marker": {
          "color": "rgb(220, 176, 242)",
          "pattern": {
           "shape": ""
          }
         },
         "name": "car",
         "offsetgroup": "car",
         "orientation": "h",
         "showlegend": true,
         "textposition": "auto",
         "type": "bar",
         "x": [
          1,
          1,
          1,
          1,
          1,
          1,
          1,
          1,
          1,
          1,
          1,
          1,
          1,
          1,
          1,
          1,
          1,
          1,
          1,
          1,
          1,
          1,
          1,
          1,
          1,
          1,
          1,
          1,
          1,
          1,
          1,
          1,
          1,
          1,
          1,
          1,
          1,
          1,
          1,
          1,
          1,
          1,
          1,
          1,
          1,
          1,
          1,
          1,
          1,
          1,
          1,
          1,
          1,
          1,
          1,
          1,
          1,
          1,
          1,
          1,
          1,
          1,
          1,
          1,
          1,
          1,
          1,
          1,
          1,
          1,
          1,
          1,
          1,
          1,
          1,
          1,
          1,
          1,
          1,
          1,
          1,
          1,
          1,
          1,
          1,
          1,
          1,
          1,
          1,
          1,
          1,
          1,
          1,
          1,
          1,
          1,
          1,
          1,
          1,
          1,
          1,
          1,
          1,
          1,
          1,
          1,
          1,
          1,
          1,
          1,
          1,
          1,
          1,
          1,
          1,
          1,
          1,
          1,
          1,
          1,
          1,
          1,
          1,
          1,
          1,
          1,
          1,
          1,
          1,
          1,
          1,
          1,
          1,
          1,
          1,
          1,
          1,
          1,
          1,
          1,
          1,
          1,
          1,
          1,
          1,
          1,
          1,
          1,
          1,
          1,
          1,
          1,
          1,
          1,
          1,
          1,
          1,
          1,
          1,
          1,
          1,
          1,
          1,
          1,
          1,
          1,
          1,
          1,
          1,
          1,
          1,
          1,
          1,
          1,
          1,
          1,
          1,
          1,
          1,
          1,
          1,
          1,
          1,
          1,
          1,
          1,
          1,
          1,
          1,
          1,
          1,
          1,
          1,
          1,
          1,
          1,
          1,
          1,
          1,
          1,
          1,
          1,
          1,
          1,
          1,
          1,
          1,
          1,
          1,
          1,
          1,
          1,
          1,
          1,
          1,
          1,
          1,
          1,
          1,
          1,
          1,
          1,
          1,
          1,
          1,
          1,
          1,
          1,
          1,
          1,
          1,
          1,
          1,
          1,
          1,
          1,
          1,
          1,
          1,
          1,
          1,
          1,
          1,
          1,
          1,
          1,
          1,
          1,
          1,
          1,
          1,
          1,
          1,
          1,
          1,
          1,
          1,
          1,
          1,
          1,
          1,
          1,
          1,
          1,
          1,
          1,
          1,
          1,
          1,
          1,
          1,
          1,
          1,
          1,
          1,
          1,
          1,
          1,
          1,
          1,
          1,
          1,
          1,
          1,
          1,
          1,
          1,
          1,
          1,
          1,
          1,
          1,
          1,
          1,
          1,
          1,
          1,
          1,
          1,
          1,
          1,
          1,
          1,
          1,
          1,
          1,
          1,
          1,
          1,
          1,
          1,
          1,
          1,
          1,
          1,
          1,
          1,
          1,
          1,
          1,
          1,
          1,
          1,
          1,
          1,
          1,
          1,
          1,
          1,
          1,
          1,
          1,
          1,
          1,
          1,
          1,
          1
         ],
         "xaxis": "x",
         "y": [
          "car",
          "car",
          "car",
          "car",
          "car",
          "car",
          "car",
          "car",
          "car",
          "car",
          "car",
          "car",
          "car",
          "car",
          "car",
          "car",
          "car",
          "car",
          "car",
          "car",
          "car",
          "car",
          "car",
          "car",
          "car",
          "car",
          "car",
          "car",
          "car",
          "car",
          "car",
          "car",
          "car",
          "car",
          "car",
          "car",
          "car",
          "car",
          "car",
          "car",
          "car",
          "car",
          "car",
          "car",
          "car",
          "car",
          "car",
          "car",
          "car",
          "car",
          "car",
          "car",
          "car",
          "car",
          "car",
          "car",
          "car",
          "car",
          "car",
          "car",
          "car",
          "car",
          "car",
          "car",
          "car",
          "car",
          "car",
          "car",
          "car",
          "car",
          "car",
          "car",
          "car",
          "car",
          "car",
          "car",
          "car",
          "car",
          "car",
          "car",
          "car",
          "car",
          "car",
          "car",
          "car",
          "car",
          "car",
          "car",
          "car",
          "car",
          "car",
          "car",
          "car",
          "car",
          "car",
          "car",
          "car",
          "car",
          "car",
          "car",
          "car",
          "car",
          "car",
          "car",
          "car",
          "car",
          "car",
          "car",
          "car",
          "car",
          "car",
          "car",
          "car",
          "car",
          "car",
          "car",
          "car",
          "car",
          "car",
          "car",
          "car",
          "car",
          "car",
          "car",
          "car",
          "car",
          "car",
          "car",
          "car",
          "car",
          "car",
          "car",
          "car",
          "car",
          "car",
          "car",
          "car",
          "car",
          "car",
          "car",
          "car",
          "car",
          "car",
          "car",
          "car",
          "car",
          "car",
          "car",
          "car",
          "car",
          "car",
          "car",
          "car",
          "car",
          "car",
          "car",
          "car",
          "car",
          "car",
          "car",
          "car",
          "car",
          "car",
          "car",
          "car",
          "car",
          "car",
          "car",
          "car",
          "car",
          "car",
          "car",
          "car",
          "car",
          "car",
          "car",
          "car",
          "car",
          "car",
          "car",
          "car",
          "car",
          "car",
          "car",
          "car",
          "car",
          "car",
          "car",
          "car",
          "car",
          "car",
          "car",
          "car",
          "car",
          "car",
          "car",
          "car",
          "car",
          "car",
          "car",
          "car",
          "car",
          "car",
          "car",
          "car",
          "car",
          "car",
          "car",
          "car",
          "car",
          "car",
          "car",
          "car",
          "car",
          "car",
          "car",
          "car",
          "car",
          "car",
          "car",
          "car",
          "car",
          "car",
          "car",
          "car",
          "car",
          "car",
          "car",
          "car",
          "car",
          "car",
          "car",
          "car",
          "car",
          "car",
          "car",
          "car",
          "car",
          "car",
          "car",
          "car",
          "car",
          "car",
          "car",
          "car",
          "car",
          "car",
          "car",
          "car",
          "car",
          "car",
          "car",
          "car",
          "car",
          "car",
          "car",
          "car",
          "car",
          "car",
          "car",
          "car",
          "car",
          "car",
          "car",
          "car",
          "car",
          "car",
          "car",
          "car",
          "car",
          "car",
          "car",
          "car",
          "car",
          "car",
          "car",
          "car",
          "car",
          "car",
          "car",
          "car",
          "car",
          "car",
          "car",
          "car",
          "car",
          "car",
          "car",
          "car",
          "car",
          "car",
          "car",
          "car",
          "car",
          "car",
          "car",
          "car",
          "car",
          "car",
          "car",
          "car",
          "car",
          "car",
          "car",
          "car",
          "car",
          "car",
          "car",
          "car",
          "car",
          "car",
          "car",
          "car",
          "car",
          "car",
          "car",
          "car",
          "car",
          "car",
          "car",
          "car",
          "car",
          "car",
          "car",
          "car",
          "car",
          "car",
          "car",
          "car",
          "car",
          "car",
          "car",
          "car",
          "car",
          "car",
          "car",
          "car"
         ],
         "yaxis": "y"
        },
        {
         "alignmentgroup": "True",
         "hovertemplate": "Purpose=%{y}<br>count=%{x}<extra></extra>",
         "legendgroup": "business",
         "marker": {
          "color": "rgb(135, 197, 95)",
          "pattern": {
           "shape": ""
          }
         },
         "name": "business",
         "offsetgroup": "business",
         "orientation": "h",
         "showlegend": true,
         "textposition": "auto",
         "type": "bar",
         "x": [
          1,
          1,
          1,
          1,
          1,
          1,
          1,
          1,
          1,
          1,
          1,
          1,
          1,
          1,
          1,
          1,
          1,
          1,
          1,
          1,
          1,
          1,
          1,
          1,
          1,
          1,
          1,
          1,
          1,
          1,
          1,
          1,
          1,
          1,
          1,
          1,
          1,
          1,
          1,
          1,
          1,
          1,
          1,
          1,
          1,
          1,
          1,
          1,
          1,
          1,
          1,
          1,
          1,
          1,
          1,
          1,
          1,
          1,
          1,
          1,
          1,
          1,
          1,
          1,
          1,
          1,
          1,
          1,
          1,
          1,
          1,
          1,
          1,
          1,
          1,
          1,
          1,
          1,
          1,
          1,
          1,
          1,
          1,
          1,
          1,
          1,
          1,
          1,
          1,
          1,
          1,
          1,
          1,
          1,
          1,
          1,
          1
         ],
         "xaxis": "x",
         "y": [
          "business",
          "business",
          "business",
          "business",
          "business",
          "business",
          "business",
          "business",
          "business",
          "business",
          "business",
          "business",
          "business",
          "business",
          "business",
          "business",
          "business",
          "business",
          "business",
          "business",
          "business",
          "business",
          "business",
          "business",
          "business",
          "business",
          "business",
          "business",
          "business",
          "business",
          "business",
          "business",
          "business",
          "business",
          "business",
          "business",
          "business",
          "business",
          "business",
          "business",
          "business",
          "business",
          "business",
          "business",
          "business",
          "business",
          "business",
          "business",
          "business",
          "business",
          "business",
          "business",
          "business",
          "business",
          "business",
          "business",
          "business",
          "business",
          "business",
          "business",
          "business",
          "business",
          "business",
          "business",
          "business",
          "business",
          "business",
          "business",
          "business",
          "business",
          "business",
          "business",
          "business",
          "business",
          "business",
          "business",
          "business",
          "business",
          "business",
          "business",
          "business",
          "business",
          "business",
          "business",
          "business",
          "business",
          "business",
          "business",
          "business",
          "business",
          "business",
          "business",
          "business",
          "business",
          "business",
          "business",
          "business"
         ],
         "yaxis": "y"
        },
        {
         "alignmentgroup": "True",
         "hovertemplate": "Purpose=%{y}<br>count=%{x}<extra></extra>",
         "legendgroup": "domestic appliances",
         "marker": {
          "color": "rgb(158, 185, 243)",
          "pattern": {
           "shape": ""
          }
         },
         "name": "domestic appliances",
         "offsetgroup": "domestic appliances",
         "orientation": "h",
         "showlegend": true,
         "textposition": "auto",
         "type": "bar",
         "x": [
          1,
          1,
          1,
          1,
          1,
          1,
          1,
          1,
          1,
          1,
          1,
          1
         ],
         "xaxis": "x",
         "y": [
          "domestic appliances",
          "domestic appliances",
          "domestic appliances",
          "domestic appliances",
          "domestic appliances",
          "domestic appliances",
          "domestic appliances",
          "domestic appliances",
          "domestic appliances",
          "domestic appliances",
          "domestic appliances",
          "domestic appliances"
         ],
         "yaxis": "y"
        },
        {
         "alignmentgroup": "True",
         "hovertemplate": "Purpose=%{y}<br>count=%{x}<extra></extra>",
         "legendgroup": "repairs",
         "marker": {
          "color": "rgb(254, 136, 177)",
          "pattern": {
           "shape": ""
          }
         },
         "name": "repairs",
         "offsetgroup": "repairs",
         "orientation": "h",
         "showlegend": true,
         "textposition": "auto",
         "type": "bar",
         "x": [
          1,
          1,
          1,
          1,
          1,
          1,
          1,
          1,
          1,
          1,
          1,
          1,
          1,
          1,
          1,
          1,
          1,
          1,
          1,
          1,
          1,
          1
         ],
         "xaxis": "x",
         "y": [
          "repairs",
          "repairs",
          "repairs",
          "repairs",
          "repairs",
          "repairs",
          "repairs",
          "repairs",
          "repairs",
          "repairs",
          "repairs",
          "repairs",
          "repairs",
          "repairs",
          "repairs",
          "repairs",
          "repairs",
          "repairs",
          "repairs",
          "repairs",
          "repairs",
          "repairs"
         ],
         "yaxis": "y"
        },
        {
         "alignmentgroup": "True",
         "hovertemplate": "Purpose=%{y}<br>count=%{x}<extra></extra>",
         "legendgroup": "vacation/others",
         "marker": {
          "color": "rgb(201, 219, 116)",
          "pattern": {
           "shape": ""
          }
         },
         "name": "vacation/others",
         "offsetgroup": "vacation/others",
         "orientation": "h",
         "showlegend": true,
         "textposition": "auto",
         "type": "bar",
         "x": [
          1,
          1,
          1,
          1,
          1,
          1,
          1,
          1,
          1,
          1,
          1,
          1
         ],
         "xaxis": "x",
         "y": [
          "vacation/others",
          "vacation/others",
          "vacation/others",
          "vacation/others",
          "vacation/others",
          "vacation/others",
          "vacation/others",
          "vacation/others",
          "vacation/others",
          "vacation/others",
          "vacation/others",
          "vacation/others"
         ],
         "yaxis": "y"
        }
       ],
       "layout": {
        "barmode": "relative",
        "font": {
         "color": "white"
        },
        "legend": {
         "title": {
          "text": "Purpose"
         },
         "tracegroupgap": 0
        },
        "margin": {
         "t": 60
        },
        "paper_bgcolor": "rgba(0,0,0,0)",
        "plot_bgcolor": "rgba(0,0,0,0)",
        "template": {
         "data": {
          "bar": [
           {
            "error_x": {
             "color": "#f2f5fa"
            },
            "error_y": {
             "color": "#f2f5fa"
            },
            "marker": {
             "line": {
              "color": "rgb(17,17,17)",
              "width": 0.5
             },
             "pattern": {
              "fillmode": "overlay",
              "size": 10,
              "solidity": 0.2
             }
            },
            "type": "bar"
           }
          ],
          "barpolar": [
           {
            "marker": {
             "line": {
              "color": "rgb(17,17,17)",
              "width": 0.5
             },
             "pattern": {
              "fillmode": "overlay",
              "size": 10,
              "solidity": 0.2
             }
            },
            "type": "barpolar"
           }
          ],
          "carpet": [
           {
            "aaxis": {
             "endlinecolor": "#A2B1C6",
             "gridcolor": "#506784",
             "linecolor": "#506784",
             "minorgridcolor": "#506784",
             "startlinecolor": "#A2B1C6"
            },
            "baxis": {
             "endlinecolor": "#A2B1C6",
             "gridcolor": "#506784",
             "linecolor": "#506784",
             "minorgridcolor": "#506784",
             "startlinecolor": "#A2B1C6"
            },
            "type": "carpet"
           }
          ],
          "choropleth": [
           {
            "colorbar": {
             "outlinewidth": 0,
             "ticks": ""
            },
            "type": "choropleth"
           }
          ],
          "contour": [
           {
            "colorbar": {
             "outlinewidth": 0,
             "ticks": ""
            },
            "colorscale": [
             [
              0,
              "#0d0887"
             ],
             [
              0.1111111111111111,
              "#46039f"
             ],
             [
              0.2222222222222222,
              "#7201a8"
             ],
             [
              0.3333333333333333,
              "#9c179e"
             ],
             [
              0.4444444444444444,
              "#bd3786"
             ],
             [
              0.5555555555555556,
              "#d8576b"
             ],
             [
              0.6666666666666666,
              "#ed7953"
             ],
             [
              0.7777777777777778,
              "#fb9f3a"
             ],
             [
              0.8888888888888888,
              "#fdca26"
             ],
             [
              1,
              "#f0f921"
             ]
            ],
            "type": "contour"
           }
          ],
          "contourcarpet": [
           {
            "colorbar": {
             "outlinewidth": 0,
             "ticks": ""
            },
            "type": "contourcarpet"
           }
          ],
          "heatmap": [
           {
            "colorbar": {
             "outlinewidth": 0,
             "ticks": ""
            },
            "colorscale": [
             [
              0,
              "#0d0887"
             ],
             [
              0.1111111111111111,
              "#46039f"
             ],
             [
              0.2222222222222222,
              "#7201a8"
             ],
             [
              0.3333333333333333,
              "#9c179e"
             ],
             [
              0.4444444444444444,
              "#bd3786"
             ],
             [
              0.5555555555555556,
              "#d8576b"
             ],
             [
              0.6666666666666666,
              "#ed7953"
             ],
             [
              0.7777777777777778,
              "#fb9f3a"
             ],
             [
              0.8888888888888888,
              "#fdca26"
             ],
             [
              1,
              "#f0f921"
             ]
            ],
            "type": "heatmap"
           }
          ],
          "heatmapgl": [
           {
            "colorbar": {
             "outlinewidth": 0,
             "ticks": ""
            },
            "colorscale": [
             [
              0,
              "#0d0887"
             ],
             [
              0.1111111111111111,
              "#46039f"
             ],
             [
              0.2222222222222222,
              "#7201a8"
             ],
             [
              0.3333333333333333,
              "#9c179e"
             ],
             [
              0.4444444444444444,
              "#bd3786"
             ],
             [
              0.5555555555555556,
              "#d8576b"
             ],
             [
              0.6666666666666666,
              "#ed7953"
             ],
             [
              0.7777777777777778,
              "#fb9f3a"
             ],
             [
              0.8888888888888888,
              "#fdca26"
             ],
             [
              1,
              "#f0f921"
             ]
            ],
            "type": "heatmapgl"
           }
          ],
          "histogram": [
           {
            "marker": {
             "pattern": {
              "fillmode": "overlay",
              "size": 10,
              "solidity": 0.2
             }
            },
            "type": "histogram"
           }
          ],
          "histogram2d": [
           {
            "colorbar": {
             "outlinewidth": 0,
             "ticks": ""
            },
            "colorscale": [
             [
              0,
              "#0d0887"
             ],
             [
              0.1111111111111111,
              "#46039f"
             ],
             [
              0.2222222222222222,
              "#7201a8"
             ],
             [
              0.3333333333333333,
              "#9c179e"
             ],
             [
              0.4444444444444444,
              "#bd3786"
             ],
             [
              0.5555555555555556,
              "#d8576b"
             ],
             [
              0.6666666666666666,
              "#ed7953"
             ],
             [
              0.7777777777777778,
              "#fb9f3a"
             ],
             [
              0.8888888888888888,
              "#fdca26"
             ],
             [
              1,
              "#f0f921"
             ]
            ],
            "type": "histogram2d"
           }
          ],
          "histogram2dcontour": [
           {
            "colorbar": {
             "outlinewidth": 0,
             "ticks": ""
            },
            "colorscale": [
             [
              0,
              "#0d0887"
             ],
             [
              0.1111111111111111,
              "#46039f"
             ],
             [
              0.2222222222222222,
              "#7201a8"
             ],
             [
              0.3333333333333333,
              "#9c179e"
             ],
             [
              0.4444444444444444,
              "#bd3786"
             ],
             [
              0.5555555555555556,
              "#d8576b"
             ],
             [
              0.6666666666666666,
              "#ed7953"
             ],
             [
              0.7777777777777778,
              "#fb9f3a"
             ],
             [
              0.8888888888888888,
              "#fdca26"
             ],
             [
              1,
              "#f0f921"
             ]
            ],
            "type": "histogram2dcontour"
           }
          ],
          "mesh3d": [
           {
            "colorbar": {
             "outlinewidth": 0,
             "ticks": ""
            },
            "type": "mesh3d"
           }
          ],
          "parcoords": [
           {
            "line": {
             "colorbar": {
              "outlinewidth": 0,
              "ticks": ""
             }
            },
            "type": "parcoords"
           }
          ],
          "pie": [
           {
            "automargin": true,
            "type": "pie"
           }
          ],
          "scatter": [
           {
            "marker": {
             "line": {
              "color": "#283442"
             }
            },
            "type": "scatter"
           }
          ],
          "scatter3d": [
           {
            "line": {
             "colorbar": {
              "outlinewidth": 0,
              "ticks": ""
             }
            },
            "marker": {
             "colorbar": {
              "outlinewidth": 0,
              "ticks": ""
             }
            },
            "type": "scatter3d"
           }
          ],
          "scattercarpet": [
           {
            "marker": {
             "colorbar": {
              "outlinewidth": 0,
              "ticks": ""
             }
            },
            "type": "scattercarpet"
           }
          ],
          "scattergeo": [
           {
            "marker": {
             "colorbar": {
              "outlinewidth": 0,
              "ticks": ""
             }
            },
            "type": "scattergeo"
           }
          ],
          "scattergl": [
           {
            "marker": {
             "line": {
              "color": "#283442"
             }
            },
            "type": "scattergl"
           }
          ],
          "scattermapbox": [
           {
            "marker": {
             "colorbar": {
              "outlinewidth": 0,
              "ticks": ""
             }
            },
            "type": "scattermapbox"
           }
          ],
          "scatterpolar": [
           {
            "marker": {
             "colorbar": {
              "outlinewidth": 0,
              "ticks": ""
             }
            },
            "type": "scatterpolar"
           }
          ],
          "scatterpolargl": [
           {
            "marker": {
             "colorbar": {
              "outlinewidth": 0,
              "ticks": ""
             }
            },
            "type": "scatterpolargl"
           }
          ],
          "scatterternary": [
           {
            "marker": {
             "colorbar": {
              "outlinewidth": 0,
              "ticks": ""
             }
            },
            "type": "scatterternary"
           }
          ],
          "surface": [
           {
            "colorbar": {
             "outlinewidth": 0,
             "ticks": ""
            },
            "colorscale": [
             [
              0,
              "#0d0887"
             ],
             [
              0.1111111111111111,
              "#46039f"
             ],
             [
              0.2222222222222222,
              "#7201a8"
             ],
             [
              0.3333333333333333,
              "#9c179e"
             ],
             [
              0.4444444444444444,
              "#bd3786"
             ],
             [
              0.5555555555555556,
              "#d8576b"
             ],
             [
              0.6666666666666666,
              "#ed7953"
             ],
             [
              0.7777777777777778,
              "#fb9f3a"
             ],
             [
              0.8888888888888888,
              "#fdca26"
             ],
             [
              1,
              "#f0f921"
             ]
            ],
            "type": "surface"
           }
          ],
          "table": [
           {
            "cells": {
             "fill": {
              "color": "#506784"
             },
             "line": {
              "color": "rgb(17,17,17)"
             }
            },
            "header": {
             "fill": {
              "color": "#2a3f5f"
             },
             "line": {
              "color": "rgb(17,17,17)"
             }
            },
            "type": "table"
           }
          ]
         },
         "layout": {
          "annotationdefaults": {
           "arrowcolor": "#f2f5fa",
           "arrowhead": 0,
           "arrowwidth": 1
          },
          "autotypenumbers": "strict",
          "coloraxis": {
           "colorbar": {
            "outlinewidth": 0,
            "ticks": ""
           }
          },
          "colorscale": {
           "diverging": [
            [
             0,
             "#8e0152"
            ],
            [
             0.1,
             "#c51b7d"
            ],
            [
             0.2,
             "#de77ae"
            ],
            [
             0.3,
             "#f1b6da"
            ],
            [
             0.4,
             "#fde0ef"
            ],
            [
             0.5,
             "#f7f7f7"
            ],
            [
             0.6,
             "#e6f5d0"
            ],
            [
             0.7,
             "#b8e186"
            ],
            [
             0.8,
             "#7fbc41"
            ],
            [
             0.9,
             "#4d9221"
            ],
            [
             1,
             "#276419"
            ]
           ],
           "sequential": [
            [
             0,
             "#0d0887"
            ],
            [
             0.1111111111111111,
             "#46039f"
            ],
            [
             0.2222222222222222,
             "#7201a8"
            ],
            [
             0.3333333333333333,
             "#9c179e"
            ],
            [
             0.4444444444444444,
             "#bd3786"
            ],
            [
             0.5555555555555556,
             "#d8576b"
            ],
            [
             0.6666666666666666,
             "#ed7953"
            ],
            [
             0.7777777777777778,
             "#fb9f3a"
            ],
            [
             0.8888888888888888,
             "#fdca26"
            ],
            [
             1,
             "#f0f921"
            ]
           ],
           "sequentialminus": [
            [
             0,
             "#0d0887"
            ],
            [
             0.1111111111111111,
             "#46039f"
            ],
            [
             0.2222222222222222,
             "#7201a8"
            ],
            [
             0.3333333333333333,
             "#9c179e"
            ],
            [
             0.4444444444444444,
             "#bd3786"
            ],
            [
             0.5555555555555556,
             "#d8576b"
            ],
            [
             0.6666666666666666,
             "#ed7953"
            ],
            [
             0.7777777777777778,
             "#fb9f3a"
            ],
            [
             0.8888888888888888,
             "#fdca26"
            ],
            [
             1,
             "#f0f921"
            ]
           ]
          },
          "colorway": [
           "#636efa",
           "#EF553B",
           "#00cc96",
           "#ab63fa",
           "#FFA15A",
           "#19d3f3",
           "#FF6692",
           "#B6E880",
           "#FF97FF",
           "#FECB52"
          ],
          "font": {
           "color": "#f2f5fa"
          },
          "geo": {
           "bgcolor": "rgb(17,17,17)",
           "lakecolor": "rgb(17,17,17)",
           "landcolor": "rgb(17,17,17)",
           "showlakes": true,
           "showland": true,
           "subunitcolor": "#506784"
          },
          "hoverlabel": {
           "align": "left"
          },
          "hovermode": "closest",
          "mapbox": {
           "style": "dark"
          },
          "paper_bgcolor": "rgb(17,17,17)",
          "plot_bgcolor": "rgb(17,17,17)",
          "polar": {
           "angularaxis": {
            "gridcolor": "#506784",
            "linecolor": "#506784",
            "ticks": ""
           },
           "bgcolor": "rgb(17,17,17)",
           "radialaxis": {
            "gridcolor": "#506784",
            "linecolor": "#506784",
            "ticks": ""
           }
          },
          "scene": {
           "xaxis": {
            "backgroundcolor": "rgb(17,17,17)",
            "gridcolor": "#506784",
            "gridwidth": 2,
            "linecolor": "#506784",
            "showbackground": true,
            "ticks": "",
            "zerolinecolor": "#C8D4E3"
           },
           "yaxis": {
            "backgroundcolor": "rgb(17,17,17)",
            "gridcolor": "#506784",
            "gridwidth": 2,
            "linecolor": "#506784",
            "showbackground": true,
            "ticks": "",
            "zerolinecolor": "#C8D4E3"
           },
           "zaxis": {
            "backgroundcolor": "rgb(17,17,17)",
            "gridcolor": "#506784",
            "gridwidth": 2,
            "linecolor": "#506784",
            "showbackground": true,
            "ticks": "",
            "zerolinecolor": "#C8D4E3"
           }
          },
          "shapedefaults": {
           "line": {
            "color": "#f2f5fa"
           }
          },
          "sliderdefaults": {
           "bgcolor": "#C8D4E3",
           "bordercolor": "rgb(17,17,17)",
           "borderwidth": 1,
           "tickwidth": 0
          },
          "ternary": {
           "aaxis": {
            "gridcolor": "#506784",
            "linecolor": "#506784",
            "ticks": ""
           },
           "baxis": {
            "gridcolor": "#506784",
            "linecolor": "#506784",
            "ticks": ""
           },
           "bgcolor": "rgb(17,17,17)",
           "caxis": {
            "gridcolor": "#506784",
            "linecolor": "#506784",
            "ticks": ""
           }
          },
          "title": {
           "x": 0.05
          },
          "updatemenudefaults": {
           "bgcolor": "#506784",
           "borderwidth": 0
          },
          "xaxis": {
           "automargin": true,
           "gridcolor": "#283442",
           "linecolor": "#506784",
           "ticks": "",
           "title": {
            "standoff": 15
           },
           "zerolinecolor": "#283442",
           "zerolinewidth": 2
          },
          "yaxis": {
           "automargin": true,
           "gridcolor": "#283442",
           "linecolor": "#506784",
           "ticks": "",
           "title": {
            "standoff": 15
           },
           "zerolinecolor": "#283442",
           "zerolinewidth": 2
          }
         }
        },
        "xaxis": {
         "anchor": "y",
         "domain": [
          0,
          1
         ],
         "title": {
          "text": "count"
         }
        },
        "yaxis": {
         "anchor": "x",
         "categoryarray": [
          "vacation/others",
          "repairs",
          "domestic appliances",
          "business",
          "car",
          "furniture/equipment",
          "education",
          "radio/TV"
         ],
         "categoryorder": "array",
         "domain": [
          0,
          1
         ],
         "title": {
          "text": "Purpose"
         }
        }
       }
      }
     },
     "metadata": {},
     "output_type": "display_data"
    },
    {
     "data": {
      "application/vnd.plotly.v1+json": {
       "config": {
        "plotlyServerURL": "https://plot.ly"
       },
       "data": [
        {
         "colorscale": [
          [
           0,
           "#FF66CC"
          ],
          [
           1,
           "#FFA500"
          ]
         ],
         "hoverongaps": false,
         "type": "heatmap",
         "x": [
          "Age",
          "Job",
          "Credit amount",
          "Duration"
         ],
         "y": [
          "Age",
          "Job",
          "Credit amount",
          "Duration"
         ],
         "z": [
          [
           1,
           0.01567316007428226,
           0.03271641666544804,
           -0.03613637401909832
          ],
          [
           0.01567316007428226,
           1,
           0.28538533307678626,
           0.21090973492313855
          ],
          [
           0.03271641666544804,
           0.28538533307678626,
           1,
           0.6249841983009851
          ],
          [
           -0.03613637401909832,
           0.21090973492313855,
           0.6249841983009851,
           1
          ]
         ]
        }
       ],
       "layout": {
        "font": {
         "color": "white"
        },
        "paper_bgcolor": "rgba(0,0,0,0)",
        "plot_bgcolor": "rgba(0,0,0,0)",
        "template": {
         "data": {
          "bar": [
           {
            "error_x": {
             "color": "#f2f5fa"
            },
            "error_y": {
             "color": "#f2f5fa"
            },
            "marker": {
             "line": {
              "color": "rgb(17,17,17)",
              "width": 0.5
             },
             "pattern": {
              "fillmode": "overlay",
              "size": 10,
              "solidity": 0.2
             }
            },
            "type": "bar"
           }
          ],
          "barpolar": [
           {
            "marker": {
             "line": {
              "color": "rgb(17,17,17)",
              "width": 0.5
             },
             "pattern": {
              "fillmode": "overlay",
              "size": 10,
              "solidity": 0.2
             }
            },
            "type": "barpolar"
           }
          ],
          "carpet": [
           {
            "aaxis": {
             "endlinecolor": "#A2B1C6",
             "gridcolor": "#506784",
             "linecolor": "#506784",
             "minorgridcolor": "#506784",
             "startlinecolor": "#A2B1C6"
            },
            "baxis": {
             "endlinecolor": "#A2B1C6",
             "gridcolor": "#506784",
             "linecolor": "#506784",
             "minorgridcolor": "#506784",
             "startlinecolor": "#A2B1C6"
            },
            "type": "carpet"
           }
          ],
          "choropleth": [
           {
            "colorbar": {
             "outlinewidth": 0,
             "ticks": ""
            },
            "type": "choropleth"
           }
          ],
          "contour": [
           {
            "colorbar": {
             "outlinewidth": 0,
             "ticks": ""
            },
            "colorscale": [
             [
              0,
              "#0d0887"
             ],
             [
              0.1111111111111111,
              "#46039f"
             ],
             [
              0.2222222222222222,
              "#7201a8"
             ],
             [
              0.3333333333333333,
              "#9c179e"
             ],
             [
              0.4444444444444444,
              "#bd3786"
             ],
             [
              0.5555555555555556,
              "#d8576b"
             ],
             [
              0.6666666666666666,
              "#ed7953"
             ],
             [
              0.7777777777777778,
              "#fb9f3a"
             ],
             [
              0.8888888888888888,
              "#fdca26"
             ],
             [
              1,
              "#f0f921"
             ]
            ],
            "type": "contour"
           }
          ],
          "contourcarpet": [
           {
            "colorbar": {
             "outlinewidth": 0,
             "ticks": ""
            },
            "type": "contourcarpet"
           }
          ],
          "heatmap": [
           {
            "colorbar": {
             "outlinewidth": 0,
             "ticks": ""
            },
            "colorscale": [
             [
              0,
              "#0d0887"
             ],
             [
              0.1111111111111111,
              "#46039f"
             ],
             [
              0.2222222222222222,
              "#7201a8"
             ],
             [
              0.3333333333333333,
              "#9c179e"
             ],
             [
              0.4444444444444444,
              "#bd3786"
             ],
             [
              0.5555555555555556,
              "#d8576b"
             ],
             [
              0.6666666666666666,
              "#ed7953"
             ],
             [
              0.7777777777777778,
              "#fb9f3a"
             ],
             [
              0.8888888888888888,
              "#fdca26"
             ],
             [
              1,
              "#f0f921"
             ]
            ],
            "type": "heatmap"
           }
          ],
          "heatmapgl": [
           {
            "colorbar": {
             "outlinewidth": 0,
             "ticks": ""
            },
            "colorscale": [
             [
              0,
              "#0d0887"
             ],
             [
              0.1111111111111111,
              "#46039f"
             ],
             [
              0.2222222222222222,
              "#7201a8"
             ],
             [
              0.3333333333333333,
              "#9c179e"
             ],
             [
              0.4444444444444444,
              "#bd3786"
             ],
             [
              0.5555555555555556,
              "#d8576b"
             ],
             [
              0.6666666666666666,
              "#ed7953"
             ],
             [
              0.7777777777777778,
              "#fb9f3a"
             ],
             [
              0.8888888888888888,
              "#fdca26"
             ],
             [
              1,
              "#f0f921"
             ]
            ],
            "type": "heatmapgl"
           }
          ],
          "histogram": [
           {
            "marker": {
             "pattern": {
              "fillmode": "overlay",
              "size": 10,
              "solidity": 0.2
             }
            },
            "type": "histogram"
           }
          ],
          "histogram2d": [
           {
            "colorbar": {
             "outlinewidth": 0,
             "ticks": ""
            },
            "colorscale": [
             [
              0,
              "#0d0887"
             ],
             [
              0.1111111111111111,
              "#46039f"
             ],
             [
              0.2222222222222222,
              "#7201a8"
             ],
             [
              0.3333333333333333,
              "#9c179e"
             ],
             [
              0.4444444444444444,
              "#bd3786"
             ],
             [
              0.5555555555555556,
              "#d8576b"
             ],
             [
              0.6666666666666666,
              "#ed7953"
             ],
             [
              0.7777777777777778,
              "#fb9f3a"
             ],
             [
              0.8888888888888888,
              "#fdca26"
             ],
             [
              1,
              "#f0f921"
             ]
            ],
            "type": "histogram2d"
           }
          ],
          "histogram2dcontour": [
           {
            "colorbar": {
             "outlinewidth": 0,
             "ticks": ""
            },
            "colorscale": [
             [
              0,
              "#0d0887"
             ],
             [
              0.1111111111111111,
              "#46039f"
             ],
             [
              0.2222222222222222,
              "#7201a8"
             ],
             [
              0.3333333333333333,
              "#9c179e"
             ],
             [
              0.4444444444444444,
              "#bd3786"
             ],
             [
              0.5555555555555556,
              "#d8576b"
             ],
             [
              0.6666666666666666,
              "#ed7953"
             ],
             [
              0.7777777777777778,
              "#fb9f3a"
             ],
             [
              0.8888888888888888,
              "#fdca26"
             ],
             [
              1,
              "#f0f921"
             ]
            ],
            "type": "histogram2dcontour"
           }
          ],
          "mesh3d": [
           {
            "colorbar": {
             "outlinewidth": 0,
             "ticks": ""
            },
            "type": "mesh3d"
           }
          ],
          "parcoords": [
           {
            "line": {
             "colorbar": {
              "outlinewidth": 0,
              "ticks": ""
             }
            },
            "type": "parcoords"
           }
          ],
          "pie": [
           {
            "automargin": true,
            "type": "pie"
           }
          ],
          "scatter": [
           {
            "marker": {
             "line": {
              "color": "#283442"
             }
            },
            "type": "scatter"
           }
          ],
          "scatter3d": [
           {
            "line": {
             "colorbar": {
              "outlinewidth": 0,
              "ticks": ""
             }
            },
            "marker": {
             "colorbar": {
              "outlinewidth": 0,
              "ticks": ""
             }
            },
            "type": "scatter3d"
           }
          ],
          "scattercarpet": [
           {
            "marker": {
             "colorbar": {
              "outlinewidth": 0,
              "ticks": ""
             }
            },
            "type": "scattercarpet"
           }
          ],
          "scattergeo": [
           {
            "marker": {
             "colorbar": {
              "outlinewidth": 0,
              "ticks": ""
             }
            },
            "type": "scattergeo"
           }
          ],
          "scattergl": [
           {
            "marker": {
             "line": {
              "color": "#283442"
             }
            },
            "type": "scattergl"
           }
          ],
          "scattermapbox": [
           {
            "marker": {
             "colorbar": {
              "outlinewidth": 0,
              "ticks": ""
             }
            },
            "type": "scattermapbox"
           }
          ],
          "scatterpolar": [
           {
            "marker": {
             "colorbar": {
              "outlinewidth": 0,
              "ticks": ""
             }
            },
            "type": "scatterpolar"
           }
          ],
          "scatterpolargl": [
           {
            "marker": {
             "colorbar": {
              "outlinewidth": 0,
              "ticks": ""
             }
            },
            "type": "scatterpolargl"
           }
          ],
          "scatterternary": [
           {
            "marker": {
             "colorbar": {
              "outlinewidth": 0,
              "ticks": ""
             }
            },
            "type": "scatterternary"
           }
          ],
          "surface": [
           {
            "colorbar": {
             "outlinewidth": 0,
             "ticks": ""
            },
            "colorscale": [
             [
              0,
              "#0d0887"
             ],
             [
              0.1111111111111111,
              "#46039f"
             ],
             [
              0.2222222222222222,
              "#7201a8"
             ],
             [
              0.3333333333333333,
              "#9c179e"
             ],
             [
              0.4444444444444444,
              "#bd3786"
             ],
             [
              0.5555555555555556,
              "#d8576b"
             ],
             [
              0.6666666666666666,
              "#ed7953"
             ],
             [
              0.7777777777777778,
              "#fb9f3a"
             ],
             [
              0.8888888888888888,
              "#fdca26"
             ],
             [
              1,
              "#f0f921"
             ]
            ],
            "type": "surface"
           }
          ],
          "table": [
           {
            "cells": {
             "fill": {
              "color": "#506784"
             },
             "line": {
              "color": "rgb(17,17,17)"
             }
            },
            "header": {
             "fill": {
              "color": "#2a3f5f"
             },
             "line": {
              "color": "rgb(17,17,17)"
             }
            },
            "type": "table"
           }
          ]
         },
         "layout": {
          "annotationdefaults": {
           "arrowcolor": "#f2f5fa",
           "arrowhead": 0,
           "arrowwidth": 1
          },
          "autotypenumbers": "strict",
          "coloraxis": {
           "colorbar": {
            "outlinewidth": 0,
            "ticks": ""
           }
          },
          "colorscale": {
           "diverging": [
            [
             0,
             "#8e0152"
            ],
            [
             0.1,
             "#c51b7d"
            ],
            [
             0.2,
             "#de77ae"
            ],
            [
             0.3,
             "#f1b6da"
            ],
            [
             0.4,
             "#fde0ef"
            ],
            [
             0.5,
             "#f7f7f7"
            ],
            [
             0.6,
             "#e6f5d0"
            ],
            [
             0.7,
             "#b8e186"
            ],
            [
             0.8,
             "#7fbc41"
            ],
            [
             0.9,
             "#4d9221"
            ],
            [
             1,
             "#276419"
            ]
           ],
           "sequential": [
            [
             0,
             "#0d0887"
            ],
            [
             0.1111111111111111,
             "#46039f"
            ],
            [
             0.2222222222222222,
             "#7201a8"
            ],
            [
             0.3333333333333333,
             "#9c179e"
            ],
            [
             0.4444444444444444,
             "#bd3786"
            ],
            [
             0.5555555555555556,
             "#d8576b"
            ],
            [
             0.6666666666666666,
             "#ed7953"
            ],
            [
             0.7777777777777778,
             "#fb9f3a"
            ],
            [
             0.8888888888888888,
             "#fdca26"
            ],
            [
             1,
             "#f0f921"
            ]
           ],
           "sequentialminus": [
            [
             0,
             "#0d0887"
            ],
            [
             0.1111111111111111,
             "#46039f"
            ],
            [
             0.2222222222222222,
             "#7201a8"
            ],
            [
             0.3333333333333333,
             "#9c179e"
            ],
            [
             0.4444444444444444,
             "#bd3786"
            ],
            [
             0.5555555555555556,
             "#d8576b"
            ],
            [
             0.6666666666666666,
             "#ed7953"
            ],
            [
             0.7777777777777778,
             "#fb9f3a"
            ],
            [
             0.8888888888888888,
             "#fdca26"
            ],
            [
             1,
             "#f0f921"
            ]
           ]
          },
          "colorway": [
           "#636efa",
           "#EF553B",
           "#00cc96",
           "#ab63fa",
           "#FFA15A",
           "#19d3f3",
           "#FF6692",
           "#B6E880",
           "#FF97FF",
           "#FECB52"
          ],
          "font": {
           "color": "#f2f5fa"
          },
          "geo": {
           "bgcolor": "rgb(17,17,17)",
           "lakecolor": "rgb(17,17,17)",
           "landcolor": "rgb(17,17,17)",
           "showlakes": true,
           "showland": true,
           "subunitcolor": "#506784"
          },
          "hoverlabel": {
           "align": "left"
          },
          "hovermode": "closest",
          "mapbox": {
           "style": "dark"
          },
          "paper_bgcolor": "rgb(17,17,17)",
          "plot_bgcolor": "rgb(17,17,17)",
          "polar": {
           "angularaxis": {
            "gridcolor": "#506784",
            "linecolor": "#506784",
            "ticks": ""
           },
           "bgcolor": "rgb(17,17,17)",
           "radialaxis": {
            "gridcolor": "#506784",
            "linecolor": "#506784",
            "ticks": ""
           }
          },
          "scene": {
           "xaxis": {
            "backgroundcolor": "rgb(17,17,17)",
            "gridcolor": "#506784",
            "gridwidth": 2,
            "linecolor": "#506784",
            "showbackground": true,
            "ticks": "",
            "zerolinecolor": "#C8D4E3"
           },
           "yaxis": {
            "backgroundcolor": "rgb(17,17,17)",
            "gridcolor": "#506784",
            "gridwidth": 2,
            "linecolor": "#506784",
            "showbackground": true,
            "ticks": "",
            "zerolinecolor": "#C8D4E3"
           },
           "zaxis": {
            "backgroundcolor": "rgb(17,17,17)",
            "gridcolor": "#506784",
            "gridwidth": 2,
            "linecolor": "#506784",
            "showbackground": true,
            "ticks": "",
            "zerolinecolor": "#C8D4E3"
           }
          },
          "shapedefaults": {
           "line": {
            "color": "#f2f5fa"
           }
          },
          "sliderdefaults": {
           "bgcolor": "#C8D4E3",
           "bordercolor": "rgb(17,17,17)",
           "borderwidth": 1,
           "tickwidth": 0
          },
          "ternary": {
           "aaxis": {
            "gridcolor": "#506784",
            "linecolor": "#506784",
            "ticks": ""
           },
           "baxis": {
            "gridcolor": "#506784",
            "linecolor": "#506784",
            "ticks": ""
           },
           "bgcolor": "rgb(17,17,17)",
           "caxis": {
            "gridcolor": "#506784",
            "linecolor": "#506784",
            "ticks": ""
           }
          },
          "title": {
           "x": 0.05
          },
          "updatemenudefaults": {
           "bgcolor": "#506784",
           "borderwidth": 0
          },
          "xaxis": {
           "automargin": true,
           "gridcolor": "#283442",
           "linecolor": "#506784",
           "ticks": "",
           "title": {
            "standoff": 15
           },
           "zerolinecolor": "#283442",
           "zerolinewidth": 2
          },
          "yaxis": {
           "automargin": true,
           "gridcolor": "#283442",
           "linecolor": "#506784",
           "ticks": "",
           "title": {
            "standoff": 15
           },
           "zerolinecolor": "#283442",
           "zerolinewidth": 2
          }
         }
        }
       }
      }
     },
     "metadata": {},
     "output_type": "display_data"
    }
   ],
   "source": [
    "import pandas as pd\n",
    "import plotly.express as px\n",
    "import plotly.graph_objects as go\n",
    "\n",
    "#import pandas as pd\n",
    "import plotly.express as px\n",
    "import plotly.graph_objects as go\n",
    "\n",
    "# Assuming your dataframe is named df\n",
    "# df = pd.read_csv('your_file.csv')  # Uncomment and modify this line if you're reading from a CSV file\n",
    "\n",
    "# Customize Plotly theme\n",
    "theme = {'template': 'plotly_dark', 'paper_bgcolor': 'rgba(0,0,0,0)', 'plot_bgcolor': 'rgba(0,0,0,0)', 'font_color': 'white'}\n",
    "\n",
    "# Define colors for the plots\n",
    "rose_color = '#FF66CC'  # This is a shade of rose\n",
    "orange_color = '#FFA500'  # This is a shade of orange\n",
    "\n",
    "# 1. Age Distribution\n",
    "fig = px.histogram(df, x='Age', nbins=30, color_discrete_sequence=[rose_color])\n",
    "fig.update_layout(**theme)\n",
    "fig.show()\n",
    "\n",
    "# 2. Credit Amount Distribution\n",
    "fig = px.histogram(df, x='Credit amount', nbins=30, color_discrete_sequence=[orange_color])\n",
    "fig.update_layout(**theme)\n",
    "fig.show()\n",
    "\n",
    "# 3. Relationship Between Age and Credit Amount\n",
    "fig = px.scatter(df, x='Age', y='Credit amount', color_continuous_scale=[rose_color, orange_color])\n",
    "fig.update_layout(**theme)\n",
    "fig.show()\n",
    "\n",
    "# 4. Gender-Based Analysis\n",
    "fig = px.box(df, x='Sex', y='Credit amount', color='Sex', color_discrete_map={'male': orange_color, 'female': rose_color})\n",
    "fig.update_layout(**theme)\n",
    "fig.show()\n",
    "\n",
    "# 5. Job Category Analysis\n",
    "fig = px.box(df, x='Job', y='Credit amount', color='Job', color_discrete_sequence=[orange_color])\n",
    "fig.update_layout(**theme)\n",
    "fig.show()\n",
    "\n",
    "# 6. Housing Status Analysis\n",
    "fig = px.box(df, x='Housing', y='Credit amount', color='Housing', color_discrete_sequence=[rose_color])\n",
    "fig.update_layout(**theme)\n",
    "fig.show()\n",
    "\n",
    "# 7. Purpose of Credit\n",
    "fig = px.bar(df, y='Purpose', color='Purpose', color_discrete_sequence=px.colors.qualitative.Pastel)\n",
    "fig.update_layout(**theme)\n",
    "fig.show()\n",
    "\n",
    "# 8. Correlation Heatmap (Plotly version)\n",
    "numeric_df = df.select_dtypes(include=[float, int])\n",
    "corr = numeric_df.corr()\n",
    "fig = go.Figure(data=go.Heatmap(\n",
    "                   z=corr.values,\n",
    "                   x=corr.columns,\n",
    "                   y=corr.columns,\n",
    "                   colorscale=[[0, rose_color], [1, orange_color]],\n",
    "                   hoverongaps=False))\n",
    "fig.update_layout(**theme)\n",
    "fig.show()\n"
   ]
  },
  {
   "cell_type": "code",
   "execution_count": null,
   "metadata": {},
   "outputs": [],
   "source": []
  }
 ],
 "metadata": {
  "kernelspec": {
   "display_name": "Python 3",
   "language": "python",
   "name": "python3"
  },
  "language_info": {
   "codemirror_mode": {
    "name": "ipython",
    "version": 3
   },
   "file_extension": ".py",
   "mimetype": "text/x-python",
   "name": "python",
   "nbconvert_exporter": "python",
   "pygments_lexer": "ipython3",
   "version": "3.11.5"
  }
 },
 "nbformat": 4,
 "nbformat_minor": 2
}
